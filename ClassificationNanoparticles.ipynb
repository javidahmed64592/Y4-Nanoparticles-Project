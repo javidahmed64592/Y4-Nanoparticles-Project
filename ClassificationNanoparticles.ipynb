{
  "cells": [
    {
      "cell_type": "markdown",
      "metadata": {
        "id": "NkZPlLUc4JTP"
      },
      "source": [
        "## **Using a Convolutional Neural Network to Identify Simulated Nanoparticle Rotations | Regression Model**"
      ]
    },
    {
      "cell_type": "markdown",
      "metadata": {
        "id": "2YECQIh0_bMX"
      },
      "source": [
        "In this notebook, a convolutional neural network will be constructed and trained on images of simulated nanoparticles. The aim of the neural network is to correctly identify the rotations of these nanoparticles. TensorFlow2 and Keras will be used to create a classification model.\n",
        "\n",
        "All of my work can be found at https://github.com/javidahmed64592/Y4-Nanoparticles-Project."
      ]
    },
    {
      "cell_type": "markdown",
      "metadata": {
        "id": "JnFgi7sk4T-v"
      },
      "source": [
        "# Importing the relevant libraries."
      ]
    },
    {
      "cell_type": "code",
      "execution_count": null,
      "metadata": {
        "id": "0MK7RVpAuPwB"
      },
      "outputs": [],
      "source": [
        "import matplotlib.pyplot as plt\n",
        "import numpy as np\n",
        "import os\n",
        "import json\n",
        "from scipy.spatial.transform import Rotation as R\n",
        "\n",
        "import tensorflow as tf\n",
        "from tensorflow import keras\n",
        "from tensorflow.keras import layers\n",
        "from tensorflow.keras.models import Sequential"
      ]
    },
    {
      "cell_type": "markdown",
      "metadata": {
        "id": "t3TlTwFf4dqn"
      },
      "source": [
        "# Creating the dataset."
      ]
    },
    {
      "cell_type": "markdown",
      "metadata": {
        "id": "6AvkHYYz4YG1"
      },
      "source": [
        "The images will be loaded in from Google Drive."
      ]
    },
    {
      "cell_type": "code",
      "execution_count": null,
      "metadata": {
        "colab": {
          "base_uri": "https://localhost:8080/"
        },
        "id": "vwOmP2PQw3mt",
        "outputId": "3c7549ac-8832-439c-95f7-99e4831b1d6b"
      },
      "outputs": [
        {
          "name": "stdout",
          "output_type": "stream",
          "text": [
            "Mounted at /content/drive\n"
          ]
        }
      ],
      "source": [
        "from google.colab import drive\n",
        "drive_path = \"/content/drive\"\n",
        "drive.mount(drive_path)\n",
        "\n",
        "cwd = os.path.join(drive_path, \"MyDrive\", \"Nanoparticles\")\n",
        "folder_name = \"Tetras Centred RX 10-35 RY 10-35 Augmented\"\n",
        "direc = os.path.join(cwd, folder_name)"
      ]
    },
    {
      "cell_type": "markdown",
      "metadata": {
        "id": "bIfpcjOVSFu1"
      },
      "source": [
        "The following function creates a Tensorflow dataset from a specified folder. It resizes all images to the specified size and and loads them in as a grayscale image."
      ]
    },
    {
      "cell_type": "code",
      "execution_count": null,
      "metadata": {
        "id": "9YG3QTo9vdLk"
      },
      "outputs": [],
      "source": [
        "def create_dataset(directory, img_size=[64, 64], batch_size=32):\n",
        "  print(\"Assigning images to '%s' dataset...\" % (directory.split(\"/\")[-1]))\n",
        "  dataset = tf.keras.utils.image_dataset_from_directory(\n",
        "    directory,\n",
        "    seed=123,\n",
        "    image_size=img_size,\n",
        "    batch_size=batch_size,\n",
        "    color_mode='grayscale'\n",
        "  )\n",
        "  \n",
        "  return dataset"
      ]
    },
    {
      "cell_type": "markdown",
      "metadata": {
        "id": "GmPOD5XHAPmg"
      },
      "source": [
        "The required folder paths are specified, and the training and validation datasets are assigned. 80% of the images in total are used for training, and 20% for validation."
      ]
    },
    {
      "cell_type": "code",
      "execution_count": null,
      "metadata": {
        "id": "fewRo7gguZhc"
      },
      "outputs": [],
      "source": [
        "batch_size = 64\n",
        "img_size = [64, 64] # Image dimensions\n",
        "\n",
        "training_path = os.path.join(direc, \"Train\")\n",
        "validation_path = os.path.join(direc, \"Valid\")\n",
        "testing_path = os.path.join(direc, \"Test\")"
      ]
    },
    {
      "cell_type": "code",
      "execution_count": null,
      "metadata": {
        "colab": {
          "base_uri": "https://localhost:8080/"
        },
        "id": "rxCqX0Lfyt-n",
        "outputId": "e042f980-dbf9-49aa-c8c2-06ee741085d2"
      },
      "outputs": [
        {
          "name": "stdout",
          "output_type": "stream",
          "text": [
            "Assigning images to 'Train' dataset...\n",
            "Found 11664 files belonging to 36 classes.\n",
            "Assigning images to 'Valid' dataset...\n",
            "Found 2916 files belonging to 36 classes.\n"
          ]
        }
      ],
      "source": [
        "train_ds = create_dataset(training_path, img_size=img_size, batch_size=batch_size)\n",
        "valid_ds = create_dataset(validation_path, img_size=img_size, batch_size=batch_size)\n",
        "\n",
        "class_names = train_ds.class_names\n",
        "num_classes = len(class_names) # Number of categories"
      ]
    },
    {
      "cell_type": "code",
      "execution_count": null,
      "metadata": {
        "id": "QNIyT1FoAK10"
      },
      "outputs": [],
      "source": [
        "AUTOTUNE = tf.data.AUTOTUNE\n",
        "\n",
        "train_ds = train_ds.cache().shuffle(1000).prefetch(buffer_size=AUTOTUNE)\n",
        "valid_ds = valid_ds.cache().prefetch(buffer_size=AUTOTUNE)"
      ]
    },
    {
      "cell_type": "markdown",
      "metadata": {
        "id": "FwRtpPRYUc2y"
      },
      "source": [
        "The pixel values of each image are mapped to a float between 0 and 1. Random zooms are then applied for augmentation to increase the accuracy of the model."
      ]
    },
    {
      "cell_type": "code",
      "execution_count": null,
      "metadata": {
        "id": "lldO-TtVASRB"
      },
      "outputs": [],
      "source": [
        "data_augmentation = keras.Sequential(\n",
        "  [\n",
        "    layers.Rescaling(1./255, input_shape=(*img_size, 1)),\n",
        "    # layers.RandomFlip(\"horizontal\",\n",
        "    #                   input_shape=(*img_size,\n",
        "    #                               1)),\n",
        "    # layers.RandomRotation(0.1),\n",
        "    layers.RandomZoom(0.1),\n",
        "  ]\n",
        ")"
      ]
    },
    {
      "cell_type": "markdown",
      "metadata": {
        "id": "7K-TuGAN6SPs"
      },
      "source": [
        "# Creating the model."
      ]
    },
    {
      "cell_type": "markdown",
      "metadata": {
        "id": "ubqTUD9JYtyM"
      },
      "source": [
        "The following function shows the layers of the convolutional neural network."
      ]
    },
    {
      "cell_type": "code",
      "execution_count": null,
      "metadata": {
        "id": "w55ueKKJ4p9B"
      },
      "outputs": [],
      "source": [
        "def get_model(n_outputs):\n",
        "  model = Sequential([\n",
        "    data_augmentation,\n",
        "    layers.Conv2D(16, 3, padding='same', activation='relu', input_shape=(*img_size, 1), name='Convolution_16_3x3'),\n",
        "    layers.MaxPooling2D(pool_size=2, strides=2, name='Max_Pooling_2x2_Stride_2_1'),\n",
        "    layers.Conv2D(32, 3, padding='same', activation='relu', name='Convolution_32_3x3'),\n",
        "    layers.MaxPooling2D(pool_size=2, strides=2, name='Max_Pooling_2x2_Stride_2_2'),\n",
        "    layers.Conv2D(64, 3, padding='same', activation='relu', name='Convolution_64_3x3'),\n",
        "    layers.MaxPooling2D(pool_size=2, strides=2, name='Max_Pooling_2x2_Stride_2_3'),\n",
        "    layers.Dropout(0.2, name='Dropout_20'),\n",
        "    layers.Flatten(name='Flatten'),\n",
        "    layers.Dense(img_size[0], activation='relu', kernel_initializer='he_uniform', name='Dense_%s' % img_size[0]),\n",
        "    layers.Dense(n_outputs, kernel_initializer='he_uniform', name='Dense_%s' % n_outputs)\n",
        "  ])\n",
        "\n",
        "  return model"
      ]
    },
    {
      "cell_type": "markdown",
      "metadata": {
        "id": "Zra6z3IU6ULQ"
      },
      "source": [
        "The model is created and compiled using mean squared error for the loss."
      ]
    },
    {
      "cell_type": "code",
      "execution_count": null,
      "metadata": {
        "colab": {
          "base_uri": "https://localhost:8080/"
        },
        "id": "t25DVAqEujzo",
        "outputId": "c8c1dc00-f489-4c83-b77e-0cbabec110b8"
      },
      "outputs": [
        {
          "name": "stdout",
          "output_type": "stream",
          "text": [
            "Model: \"Nanoparticle_Classification\"\n",
            "_________________________________________________________________\n",
            " Layer (type)                Output Shape              Param #   \n",
            "=================================================================\n",
            " sequential (Sequential)     (None, 64, 64, 1)         0         \n",
            "                                                                 \n",
            " Convolution_16_3x3 (Conv2D)  (None, 64, 64, 16)       160       \n",
            "                                                                 \n",
            " Max_Pooling_2x2_Stride_2_1   (None, 32, 32, 16)       0         \n",
            " (MaxPooling2D)                                                  \n",
            "                                                                 \n",
            " Convolution_32_3x3 (Conv2D)  (None, 32, 32, 32)       4640      \n",
            "                                                                 \n",
            " Max_Pooling_2x2_Stride_2_2   (None, 16, 16, 32)       0         \n",
            " (MaxPooling2D)                                                  \n",
            "                                                                 \n",
            " Convolution_64_3x3 (Conv2D)  (None, 16, 16, 64)       18496     \n",
            "                                                                 \n",
            " Max_Pooling_2x2_Stride_2_3   (None, 8, 8, 64)         0         \n",
            " (MaxPooling2D)                                                  \n",
            "                                                                 \n",
            " Dropout_20 (Dropout)        (None, 8, 8, 64)          0         \n",
            "                                                                 \n",
            " Flatten (Flatten)           (None, 4096)              0         \n",
            "                                                                 \n",
            " Dense_64 (Dense)            (None, 64)                262208    \n",
            "                                                                 \n",
            " Dense_36 (Dense)            (None, 36)                2340      \n",
            "                                                                 \n",
            "=================================================================\n",
            "Total params: 287,844\n",
            "Trainable params: 287,844\n",
            "Non-trainable params: 0\n",
            "_________________________________________________________________\n"
          ]
        }
      ],
      "source": [
        "model = get_model(num_classes)\n",
        "model._name = \"Nanoparticle_Classification\"\n",
        "\n",
        "model.compile(optimizer='adam',\n",
        "              loss=tf.keras.losses.SparseCategoricalCrossentropy(from_logits=True),\n",
        "              metrics=['accuracy'])\n",
        "\n",
        "model.summary()"
      ]
    },
    {
      "cell_type": "markdown",
      "metadata": {
        "id": "22WvaaGM6WVy"
      },
      "source": [
        "# Training the model."
      ]
    },
    {
      "cell_type": "markdown",
      "metadata": {
        "id": "3-WaEuxiY460"
      },
      "source": [
        "The model is trained for 50 epochs."
      ]
    },
    {
      "cell_type": "code",
      "execution_count": null,
      "metadata": {
        "colab": {
          "base_uri": "https://localhost:8080/"
        },
        "id": "XCyYuD5junFO",
        "outputId": "b9d9998e-c0a4-4352-a15e-3c5b8149da4c"
      },
      "outputs": [
        {
          "name": "stdout",
          "output_type": "stream",
          "text": [
            "Epoch 1/50\n",
            "183/183 [==============================] - 1477s 2s/step - loss: 2.3639 - accuracy: 0.3005 - val_loss: 0.8875 - val_accuracy: 0.6382\n",
            "Epoch 2/50\n",
            "183/183 [==============================] - 46s 250ms/step - loss: 0.4688 - accuracy: 0.8543 - val_loss: 0.1279 - val_accuracy: 0.9746\n",
            "Epoch 3/50\n",
            "183/183 [==============================] - 45s 249ms/step - loss: 0.1982 - accuracy: 0.9429 - val_loss: 0.2369 - val_accuracy: 0.9246\n",
            "Epoch 4/50\n",
            "183/183 [==============================] - 49s 267ms/step - loss: 0.1100 - accuracy: 0.9684 - val_loss: 0.0256 - val_accuracy: 0.9966\n",
            "Epoch 5/50\n",
            "183/183 [==============================] - 46s 253ms/step - loss: 0.0626 - accuracy: 0.9835 - val_loss: 0.0136 - val_accuracy: 0.9976\n",
            "Epoch 6/50\n",
            "183/183 [==============================] - 46s 254ms/step - loss: 0.0633 - accuracy: 0.9809 - val_loss: 0.0279 - val_accuracy: 0.9942\n",
            "Epoch 7/50\n",
            "183/183 [==============================] - 46s 250ms/step - loss: 0.0403 - accuracy: 0.9895 - val_loss: 0.0303 - val_accuracy: 0.9890\n",
            "Epoch 8/50\n",
            "183/183 [==============================] - 45s 248ms/step - loss: 0.0327 - accuracy: 0.9913 - val_loss: 0.0031 - val_accuracy: 0.9997\n",
            "Epoch 9/50\n",
            "183/183 [==============================] - 46s 249ms/step - loss: 0.0218 - accuracy: 0.9935 - val_loss: 0.0050 - val_accuracy: 0.9993\n",
            "Epoch 10/50\n",
            "183/183 [==============================] - 45s 249ms/step - loss: 0.0551 - accuracy: 0.9841 - val_loss: 0.0086 - val_accuracy: 0.9997\n",
            "Epoch 11/50\n",
            "183/183 [==============================] - 46s 249ms/step - loss: 0.0177 - accuracy: 0.9950 - val_loss: 0.0051 - val_accuracy: 0.9997\n",
            "Epoch 12/50\n",
            "183/183 [==============================] - 45s 247ms/step - loss: 0.0407 - accuracy: 0.9882 - val_loss: 0.0779 - val_accuracy: 0.9681\n",
            "Epoch 13/50\n",
            "183/183 [==============================] - 46s 249ms/step - loss: 0.0184 - accuracy: 0.9953 - val_loss: 0.0018 - val_accuracy: 0.9997\n",
            "Epoch 14/50\n",
            "183/183 [==============================] - 46s 249ms/step - loss: 0.0276 - accuracy: 0.9902 - val_loss: 0.0178 - val_accuracy: 0.9925\n",
            "Epoch 15/50\n",
            "183/183 [==============================] - 45s 247ms/step - loss: 0.0317 - accuracy: 0.9891 - val_loss: 0.0042 - val_accuracy: 0.9997\n",
            "Epoch 16/50\n",
            "183/183 [==============================] - 45s 248ms/step - loss: 0.0062 - accuracy: 0.9995 - val_loss: 9.1704e-04 - val_accuracy: 0.9997\n",
            "Epoch 17/50\n",
            "183/183 [==============================] - 45s 248ms/step - loss: 0.0244 - accuracy: 0.9934 - val_loss: 0.0051 - val_accuracy: 0.9979\n",
            "Epoch 18/50\n",
            "183/183 [==============================] - 45s 248ms/step - loss: 0.0472 - accuracy: 0.9858 - val_loss: 0.0486 - val_accuracy: 0.9798\n",
            "Epoch 19/50\n",
            "183/183 [==============================] - 45s 247ms/step - loss: 0.0159 - accuracy: 0.9954 - val_loss: 0.0017 - val_accuracy: 0.9997\n",
            "Epoch 20/50\n",
            "183/183 [==============================] - 45s 248ms/step - loss: 0.0051 - accuracy: 0.9986 - val_loss: 4.4285e-04 - val_accuracy: 1.0000\n",
            "Epoch 21/50\n",
            "183/183 [==============================] - 46s 250ms/step - loss: 0.0123 - accuracy: 0.9966 - val_loss: 0.0037 - val_accuracy: 0.9990\n",
            "Epoch 22/50\n",
            "183/183 [==============================] - 46s 249ms/step - loss: 0.0269 - accuracy: 0.9929 - val_loss: 6.1227e-04 - val_accuracy: 1.0000\n",
            "Epoch 23/50\n",
            "183/183 [==============================] - 45s 248ms/step - loss: 0.0065 - accuracy: 0.9982 - val_loss: 0.0015 - val_accuracy: 0.9997\n",
            "Epoch 24/50\n",
            "183/183 [==============================] - 46s 249ms/step - loss: 0.0308 - accuracy: 0.9908 - val_loss: 0.0018 - val_accuracy: 0.9997\n",
            "Epoch 25/50\n",
            "183/183 [==============================] - 46s 251ms/step - loss: 0.0077 - accuracy: 0.9979 - val_loss: 7.9687e-04 - val_accuracy: 1.0000\n",
            "Epoch 26/50\n",
            "183/183 [==============================] - 46s 249ms/step - loss: 0.0050 - accuracy: 0.9989 - val_loss: 9.0638e-04 - val_accuracy: 1.0000\n",
            "Epoch 27/50\n",
            "183/183 [==============================] - 45s 248ms/step - loss: 0.0157 - accuracy: 0.9951 - val_loss: 0.0090 - val_accuracy: 0.9969\n",
            "Epoch 28/50\n",
            "183/183 [==============================] - 45s 248ms/step - loss: 0.0114 - accuracy: 0.9962 - val_loss: 0.0013 - val_accuracy: 0.9997\n",
            "Epoch 29/50\n",
            "183/183 [==============================] - 46s 250ms/step - loss: 0.0072 - accuracy: 0.9977 - val_loss: 0.0043 - val_accuracy: 0.9993\n",
            "Epoch 30/50\n",
            "183/183 [==============================] - 46s 251ms/step - loss: 0.0122 - accuracy: 0.9963 - val_loss: 0.0012 - val_accuracy: 0.9997\n",
            "Epoch 31/50\n",
            "183/183 [==============================] - 45s 248ms/step - loss: 0.0383 - accuracy: 0.9883 - val_loss: 0.0032 - val_accuracy: 0.9990\n",
            "Epoch 32/50\n",
            "183/183 [==============================] - 45s 247ms/step - loss: 0.0045 - accuracy: 0.9987 - val_loss: 0.0017 - val_accuracy: 0.9997\n",
            "Epoch 33/50\n",
            "183/183 [==============================] - 45s 248ms/step - loss: 0.0058 - accuracy: 0.9981 - val_loss: 5.9782e-04 - val_accuracy: 1.0000\n",
            "Epoch 34/50\n",
            "183/183 [==============================] - 45s 248ms/step - loss: 0.0079 - accuracy: 0.9979 - val_loss: 0.0017 - val_accuracy: 1.0000\n",
            "Epoch 35/50\n",
            "183/183 [==============================] - 46s 249ms/step - loss: 0.0193 - accuracy: 0.9949 - val_loss: 0.0209 - val_accuracy: 0.9942\n",
            "Epoch 36/50\n",
            "183/183 [==============================] - 45s 248ms/step - loss: 0.0133 - accuracy: 0.9959 - val_loss: 5.1200e-04 - val_accuracy: 1.0000\n",
            "Epoch 37/50\n",
            "183/183 [==============================] - 45s 248ms/step - loss: 0.0041 - accuracy: 0.9985 - val_loss: 0.0364 - val_accuracy: 0.9901\n",
            "Epoch 38/50\n",
            "183/183 [==============================] - 45s 248ms/step - loss: 0.0015 - accuracy: 0.9997 - val_loss: 5.2932e-05 - val_accuracy: 1.0000\n",
            "Epoch 39/50\n",
            "183/183 [==============================] - 45s 247ms/step - loss: 0.0076 - accuracy: 0.9978 - val_loss: 4.4749e-04 - val_accuracy: 1.0000\n",
            "Epoch 40/50\n",
            "183/183 [==============================] - 45s 249ms/step - loss: 9.5574e-04 - accuracy: 0.9998 - val_loss: 1.0183e-04 - val_accuracy: 1.0000\n",
            "Epoch 41/50\n",
            "183/183 [==============================] - 45s 248ms/step - loss: 0.0032 - accuracy: 0.9991 - val_loss: 0.0013 - val_accuracy: 0.9993\n",
            "Epoch 42/50\n",
            "183/183 [==============================] - 46s 249ms/step - loss: 0.0019 - accuracy: 0.9995 - val_loss: 1.8232e-04 - val_accuracy: 1.0000\n",
            "Epoch 43/50\n",
            "183/183 [==============================] - 45s 248ms/step - loss: 0.0284 - accuracy: 0.9910 - val_loss: 3.9565e-04 - val_accuracy: 1.0000\n",
            "Epoch 44/50\n",
            "183/183 [==============================] - 45s 247ms/step - loss: 0.0288 - accuracy: 0.9934 - val_loss: 4.1120e-04 - val_accuracy: 1.0000\n",
            "Epoch 45/50\n",
            "183/183 [==============================] - 45s 248ms/step - loss: 0.0010 - accuracy: 0.9998 - val_loss: 4.6514e-04 - val_accuracy: 0.9997\n",
            "Epoch 46/50\n",
            "183/183 [==============================] - 46s 249ms/step - loss: 8.5881e-04 - accuracy: 0.9998 - val_loss: 7.5359e-04 - val_accuracy: 0.9997\n",
            "Epoch 47/50\n",
            "183/183 [==============================] - 46s 253ms/step - loss: 3.8225e-04 - accuracy: 1.0000 - val_loss: 1.4497e-04 - val_accuracy: 1.0000\n",
            "Epoch 48/50\n",
            "183/183 [==============================] - 46s 250ms/step - loss: 5.6694e-04 - accuracy: 1.0000 - val_loss: 9.4983e-04 - val_accuracy: 0.9997\n",
            "Epoch 49/50\n",
            "183/183 [==============================] - 46s 250ms/step - loss: 0.0190 - accuracy: 0.9957 - val_loss: 0.0111 - val_accuracy: 0.9976\n",
            "Epoch 50/50\n",
            "183/183 [==============================] - 46s 249ms/step - loss: 0.0182 - accuracy: 0.9940 - val_loss: 0.0182 - val_accuracy: 0.9921\n"
          ]
        }
      ],
      "source": [
        "epochs = 50\n",
        "history = model.fit(\n",
        "  train_ds,\n",
        "  validation_data=valid_ds,\n",
        "  epochs=epochs\n",
        ")"
      ]
    },
    {
      "cell_type": "markdown",
      "metadata": {
        "id": "vPIntFKL6ZtC"
      },
      "source": [
        "Visualising the training results."
      ]
    },
    {
      "cell_type": "code",
      "execution_count": null,
      "metadata": {
        "colab": {
          "base_uri": "https://localhost:8080/"
        },
        "id": "umOL4BY7up6Y",
        "outputId": "d9bacdc9-492a-4fbe-9508-ad594045ba23"
      },
      "outputs": [
        {
          "data": {
            "image/png": "[encoded data removed]",
            "text/plain": [
              "<Figure size 864x288 with 2 Axes>"
            ]
          },
          "metadata": {},
          "output_type": "display_data"
        }
      ],
      "source": [
        "acc = np.array(history.history['accuracy'])\n",
        "val_acc = np.array(history.history['val_accuracy'])\n",
        "\n",
        "loss = np.array(history.history['loss'])\n",
        "val_loss = np.array(history.history['val_loss'])\n",
        "\n",
        "epochs_range = range(epochs)\n",
        "\n",
        "plt.figure(figsize=(12, 4))\n",
        "plt.subplot(1, 2, 1)\n",
        "plt.plot(epochs_range, acc * 100, label='Training Accuracy')\n",
        "plt.plot(epochs_range, val_acc * 100, label='Validation Accuracy')\n",
        "plt.legend(loc='lower right')\n",
        "plt.xlabel(\"Epoch number\")\n",
        "plt.ylabel(\"Percentage accuracy (%)\")\n",
        "plt.title(\"Training and Validation Accuracy\")\n",
        "\n",
        "plt.subplot(1, 2, 2)\n",
        "plt.plot(epochs_range, loss, label='Training Loss')\n",
        "plt.plot(epochs_range, val_loss, label='Validation Loss')\n",
        "plt.legend(loc='upper right')\n",
        "plt.xlabel(\"Epoch number\")\n",
        "plt.ylabel(\"Loss\")\n",
        "plt.title(\"Training and Validation Loss\")\n",
        "plt.show()"
      ]
    },
    {
      "cell_type": "markdown",
      "metadata": {
        "id": "07jMKhv-6dLL"
      },
      "source": [
        "# Predicting an image."
      ]
    },
    {
      "cell_type": "markdown",
      "metadata": {
        "id": "f-K7UZJUcSIn"
      },
      "source": [
        "The rotations are applied to the nanoparticles using 3x3 rotation matrices. The Gram–Schmidt process can then be used to represent this 3x3 matrix in 6D. The following function converts this 6D representation back into a matrix from which the Euler angles can be calculated."
      ]
    },
    {
      "cell_type": "code",
      "execution_count": null,
      "metadata": {
        "id": "wkFsKA53EHgU"
      },
      "outputs": [],
      "source": [
        "def calculate_euler(label):\n",
        "  rotation = np.asarray(label).reshape((2, 3)).T\n",
        "  v1 = rotation[:, 0]\n",
        "  v2 = rotation[:, 1]\n",
        "\n",
        "  e1 = v1 / np.linalg.norm(v1)\n",
        "\n",
        "  u2 = v2 - ((e1 * v2) * e1)\n",
        "  e2 = u2 / np.linalg.norm(u2)\n",
        "\n",
        "  e3 = np.cross(e1, e2) \n",
        "\n",
        "  rotation = np.vstack((e1, e2, e3)).T\n",
        "  rotation_euler = R.from_matrix(rotation).as_euler(\"xyz\", degrees=True)\n",
        "\n",
        "  return rotation_euler"
      ]
    },
    {
      "cell_type": "markdown",
      "metadata": {
        "id": "O1ZnYKfJckA8"
      },
      "source": [
        "The following function adds an entry to the prediction dictionary (used to sort and analyse the results from the model's predictions) if it does not exist, or adds the value to the corresponding key otherwise."
      ]
    },
    {
      "cell_type": "code",
      "execution_count": null,
      "metadata": {
        "id": "qJpFzwfaJ-_t"
      },
      "outputs": [],
      "source": [
        "def add_to_predict_dict(prediction_dict, key, value):\n",
        "  try:\n",
        "    prediction_dict[key] += value\n",
        "  except KeyError:\n",
        "    prediction_dict[key] = value\n",
        "\n",
        "  return prediction_dict"
      ]
    },
    {
      "cell_type": "markdown",
      "metadata": {
        "id": "8RX05v8kczMY"
      },
      "source": [
        "The following function takes an image path as an input and also the prediction dictionary. It then uses the neural network to predict the image and adds that prediction to the dictionary."
      ]
    },
    {
      "cell_type": "code",
      "execution_count": null,
      "metadata": {
        "id": "oC5OucHX6fDy"
      },
      "outputs": [],
      "source": [
        "rx_names = []\n",
        "ry_names = []\n",
        "\n",
        "def predict_image(img_path, prediction_dict):\n",
        "  img = tf.keras.utils.load_img(\n",
        "      img_path, target_size=img_size, color_mode=\"grayscale\"\n",
        "  )\n",
        "  img_array = tf.keras.utils.img_to_array(img)\n",
        "  img_array = tf.expand_dims(img_array, 0) # Create a batch\n",
        "\n",
        "  predictions = model.predict(img_array)\n",
        "  score = tf.nn.softmax(predictions[0])\n",
        "  prediction = json.loads(class_names[np.argmax(score)])\n",
        "\n",
        "  # Format: Shape W RX RY RZ\n",
        "  img_name_split = img_path.split(\"/\")[-1].split() # Splits file name of image up\n",
        "  \n",
        "  actual_rx = img_name_split[2]\n",
        "  if actual_rx not in rx_names:\n",
        "    rx_names.append(actual_rx)\n",
        "\n",
        "  actual_ry = img_name_split[3]\n",
        "  if actual_ry not in ry_names:\n",
        "    ry_names.append(actual_ry)\n",
        "\n",
        "  prediction = calculate_euler(prediction)\n",
        "\n",
        "  predicted_rx = \"RX%s\" % int(prediction[0])\n",
        "  predicted_ry = \"RY%s\" % int(prediction[1])\n",
        "\n",
        "  # print(\"Actual: \\t%s \\t| Predicted: \\t%s\" % (actual_rx, predicted_rx))\n",
        "\n",
        "  # Append the results to the prediction dictionary\n",
        "  dif_rx = abs(int(actual_rx[2:]) - int(predicted_rx[2:]))\n",
        "  prediction_dict = add_to_predict_dict(prediction_dict, actual_rx + \" DIF\", dif_rx)\n",
        "  prediction_dict = add_to_predict_dict(prediction_dict, actual_rx + \" TOT\", 1)\n",
        "\n",
        "  dif_ry = abs(int(actual_ry[2:]) - int(predicted_ry[2:]))\n",
        "  prediction_dict = add_to_predict_dict(prediction_dict, actual_ry + \" DIF\", dif_ry)\n",
        "  prediction_dict = add_to_predict_dict(prediction_dict, actual_ry + \" TOT\", 1)\n",
        "\n",
        "  return prediction_dict"
      ]
    },
    {
      "cell_type": "code",
      "execution_count": null,
      "metadata": {
        "colab": {
          "background_save": true
        },
        "id": "C0I2r6xRfgmF"
      },
      "outputs": [],
      "source": [
        "predict_dictionary = {}\n",
        "\n",
        "for rotation in os.listdir(testing_path):\n",
        "  rotation_path = os.path.join(testing_path, rotation)\n",
        "  for img in os.listdir(rotation_path):\n",
        "    img_path = os.path.join(rotation_path, img)\n",
        "    predict_dictionary = predict_image(img_path, predict_dictionary)"
      ]
    },
    {
      "cell_type": "markdown",
      "metadata": {
        "id": "TBlpOimAdd3P"
      },
      "source": [
        "The results from the prediction dictionary will be represented as percentages as well as absolute difference between the true rotation of the nanoparticle and the predicted rotation."
      ]
    },
    {
      "cell_type": "code",
      "execution_count": null,
      "metadata": {
        "colab": {
          "background_save": true
        },
        "id": "jQGvBIlnN5Qs"
      },
      "outputs": [],
      "source": [
        "def calculate_percentage_correct(rotation_key):\n",
        "  temp_dif = predict_dictionary[rotation_key + \" DIF\"]\n",
        "  total = predict_dictionary[rotation_key + \" TOT\"]\n",
        "\n",
        "  dif = temp_dif / total\n",
        "\n",
        "  return dif"
      ]
    },
    {
      "cell_type": "code",
      "execution_count": null,
      "metadata": {
        "colab": {
          "background_save": true
        },
        "id": "T4bFyMlfuqIE"
      },
      "outputs": [],
      "source": [
        "dif_x = []\n",
        "dif_y = []\n",
        "\n",
        "for rx in rx_names:\n",
        "  dif_x.append(calculate_percentage_correct(rx))\n",
        "\n",
        "for ry in ry_names:\n",
        "  dif_y.append(calculate_percentage_correct(ry))"
      ]
    },
    {
      "cell_type": "markdown",
      "metadata": {
        "id": "Zn72CwbJnVkr"
      },
      "source": [
        "Sorting the results in order of increasing angle."
      ]
    },
    {
      "cell_type": "code",
      "execution_count": null,
      "metadata": {
        "colab": {
          "background_save": true
        },
        "id": "MOlo7-zWnRxB"
      },
      "outputs": [],
      "source": [
        "ordered_rx = []\n",
        "ordered_ry = []\n",
        "\n",
        "for rotation in rx_names:\n",
        "  ordered_rx.append(int(rotation[2:]))\n",
        "\n",
        "order_x = list(np.argsort(np.asarray(ordered_rx)))\n",
        "ordered_names_x = np.array(rx_names)[order_x]\n",
        "ordered_dif_x = np.array(dif_x)[order_x]\n",
        "\n",
        "for rotation in ry_names:\n",
        "  ordered_ry.append(int(rotation[2:]))\n",
        "\n",
        "order_y = list(np.argsort(np.asarray(ordered_ry)))\n",
        "ordered_names_y = np.array(ry_names)[order_y]\n",
        "ordered_dif_y = np.array(dif_y)[order_y]"
      ]
    },
    {
      "cell_type": "markdown",
      "metadata": {
        "id": "91-d9VXSnbkb"
      },
      "source": [
        "Visualising how accurately the model predicts rotations."
      ]
    },
    {
      "cell_type": "code",
      "execution_count": null,
      "metadata": {
        "colab": {
          "background_save": true
        },
        "id": "JEmGzbfSEREo",
        "outputId": "2fe4c21a-d164-460b-ceeb-033ebf0c9c59"
      },
      "outputs": [
        {
          "data": {
            "image/png": "[encoded data removed]",
            "text/plain": [
              "<Figure size 1080x864 with 2 Axes>"
            ]
          },
          "metadata": {},
          "output_type": "display_data"
        }
      ],
      "source": [
        "bar_width = 0.2 \n",
        "x = np.arange(len(ordered_names_x))\n",
        "\n",
        "plt.figure(figsize=(15, 12))\n",
        "plt.subplot(211)\n",
        "plt.plot(x, ordered_dif_x, label=\"Average absolute difference RX\")\n",
        "plt.hlines(np.mean(ordered_dif_x), x[0]-bar_width, x[-1]+bar_width,\n",
        "           color=\"y\", label = \"Average difference of all rotations\")\n",
        "plt.xlabel(\"Actual rotation (θ)\")\n",
        "plt.xticks(x, ordered_names_x)\n",
        "plt.ylabel(\"Difference in angle (θ)\")\n",
        "plt.xlim([x[0], x[-1]])\n",
        "plt.ylim([0, np.max(ordered_dif_x) + 1])\n",
        "plt.legend(loc=\"best\")\n",
        "plt.title(\"Average Absolute Error RX | %s\" % folder_name)\n",
        "\n",
        "plt.subplot(212)\n",
        "plt.plot(x, ordered_dif_y, label=\"Average absolute difference RY\")\n",
        "plt.hlines(np.mean(ordered_dif_y), x[0]-bar_width, x[-1]+bar_width,\n",
        "           color=\"y\", label = \"Average difference of all rotations\")\n",
        "plt.xlabel(\"Actual rotation (θ)\")\n",
        "plt.xticks(x, ordered_names_y)\n",
        "plt.ylabel(\"Difference in angle (θ)\")\n",
        "plt.xlim([x[0], x[-1]])\n",
        "plt.ylim([0, np.max(ordered_dif_y) + 1])\n",
        "plt.legend(loc=\"best\")\n",
        "plt.title(\"Average Absolute Error RY | %s\" % folder_name)\n",
        "\n",
        "plt.show()"
      ]
    }
  ],
  "metadata": {
    "colab": {
      "collapsed_sections": [],
      "name": "ClassificationNanoparticles.ipynb",
      "provenance": []
    },
    "kernelspec": {
      "display_name": "Python 3",
      "name": "python3"
    },
    "language_info": {
      "name": "python"
    }
  },
  "nbformat": 4,
  "nbformat_minor": 0
}