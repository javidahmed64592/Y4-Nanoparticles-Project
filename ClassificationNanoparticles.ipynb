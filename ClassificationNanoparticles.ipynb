{
  "cells": [
    {
      "cell_type": "markdown",
      "metadata": {
        "id": "NkZPlLUc4JTP"
      },
      "source": [
        "## **Using a Convolutional Neural Network to Identify Simulated Nanoparticle Rotations | Regression Model**"
      ]
    },
    {
      "cell_type": "markdown",
      "metadata": {
        "id": "2YECQIh0_bMX"
      },
      "source": [
        "In this notebook, a convolutional neural network will be constructed and trained on images of simulated nanoparticles. The aim of the neural network is to correctly identify the rotations of these nanoparticles. TensorFlow2 and Keras will be used to create a classification model.\n",
        "\n",
        "All of my work can be found at https://github.com/javidahmed64592/Y4-Nanoparticles-Project."
      ]
    },
    {
      "cell_type": "markdown",
      "metadata": {
        "id": "JnFgi7sk4T-v"
      },
      "source": [
        "# Importing the relevant libraries."
      ]
    },
    {
      "cell_type": "code",
      "execution_count": 1,
      "metadata": {
        "id": "0MK7RVpAuPwB"
      },
      "outputs": [],
      "source": [
        "import matplotlib.pyplot as plt\n",
        "import numpy as np\n",
        "import os\n",
        "import json\n",
        "from scipy.spatial.transform import Rotation as R\n",
        "\n",
        "import tensorflow as tf\n",
        "from tensorflow import keras\n",
        "from tensorflow.keras import layers\n",
        "from tensorflow.keras.models import Sequential"
      ]
    },
    {
      "cell_type": "markdown",
      "metadata": {
        "id": "t3TlTwFf4dqn"
      },
      "source": [
        "# Creating the dataset."
      ]
    },
    {
      "cell_type": "markdown",
      "metadata": {
        "id": "6AvkHYYz4YG1"
      },
      "source": [
        "The images will be loaded in from Google Drive."
      ]
    },
    {
      "cell_type": "code",
      "execution_count": 2,
      "metadata": {
        "colab": {
          "base_uri": "https://localhost:8080/"
        },
        "id": "vwOmP2PQw3mt",
        "outputId": "15e8d765-2eb8-4bdd-97df-90e065dbb8c7"
      },
      "outputs": [
        {
          "output_type": "stream",
          "name": "stdout",
          "text": [
            "Mounted at /content/drive\n"
          ]
        }
      ],
      "source": [
        "from google.colab import drive\n",
        "drive_path = \"/content/drive\"\n",
        "drive.mount(drive_path)\n",
        "\n",
        "cwd = os.path.join(drive_path, \"MyDrive\", \"Nanoparticles\")\n",
        "folder_name = \"Tetras Centred RX 0-90 RY 0-90 Augmented\"\n",
        "direc = os.path.join(cwd, folder_name)"
      ]
    },
    {
      "cell_type": "markdown",
      "metadata": {
        "id": "bIfpcjOVSFu1"
      },
      "source": [
        "The following function creates a Tensorflow dataset from a specified folder. It resizes all images to the specified size and and loads them in as a grayscale image."
      ]
    },
    {
      "cell_type": "code",
      "execution_count": 3,
      "metadata": {
        "id": "9YG3QTo9vdLk"
      },
      "outputs": [],
      "source": [
        "def create_dataset(directory, img_size=[64, 64], batch_size=32):\n",
        "  print(\"Assigning images to '%s' dataset...\" % (directory.split(\"/\")[-1]))\n",
        "  dataset = tf.keras.utils.image_dataset_from_directory(\n",
        "    directory,\n",
        "    seed=123,\n",
        "    image_size=img_size,\n",
        "    batch_size=batch_size,\n",
        "    color_mode='grayscale'\n",
        "  )\n",
        "  \n",
        "  return dataset"
      ]
    },
    {
      "cell_type": "markdown",
      "metadata": {
        "id": "GmPOD5XHAPmg"
      },
      "source": [
        "The required folder paths are specified, and the training and validation datasets are assigned. 80% of the images in total are used for training, and 20% for validation."
      ]
    },
    {
      "cell_type": "code",
      "execution_count": 4,
      "metadata": {
        "id": "fewRo7gguZhc"
      },
      "outputs": [],
      "source": [
        "batch_size = 64\n",
        "img_size = [64, 64] # Image dimensions\n",
        "\n",
        "training_path = os.path.join(direc, \"Train\")\n",
        "validation_path = os.path.join(direc, \"Valid\")\n",
        "testing_path = os.path.join(direc, \"Test\")"
      ]
    },
    {
      "cell_type": "code",
      "execution_count": 5,
      "metadata": {
        "colab": {
          "base_uri": "https://localhost:8080/"
        },
        "id": "rxCqX0Lfyt-n",
        "outputId": "5bfe43dd-f7dc-4509-a1cf-4a51c0cc3f07"
      },
      "outputs": [
        {
          "output_type": "stream",
          "name": "stdout",
          "text": [
            "Assigning images to 'Train' dataset...\n",
            "Found 14112 files belonging to 49 classes.\n",
            "Assigning images to 'Valid' dataset...\n",
            "Found 3528 files belonging to 49 classes.\n"
          ]
        }
      ],
      "source": [
        "train_ds = create_dataset(training_path, img_size=img_size, batch_size=batch_size)\n",
        "valid_ds = create_dataset(validation_path, img_size=img_size, batch_size=batch_size)\n",
        "\n",
        "class_names = train_ds.class_names\n",
        "num_classes = len(class_names) # Number of categories"
      ]
    },
    {
      "cell_type": "code",
      "execution_count": 6,
      "metadata": {
        "id": "QNIyT1FoAK10"
      },
      "outputs": [],
      "source": [
        "AUTOTUNE = tf.data.AUTOTUNE\n",
        "\n",
        "train_ds = train_ds.cache().shuffle(1000).prefetch(buffer_size=AUTOTUNE)\n",
        "valid_ds = valid_ds.cache().prefetch(buffer_size=AUTOTUNE)"
      ]
    },
    {
      "cell_type": "markdown",
      "metadata": {
        "id": "FwRtpPRYUc2y"
      },
      "source": [
        "The pixel values of each image are mapped to a float between 0 and 1. Random zooms are then applied for augmentation to increase the accuracy of the model."
      ]
    },
    {
      "cell_type": "code",
      "execution_count": 7,
      "metadata": {
        "id": "lldO-TtVASRB"
      },
      "outputs": [],
      "source": [
        "data_augmentation = keras.Sequential(\n",
        "  [\n",
        "    layers.Rescaling(1./255, input_shape=(*img_size, 1)),\n",
        "    # layers.RandomFlip(\"horizontal\",\n",
        "    #                   input_shape=(*img_size,\n",
        "    #                               1)),\n",
        "    # layers.RandomRotation(0.1),\n",
        "    layers.RandomZoom(0.1),\n",
        "  ]\n",
        ")"
      ]
    },
    {
      "cell_type": "markdown",
      "metadata": {
        "id": "7K-TuGAN6SPs"
      },
      "source": [
        "# Creating the model."
      ]
    },
    {
      "cell_type": "markdown",
      "metadata": {
        "id": "ubqTUD9JYtyM"
      },
      "source": [
        "The following function shows the layers of the convolutional neural network."
      ]
    },
    {
      "cell_type": "code",
      "execution_count": 8,
      "metadata": {
        "id": "w55ueKKJ4p9B"
      },
      "outputs": [],
      "source": [
        "def get_model(n_outputs):\n",
        "  model = Sequential([\n",
        "    data_augmentation,\n",
        "    layers.Conv2D(16, 3, padding='same', activation='relu', input_shape=(*img_size, 1), name='Convolution_16_3x3'),\n",
        "    layers.MaxPooling2D(pool_size=2, strides=2, name='Max_Pooling_2x2_Stride_2_1'),\n",
        "    layers.Conv2D(32, 3, padding='same', activation='relu', name='Convolution_32_3x3'),\n",
        "    layers.MaxPooling2D(pool_size=2, strides=2, name='Max_Pooling_2x2_Stride_2_2'),\n",
        "    layers.Conv2D(64, 3, padding='same', activation='relu', name='Convolution_64_3x3'),\n",
        "    layers.MaxPooling2D(pool_size=2, strides=2, name='Max_Pooling_2x2_Stride_2_3'),\n",
        "    layers.Dropout(0.2, name='Dropout_20'),\n",
        "    layers.Flatten(name='Flatten'),\n",
        "    layers.Dense(img_size[0], activation='relu', kernel_initializer='he_uniform', name='Dense_%s' % img_size[0]),\n",
        "    layers.Dense(n_outputs, kernel_initializer='he_uniform', name='Dense_%s' % n_outputs)\n",
        "  ])\n",
        "\n",
        "  return model"
      ]
    },
    {
      "cell_type": "markdown",
      "metadata": {
        "id": "Zra6z3IU6ULQ"
      },
      "source": [
        "The model is created and compiled using mean squared error for the loss."
      ]
    },
    {
      "cell_type": "code",
      "execution_count": 9,
      "metadata": {
        "colab": {
          "base_uri": "https://localhost:8080/"
        },
        "id": "t25DVAqEujzo",
        "outputId": "502060c6-f186-4f7c-eb06-9c7f6e19a537"
      },
      "outputs": [
        {
          "output_type": "stream",
          "name": "stdout",
          "text": [
            "Model: \"Nanoparticle_Classification\"\n",
            "_________________________________________________________________\n",
            " Layer (type)                Output Shape              Param #   \n",
            "=================================================================\n",
            " sequential (Sequential)     (None, 64, 64, 1)         0         \n",
            "                                                                 \n",
            " Convolution_16_3x3 (Conv2D)  (None, 64, 64, 16)       160       \n",
            "                                                                 \n",
            " Max_Pooling_2x2_Stride_2_1   (None, 32, 32, 16)       0         \n",
            " (MaxPooling2D)                                                  \n",
            "                                                                 \n",
            " Convolution_32_3x3 (Conv2D)  (None, 32, 32, 32)       4640      \n",
            "                                                                 \n",
            " Max_Pooling_2x2_Stride_2_2   (None, 16, 16, 32)       0         \n",
            " (MaxPooling2D)                                                  \n",
            "                                                                 \n",
            " Convolution_64_3x3 (Conv2D)  (None, 16, 16, 64)       18496     \n",
            "                                                                 \n",
            " Max_Pooling_2x2_Stride_2_3   (None, 8, 8, 64)         0         \n",
            " (MaxPooling2D)                                                  \n",
            "                                                                 \n",
            " Dropout_20 (Dropout)        (None, 8, 8, 64)          0         \n",
            "                                                                 \n",
            " Flatten (Flatten)           (None, 4096)              0         \n",
            "                                                                 \n",
            " Dense_64 (Dense)            (None, 64)                262208    \n",
            "                                                                 \n",
            " Dense_49 (Dense)            (None, 49)                3185      \n",
            "                                                                 \n",
            "=================================================================\n",
            "Total params: 288,689\n",
            "Trainable params: 288,689\n",
            "Non-trainable params: 0\n",
            "_________________________________________________________________\n"
          ]
        }
      ],
      "source": [
        "model = get_model(num_classes)\n",
        "model._name = \"Nanoparticle_Classification\"\n",
        "\n",
        "model.compile(optimizer='adam',\n",
        "              loss=tf.keras.losses.SparseCategoricalCrossentropy(from_logits=True),\n",
        "              metrics=['accuracy'])\n",
        "\n",
        "model.summary()"
      ]
    },
    {
      "cell_type": "markdown",
      "metadata": {
        "id": "22WvaaGM6WVy"
      },
      "source": [
        "# Training the model."
      ]
    },
    {
      "cell_type": "markdown",
      "metadata": {
        "id": "3-WaEuxiY460"
      },
      "source": [
        "The model is trained for 50 epochs."
      ]
    },
    {
      "cell_type": "code",
      "execution_count": 10,
      "metadata": {
        "colab": {
          "base_uri": "https://localhost:8080/"
        },
        "id": "XCyYuD5junFO",
        "outputId": "76eceee0-689c-4dfd-caf5-962ae0554692"
      },
      "outputs": [
        {
          "output_type": "stream",
          "name": "stdout",
          "text": [
            "Epoch 1/50\n",
            "221/221 [==============================] - 1432s 2s/step - loss: 1.5362 - accuracy: 0.5636 - val_loss: 0.2245 - val_accuracy: 0.9110\n",
            "Epoch 2/50\n",
            "221/221 [==============================] - 51s 232ms/step - loss: 0.2357 - accuracy: 0.9050 - val_loss: 0.1426 - val_accuracy: 0.9172\n",
            "Epoch 3/50\n",
            "221/221 [==============================] - 51s 232ms/step - loss: 0.1774 - accuracy: 0.9201 - val_loss: 0.1757 - val_accuracy: 0.9206\n",
            "Epoch 4/50\n",
            "221/221 [==============================] - 51s 233ms/step - loss: 0.1607 - accuracy: 0.9223 - val_loss: 0.1348 - val_accuracy: 0.9201\n",
            "Epoch 5/50\n",
            "221/221 [==============================] - 51s 233ms/step - loss: 0.1482 - accuracy: 0.9234 - val_loss: 0.1386 - val_accuracy: 0.9189\n",
            "Epoch 6/50\n",
            "221/221 [==============================] - 52s 233ms/step - loss: 0.1402 - accuracy: 0.9268 - val_loss: 0.1376 - val_accuracy: 0.9195\n",
            "Epoch 7/50\n",
            "221/221 [==============================] - 51s 233ms/step - loss: 0.1323 - accuracy: 0.9281 - val_loss: 0.1670 - val_accuracy: 0.9184\n",
            "Epoch 8/50\n",
            "221/221 [==============================] - 52s 233ms/step - loss: 0.1290 - accuracy: 0.9300 - val_loss: 0.1404 - val_accuracy: 0.9184\n",
            "Epoch 9/50\n",
            "221/221 [==============================] - 52s 234ms/step - loss: 0.1203 - accuracy: 0.9353 - val_loss: 0.1324 - val_accuracy: 0.9204\n",
            "Epoch 10/50\n",
            "221/221 [==============================] - 52s 234ms/step - loss: 0.1171 - accuracy: 0.9362 - val_loss: 0.1785 - val_accuracy: 0.9198\n",
            "Epoch 11/50\n",
            "221/221 [==============================] - 52s 235ms/step - loss: 0.1155 - accuracy: 0.9375 - val_loss: 0.1449 - val_accuracy: 0.9238\n",
            "Epoch 12/50\n",
            "221/221 [==============================] - 52s 235ms/step - loss: 0.1139 - accuracy: 0.9396 - val_loss: 0.1411 - val_accuracy: 0.9195\n",
            "Epoch 13/50\n",
            "221/221 [==============================] - 52s 234ms/step - loss: 0.1071 - accuracy: 0.9448 - val_loss: 0.1332 - val_accuracy: 0.9195\n",
            "Epoch 14/50\n",
            "221/221 [==============================] - 52s 234ms/step - loss: 0.1041 - accuracy: 0.9447 - val_loss: 0.1297 - val_accuracy: 0.9232\n",
            "Epoch 15/50\n",
            "221/221 [==============================] - 52s 234ms/step - loss: 0.1050 - accuracy: 0.9438 - val_loss: 0.1400 - val_accuracy: 0.9178\n",
            "Epoch 16/50\n",
            "221/221 [==============================] - 51s 233ms/step - loss: 0.1030 - accuracy: 0.9467 - val_loss: 0.1341 - val_accuracy: 0.9164\n",
            "Epoch 17/50\n",
            "221/221 [==============================] - 51s 233ms/step - loss: 0.0905 - accuracy: 0.9542 - val_loss: 0.1437 - val_accuracy: 0.9152\n",
            "Epoch 18/50\n",
            "221/221 [==============================] - 52s 235ms/step - loss: 0.0902 - accuracy: 0.9523 - val_loss: 0.1368 - val_accuracy: 0.9150\n",
            "Epoch 19/50\n",
            "221/221 [==============================] - 52s 233ms/step - loss: 0.0903 - accuracy: 0.9537 - val_loss: 0.1479 - val_accuracy: 0.9158\n",
            "Epoch 20/50\n",
            "221/221 [==============================] - 52s 233ms/step - loss: 0.0923 - accuracy: 0.9562 - val_loss: 0.1353 - val_accuracy: 0.9209\n",
            "Epoch 21/50\n",
            "221/221 [==============================] - 52s 234ms/step - loss: 0.0818 - accuracy: 0.9606 - val_loss: 0.1546 - val_accuracy: 0.9195\n",
            "Epoch 22/50\n",
            "221/221 [==============================] - 52s 234ms/step - loss: 0.0800 - accuracy: 0.9602 - val_loss: 0.1593 - val_accuracy: 0.9189\n",
            "Epoch 23/50\n",
            "221/221 [==============================] - 52s 233ms/step - loss: 0.0787 - accuracy: 0.9633 - val_loss: 0.1752 - val_accuracy: 0.9152\n",
            "Epoch 24/50\n",
            "221/221 [==============================] - 52s 233ms/step - loss: 0.0718 - accuracy: 0.9668 - val_loss: 0.1560 - val_accuracy: 0.9147\n",
            "Epoch 25/50\n",
            "221/221 [==============================] - 51s 232ms/step - loss: 0.0850 - accuracy: 0.9620 - val_loss: 0.1698 - val_accuracy: 0.9158\n",
            "Epoch 26/50\n",
            "221/221 [==============================] - 52s 233ms/step - loss: 0.0719 - accuracy: 0.9656 - val_loss: 0.1973 - val_accuracy: 0.9133\n",
            "Epoch 27/50\n",
            "221/221 [==============================] - 52s 234ms/step - loss: 0.0637 - accuracy: 0.9717 - val_loss: 0.1584 - val_accuracy: 0.9150\n",
            "Epoch 28/50\n",
            "221/221 [==============================] - 52s 233ms/step - loss: 0.0588 - accuracy: 0.9748 - val_loss: 0.1801 - val_accuracy: 0.9184\n",
            "Epoch 29/50\n",
            "221/221 [==============================] - 52s 233ms/step - loss: 0.0606 - accuracy: 0.9728 - val_loss: 0.1748 - val_accuracy: 0.9152\n",
            "Epoch 30/50\n",
            "221/221 [==============================] - 52s 233ms/step - loss: 0.0565 - accuracy: 0.9756 - val_loss: 0.1778 - val_accuracy: 0.9158\n",
            "Epoch 31/50\n",
            "221/221 [==============================] - 52s 233ms/step - loss: 0.0508 - accuracy: 0.9768 - val_loss: 0.2198 - val_accuracy: 0.9118\n",
            "Epoch 32/50\n",
            "221/221 [==============================] - 52s 234ms/step - loss: 0.0530 - accuracy: 0.9764 - val_loss: 0.2064 - val_accuracy: 0.9138\n",
            "Epoch 33/50\n",
            "221/221 [==============================] - 52s 234ms/step - loss: 0.0518 - accuracy: 0.9782 - val_loss: 0.1947 - val_accuracy: 0.9141\n",
            "Epoch 34/50\n",
            "221/221 [==============================] - 51s 233ms/step - loss: 0.0525 - accuracy: 0.9767 - val_loss: 0.2014 - val_accuracy: 0.9110\n",
            "Epoch 35/50\n",
            "221/221 [==============================] - 52s 233ms/step - loss: 0.0488 - accuracy: 0.9786 - val_loss: 0.1925 - val_accuracy: 0.9147\n",
            "Epoch 36/50\n",
            "221/221 [==============================] - 52s 234ms/step - loss: 0.0436 - accuracy: 0.9812 - val_loss: 0.1920 - val_accuracy: 0.9170\n",
            "Epoch 37/50\n",
            "221/221 [==============================] - 52s 233ms/step - loss: 0.0420 - accuracy: 0.9813 - val_loss: 0.2149 - val_accuracy: 0.9150\n",
            "Epoch 38/50\n",
            "221/221 [==============================] - 52s 234ms/step - loss: 0.0508 - accuracy: 0.9804 - val_loss: 0.2281 - val_accuracy: 0.9164\n",
            "Epoch 39/50\n",
            "221/221 [==============================] - 52s 234ms/step - loss: 0.0376 - accuracy: 0.9845 - val_loss: 0.2235 - val_accuracy: 0.9155\n",
            "Epoch 40/50\n",
            "221/221 [==============================] - 52s 234ms/step - loss: 0.0347 - accuracy: 0.9849 - val_loss: 0.2367 - val_accuracy: 0.9161\n",
            "Epoch 41/50\n",
            "221/221 [==============================] - 52s 234ms/step - loss: 0.0358 - accuracy: 0.9833 - val_loss: 0.2271 - val_accuracy: 0.9124\n",
            "Epoch 42/50\n",
            "221/221 [==============================] - 52s 233ms/step - loss: 0.0361 - accuracy: 0.9846 - val_loss: 0.2411 - val_accuracy: 0.9155\n",
            "Epoch 43/50\n",
            "221/221 [==============================] - 52s 234ms/step - loss: 0.0328 - accuracy: 0.9860 - val_loss: 0.2244 - val_accuracy: 0.9164\n",
            "Epoch 44/50\n",
            "221/221 [==============================] - 52s 234ms/step - loss: 0.0347 - accuracy: 0.9858 - val_loss: 0.2286 - val_accuracy: 0.9158\n",
            "Epoch 45/50\n",
            "221/221 [==============================] - 52s 233ms/step - loss: 0.0329 - accuracy: 0.9853 - val_loss: 0.2612 - val_accuracy: 0.9138\n",
            "Epoch 46/50\n",
            "221/221 [==============================] - 52s 233ms/step - loss: 0.0405 - accuracy: 0.9841 - val_loss: 0.2545 - val_accuracy: 0.9152\n",
            "Epoch 47/50\n",
            "221/221 [==============================] - 52s 233ms/step - loss: 0.0313 - accuracy: 0.9860 - val_loss: 0.2535 - val_accuracy: 0.9135\n",
            "Epoch 48/50\n",
            "221/221 [==============================] - 52s 234ms/step - loss: 0.0311 - accuracy: 0.9877 - val_loss: 0.2618 - val_accuracy: 0.9135\n",
            "Epoch 49/50\n",
            "221/221 [==============================] - 52s 234ms/step - loss: 0.0283 - accuracy: 0.9877 - val_loss: 0.3246 - val_accuracy: 0.9158\n",
            "Epoch 50/50\n",
            "221/221 [==============================] - 52s 234ms/step - loss: 0.0303 - accuracy: 0.9867 - val_loss: 0.2591 - val_accuracy: 0.9133\n"
          ]
        }
      ],
      "source": [
        "epochs = 50\n",
        "history = model.fit(\n",
        "  train_ds,\n",
        "  validation_data=valid_ds,\n",
        "  epochs=epochs\n",
        ")"
      ]
    },
    {
      "cell_type": "markdown",
      "metadata": {
        "id": "vPIntFKL6ZtC"
      },
      "source": [
        "Visualising the training results."
      ]
    },
    {
      "cell_type": "code",
      "execution_count": 11,
      "metadata": {
        "id": "umOL4BY7up6Y",
        "colab": {
          "base_uri": "https://localhost:8080/",
          "height": 295
        },
        "outputId": "0b25d729-1df3-4ad1-8b57-b86982833a39"
      },
      "outputs": [
        {
          "output_type": "display_data",
          "data": {
            "image/png": "[encoded data removed]",
            "text/plain": [
              "<Figure size 864x288 with 2 Axes>"
            ]
          },
          "metadata": {
            "needs_background": "light"
          }
        }
      ],
      "source": [
        "acc = np.array(history.history['accuracy'])\n",
        "val_acc = np.array(history.history['val_accuracy'])\n",
        "\n",
        "loss = np.array(history.history['loss'])\n",
        "val_loss = np.array(history.history['val_loss'])\n",
        "\n",
        "epochs_range = range(epochs)\n",
        "\n",
        "plt.figure(figsize=(12, 4))\n",
        "plt.subplot(1, 2, 1)\n",
        "plt.plot(epochs_range, acc * 100, label='Training Accuracy')\n",
        "plt.plot(epochs_range, val_acc * 100, label='Validation Accuracy')\n",
        "plt.legend(loc='lower right')\n",
        "plt.xlabel(\"Epoch number\")\n",
        "plt.ylabel(\"Percentage accuracy (%)\")\n",
        "plt.title(\"Training and Validation Accuracy\")\n",
        "\n",
        "plt.subplot(1, 2, 2)\n",
        "plt.plot(epochs_range, loss, label='Training Loss')\n",
        "plt.plot(epochs_range, val_loss, label='Validation Loss')\n",
        "plt.legend(loc='upper right')\n",
        "plt.xlabel(\"Epoch number\")\n",
        "plt.ylabel(\"Loss\")\n",
        "plt.title(\"Training and Validation Loss\")\n",
        "plt.show()"
      ]
    },
    {
      "cell_type": "markdown",
      "metadata": {
        "id": "07jMKhv-6dLL"
      },
      "source": [
        "# Predicting an image."
      ]
    },
    {
      "cell_type": "markdown",
      "metadata": {
        "id": "f-K7UZJUcSIn"
      },
      "source": [
        "The rotations are applied to the nanoparticles using 3x3 rotation matrices. The Gram–Schmidt process can then be used to represent this 3x3 matrix in 6D. The following function converts this 6D representation back into a matrix from which the Euler angles can be calculated."
      ]
    },
    {
      "cell_type": "code",
      "execution_count": 12,
      "metadata": {
        "id": "wkFsKA53EHgU"
      },
      "outputs": [],
      "source": [
        "def calculate_euler(label):\n",
        "  rotation = np.asarray(label).reshape((2, 3)).T\n",
        "  v1 = rotation[:, 0]\n",
        "  v2 = rotation[:, 1]\n",
        "\n",
        "  e1 = v1 / np.linalg.norm(v1)\n",
        "\n",
        "  u2 = v2 - ((e1 * v2) * e1)\n",
        "  e2 = u2 / np.linalg.norm(u2)\n",
        "\n",
        "  e3 = np.cross(e1, e2) \n",
        "\n",
        "  rotation = np.vstack((e1, e2, e3)).T\n",
        "  rotation_euler = R.from_matrix(rotation).as_euler(\"xyz\", degrees=True)\n",
        "\n",
        "  return rotation_euler"
      ]
    },
    {
      "cell_type": "markdown",
      "metadata": {
        "id": "O1ZnYKfJckA8"
      },
      "source": [
        "The following function adds an entry to the prediction dictionary (used to sort and analyse the results from the model's predictions) if it does not exist, or adds the value to the corresponding key otherwise."
      ]
    },
    {
      "cell_type": "code",
      "execution_count": 13,
      "metadata": {
        "id": "qJpFzwfaJ-_t"
      },
      "outputs": [],
      "source": [
        "def add_to_predict_dict(prediction_dict, key, value):\n",
        "  try:\n",
        "    prediction_dict[key] += value\n",
        "  except KeyError:\n",
        "    prediction_dict[key] = value\n",
        "\n",
        "  return prediction_dict"
      ]
    },
    {
      "cell_type": "markdown",
      "metadata": {
        "id": "8RX05v8kczMY"
      },
      "source": [
        "The following function takes an image path as an input and also the prediction dictionary. It then uses the neural network to predict the image and adds that prediction to the dictionary."
      ]
    },
    {
      "cell_type": "code",
      "execution_count": 14,
      "metadata": {
        "id": "oC5OucHX6fDy"
      },
      "outputs": [],
      "source": [
        "rx_names = []\n",
        "ry_names = []\n",
        "\n",
        "def predict_image(img_path, prediction_dict):\n",
        "  img = tf.keras.utils.load_img(\n",
        "      img_path, target_size=img_size, color_mode=\"grayscale\"\n",
        "  )\n",
        "  img_array = tf.keras.utils.img_to_array(img)\n",
        "  img_array = tf.expand_dims(img_array, 0) # Create a batch\n",
        "\n",
        "  predictions = model.predict(img_array)\n",
        "  score = tf.nn.softmax(predictions[0])\n",
        "  prediction = json.loads(class_names[np.argmax(score)])\n",
        "\n",
        "  # Format: Shape W RX RY RZ\n",
        "  img_name_split = img_path.split(\"/\")[-1].split() # Splits file name of image up\n",
        "  \n",
        "  actual_rx = img_name_split[2]\n",
        "  if actual_rx not in rx_names:\n",
        "    rx_names.append(actual_rx)\n",
        "\n",
        "  actual_ry = img_name_split[3]\n",
        "  if actual_ry not in ry_names:\n",
        "    ry_names.append(actual_ry)\n",
        "\n",
        "  prediction = calculate_euler(prediction)\n",
        "\n",
        "  predicted_rx = \"RX%s\" % int(prediction[0])\n",
        "  predicted_ry = \"RY%s\" % int(prediction[1])\n",
        "\n",
        "  # print(\"Actual: \\t%s \\t| Predicted: \\t%s\" % (actual_rx, predicted_rx))\n",
        "\n",
        "  # Append the results to the prediction dictionary\n",
        "  dif_rx = abs(int(actual_rx[2:]) - int(predicted_rx[2:]))\n",
        "  prediction_dict = add_to_predict_dict(prediction_dict, actual_rx + \" DIF\", dif_rx)\n",
        "  prediction_dict = add_to_predict_dict(prediction_dict, actual_rx + \" TOT\", 1)\n",
        "\n",
        "  dif_ry = abs(int(actual_ry[2:]) - int(predicted_ry[2:]))\n",
        "  prediction_dict = add_to_predict_dict(prediction_dict, actual_ry + \" DIF\", dif_ry)\n",
        "  prediction_dict = add_to_predict_dict(prediction_dict, actual_ry + \" TOT\", 1)\n",
        "\n",
        "  return prediction_dict"
      ]
    },
    {
      "cell_type": "code",
      "execution_count": 15,
      "metadata": {
        "colab": {
          "base_uri": "https://localhost:8080/"
        },
        "id": "C0I2r6xRfgmF",
        "outputId": "db80083b-592f-4bfd-ff82-462f11e443ea"
      },
      "outputs": [
        {
          "output_type": "stream",
          "name": "stderr",
          "text": [
            "/usr/local/lib/python3.7/dist-packages/scipy/spatial/transform/rotation.py:135: UserWarning: Gimbal lock detected. Setting third angle to zero since it is not possible to uniquely determine all angles.\n",
            "  warnings.warn(\"Gimbal lock detected. Setting third angle to zero since\"\n"
          ]
        }
      ],
      "source": [
        "predict_dictionary = {}\n",
        "\n",
        "for rotation in os.listdir(testing_path):\n",
        "  rotation_path = os.path.join(testing_path, rotation)\n",
        "  for img in os.listdir(rotation_path):\n",
        "    img_path = os.path.join(rotation_path, img)\n",
        "    predict_dictionary = predict_image(img_path, predict_dictionary)"
      ]
    },
    {
      "cell_type": "markdown",
      "metadata": {
        "id": "TBlpOimAdd3P"
      },
      "source": [
        "The results from the prediction dictionary will be represented as percentages as well as absolute difference between the true rotation of the nanoparticle and the predicted rotation."
      ]
    },
    {
      "cell_type": "code",
      "execution_count": 16,
      "metadata": {
        "id": "jQGvBIlnN5Qs"
      },
      "outputs": [],
      "source": [
        "def calculate_percentage_correct(rotation_key):\n",
        "  temp_dif = predict_dictionary[rotation_key + \" DIF\"]\n",
        "  total = predict_dictionary[rotation_key + \" TOT\"]\n",
        "\n",
        "  dif = temp_dif / total\n",
        "\n",
        "  return dif"
      ]
    },
    {
      "cell_type": "code",
      "execution_count": 17,
      "metadata": {
        "id": "T4bFyMlfuqIE"
      },
      "outputs": [],
      "source": [
        "dif_x = []\n",
        "dif_y = []\n",
        "\n",
        "for rx in rx_names:\n",
        "  dif_x.append(calculate_percentage_correct(rx))\n",
        "\n",
        "for ry in ry_names:\n",
        "  dif_y.append(calculate_percentage_correct(ry))"
      ]
    },
    {
      "cell_type": "markdown",
      "metadata": {
        "id": "Zn72CwbJnVkr"
      },
      "source": [
        "Sorting the results in order of increasing angle."
      ]
    },
    {
      "cell_type": "code",
      "execution_count": 18,
      "metadata": {
        "id": "MOlo7-zWnRxB"
      },
      "outputs": [],
      "source": [
        "ordered_rx = []\n",
        "ordered_ry = []\n",
        "\n",
        "for rotation in rx_names:\n",
        "  ordered_rx.append(int(rotation[2:]))\n",
        "\n",
        "order_x = list(np.argsort(np.asarray(ordered_rx)))\n",
        "ordered_names_x = np.array(rx_names)[order_x]\n",
        "ordered_dif_x = np.array(dif_x)[order_x]\n",
        "\n",
        "for rotation in ry_names:\n",
        "  ordered_ry.append(int(rotation[2:]))\n",
        "\n",
        "order_y = list(np.argsort(np.asarray(ordered_ry)))\n",
        "ordered_names_y = np.array(ry_names)[order_y]\n",
        "ordered_dif_y = np.array(dif_y)[order_y]"
      ]
    },
    {
      "cell_type": "markdown",
      "metadata": {
        "id": "91-d9VXSnbkb"
      },
      "source": [
        "Visualising how accurately the model predicts rotations."
      ]
    },
    {
      "cell_type": "code",
      "execution_count": 19,
      "metadata": {
        "colab": {
          "base_uri": "https://localhost:8080/",
          "height": 730
        },
        "id": "JEmGzbfSEREo",
        "outputId": "0bf1d5c6-1c9d-4098-ca4a-e379e252ec30"
      },
      "outputs": [
        {
          "output_type": "display_data",
          "data": {
            "image/png": "[encoded data removed]",
            "text/plain": [
              "<Figure size 1080x864 with 2 Axes>"
            ]
          },
          "metadata": {
            "needs_background": "light"
          }
        }
      ],
      "source": [
        "bar_width = 0.2 \n",
        "x = np.arange(len(ordered_names_x))\n",
        "\n",
        "plt.figure(figsize=(15, 12))\n",
        "plt.subplot(211)\n",
        "plt.plot(x, ordered_dif_x, label=\"Average absolute difference RX\")\n",
        "plt.hlines(np.mean(ordered_dif_x), x[0]-bar_width, x[-1]+bar_width,\n",
        "           color=\"y\", label = \"Average difference of all rotations\")\n",
        "plt.xlabel(\"Actual RX rotation (°)\")\n",
        "plt.xticks(x, ordered_names_x)\n",
        "plt.ylabel(\"Difference in angle (°)\")\n",
        "plt.xlim([x[0], x[-1]])\n",
        "plt.ylim([0, np.max(ordered_dif_x) + 1])\n",
        "plt.legend(loc=\"best\")\n",
        "plt.title(\"Average Absolute Error RX | %s\" % folder_name)\n",
        "\n",
        "plt.subplot(212)\n",
        "plt.plot(x, ordered_dif_y, label=\"Average absolute difference RY\")\n",
        "plt.hlines(np.mean(ordered_dif_y), x[0]-bar_width, x[-1]+bar_width,\n",
        "           color=\"y\", label = \"Average difference of all rotations\")\n",
        "plt.xlabel(\"Actual RY rotation (°)\")\n",
        "plt.xticks(x, ordered_names_y)\n",
        "plt.ylabel(\"Difference in angle (°)\")\n",
        "plt.xlim([x[0], x[-1]])\n",
        "plt.ylim([0, np.max(ordered_dif_y) + 1])\n",
        "plt.legend(loc=\"best\")\n",
        "plt.title(\"Average Absolute Error RY | %s\" % folder_name)\n",
        "\n",
        "plt.show()"
      ]
    }
  ],
  "metadata": {
    "colab": {
      "collapsed_sections": [],
      "name": "ClassificationNanoparticles.ipynb",
      "provenance": []
    },
    "kernelspec": {
      "display_name": "Python 3",
      "name": "python3"
    },
    "language_info": {
      "name": "python"
    }
  },
  "nbformat": 4,
  "nbformat_minor": 0
}