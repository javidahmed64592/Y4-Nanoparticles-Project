{
  "cells": [
    {
      "cell_type": "markdown",
      "metadata": {
        "id": "NkZPlLUc4JTP"
      },
      "source": [
        "## **Using a Convolutional Neural Network to Identify Simulated Nanoparticle Rotations | Regression Model**"
      ]
    },
    {
      "cell_type": "markdown",
      "metadata": {
        "id": "2YECQIh0_bMX"
      },
      "source": [
        "In this notebook, a convolutional neural network will be constructed and trained on images of simulated nanoparticles. The aim of the neural network is to correctly identify the rotations of these nanoparticles. TensorFlow2 and Keras will be used to create a regression model.\n",
        "\n",
        "All of my work can be found at https://github.com/javidahmed64592/Y4-Nanoparticles-Project."
      ]
    },
    {
      "cell_type": "markdown",
      "metadata": {
        "id": "JnFgi7sk4T-v"
      },
      "source": [
        "# Importing the relevant libraries."
      ]
    },
    {
      "cell_type": "code",
      "execution_count": 444,
      "metadata": {
        "id": "0MK7RVpAuPwB"
      },
      "outputs": [],
      "source": [
        "import matplotlib.pyplot as plt\n",
        "import numpy as np\n",
        "import os\n",
        "import json\n",
        "import csv\n",
        "from scipy.spatial.transform import Rotation as R\n",
        "\n",
        "import tensorflow as tf\n",
        "from tensorflow import keras\n",
        "from tensorflow.keras import layers\n",
        "from tensorflow.keras.models import Sequential"
      ]
    },
    {
      "cell_type": "markdown",
      "metadata": {
        "id": "t3TlTwFf4dqn"
      },
      "source": [
        "# Creating the dataset."
      ]
    },
    {
      "cell_type": "markdown",
      "metadata": {
        "id": "6AvkHYYz4YG1"
      },
      "source": [
        "The images are loaded in from Google Drive."
      ]
    },
    {
      "cell_type": "code",
      "execution_count": 445,
      "metadata": {
        "colab": {
          "base_uri": "https://localhost:8080/"
        },
        "id": "vwOmP2PQw3mt",
        "outputId": "b792a803-a324-4c7a-aa9f-06ccd798069a"
      },
      "outputs": [
        {
          "output_type": "stream",
          "name": "stdout",
          "text": [
            "Mounted at /content/drive\n"
          ]
        }
      ],
      "source": [
        "from google.colab import drive\n",
        "drive_path = \"/content/drive\"\n",
        "drive.mount(drive_path, force_remount=True)\n",
        "\n",
        "cwd = os.path.join(drive_path, \"MyDrive\", \"Nanoparticles\")\n",
        "folder_name = \"Tetrahedrons Centred W 11-11 RX 0-45 RY 0-45\"\n",
        "direc = os.path.join(cwd, folder_name)"
      ]
    },
    {
      "cell_type": "markdown",
      "metadata": {
        "id": "bIfpcjOVSFu1"
      },
      "source": [
        "The following function creates a Tensorflow dataset from a specified folder. It resizes all images to the specified size and and loads them in as a grayscale image."
      ]
    },
    {
      "cell_type": "code",
      "execution_count": 446,
      "metadata": {
        "id": "9YG3QTo9vdLk"
      },
      "outputs": [],
      "source": [
        "def create_dataset(directory, img_size=[64, 64], batch_size=32):\n",
        "  \"\"\"\n",
        "  Creates TensorFlow dataset from specified path. The image size after resizing\n",
        "  is specified as is the batch size.\n",
        "\n",
        "  Inputs:\n",
        "    directory: String, folder containing all subfolders of images\n",
        "    img_size: List, size to resize images\n",
        "    batch_size: Integer, batch size to use for dataset\n",
        "\n",
        "  Outputs:\n",
        "    dataset: TensorFlow dataset, image dataset from files\n",
        "  \"\"\"\n",
        "  print(\"Assigning images to '%s' dataset...\" % (directory.split(\"/\")[-1]))\n",
        "  dataset = tf.keras.utils.image_dataset_from_directory(\n",
        "    directory,\n",
        "    seed=123,\n",
        "    image_size=img_size,\n",
        "    batch_size=batch_size,\n",
        "    color_mode='grayscale'\n",
        "  )\n",
        "  \n",
        "  return dataset"
      ]
    },
    {
      "cell_type": "markdown",
      "metadata": {
        "id": "GmPOD5XHAPmg"
      },
      "source": [
        "The required folder paths are specified, and the training and validation datasets are assigned. 80% of the images in total are used for training, and 20% for validation."
      ]
    },
    {
      "cell_type": "code",
      "execution_count": 447,
      "metadata": {
        "id": "fewRo7gguZhc"
      },
      "outputs": [],
      "source": [
        "batch_size = 64\n",
        "img_size = [64, 64] # Image dimensions\n",
        "\n",
        "dr_train = 15\n",
        "training_path = os.path.join(direc, \"Train DR%s\" % dr_train)\n",
        "validation_path = os.path.join(direc, \"Valid DR%s\" % dr_train)"
      ]
    },
    {
      "cell_type": "code",
      "execution_count": 448,
      "metadata": {
        "id": "rxCqX0Lfyt-n",
        "colab": {
          "base_uri": "https://localhost:8080/"
        },
        "outputId": "f16c1c87-95e4-4949-b047-a343dce9532a"
      },
      "outputs": [
        {
          "output_type": "stream",
          "name": "stdout",
          "text": [
            "Assigning images to 'Train DR15' dataset...\n",
            "Found 320 files belonging to 16 classes.\n",
            "Assigning images to 'Valid DR15' dataset...\n",
            "Found 80 files belonging to 16 classes.\n"
          ]
        }
      ],
      "source": [
        "train_ds = create_dataset(training_path, img_size=img_size, batch_size=batch_size)\n",
        "valid_ds = create_dataset(validation_path, img_size=img_size, batch_size=batch_size)\n",
        "\n",
        "class_names = train_ds.class_names\n",
        "num_classes = len(class_names) # Number of categories"
      ]
    },
    {
      "cell_type": "code",
      "execution_count": 449,
      "metadata": {
        "id": "QNIyT1FoAK10"
      },
      "outputs": [],
      "source": [
        "AUTOTUNE = tf.data.AUTOTUNE\n",
        "\n",
        "train_ds = train_ds.cache().shuffle(1000).prefetch(buffer_size=AUTOTUNE)\n",
        "valid_ds = valid_ds.cache().prefetch(buffer_size=AUTOTUNE)"
      ]
    },
    {
      "cell_type": "markdown",
      "metadata": {
        "id": "FwRtpPRYUc2y"
      },
      "source": [
        "The pixel values of each image are mapped to a float between 0 and 1. Random zooms are then applied for augmentation to increase the accuracy of the model as well as random changes to contrast."
      ]
    },
    {
      "cell_type": "code",
      "execution_count": 450,
      "metadata": {
        "id": "lldO-TtVASRB"
      },
      "outputs": [],
      "source": [
        "data_augmentation = keras.Sequential(\n",
        "  [\n",
        "    layers.Rescaling(1./255.),\n",
        "    layers.RandomZoom(0.1),\n",
        "    layers.RandomContrast(0.15)\n",
        "  ]\n",
        ")"
      ]
    },
    {
      "cell_type": "markdown",
      "metadata": {
        "id": "7K-TuGAN6SPs"
      },
      "source": [
        "# Creating the model."
      ]
    },
    {
      "cell_type": "markdown",
      "metadata": {
        "id": "ubqTUD9JYtyM"
      },
      "source": [
        "The following function shows the layers of the convolutional neural network."
      ]
    },
    {
      "cell_type": "code",
      "execution_count": 451,
      "metadata": {
        "id": "w55ueKKJ4p9B"
      },
      "outputs": [],
      "source": [
        "def get_model(n_outputs):\n",
        "  \"\"\"\n",
        "  Creates a TensorFlow neural network.\n",
        "\n",
        "  Inputs:\n",
        "    n_outputs: Integer, number of output nodes of the model\n",
        "\n",
        "  Outputs:\n",
        "    model: TensorFlow sequential, model to train\n",
        "  \"\"\"\n",
        "  model = Sequential([\n",
        "    layers.InputLayer(input_shape=(*img_size, 1)),\n",
        "    data_augmentation,\n",
        "    layers.Conv2D(16, 3, padding='same', activation='relu', input_shape=(*img_size, 1), name='Convolution_16_3x3'),\n",
        "    layers.MaxPooling2D(pool_size=2, strides=2, name='Max_Pooling_2x2_Stride_2_1'),\n",
        "    layers.Conv2D(32, 3, padding='same', activation='relu', name='Convolution_32_3x3'),\n",
        "    layers.MaxPooling2D(pool_size=2, strides=2, name='Max_Pooling_2x2_Stride_2_2'),\n",
        "    layers.Conv2D(64, 3, padding='same', activation='relu', name='Convolution_64_3x3'),\n",
        "    layers.MaxPooling2D(pool_size=2, strides=2, name='Max_Pooling_2x2_Stride_2_3'),\n",
        "    layers.Dropout(0.2, name='Dropout_20'),\n",
        "    layers.Flatten(name='Flatten'),\n",
        "    layers.Dense(img_size[0], activation='relu', kernel_initializer='he_uniform', name='Dense_%s' % img_size[0]),\n",
        "    layers.Dense(n_outputs, kernel_initializer='he_uniform', name='Dense_%s' % n_outputs)\n",
        "  ])\n",
        "\n",
        "  return model"
      ]
    },
    {
      "cell_type": "markdown",
      "metadata": {
        "id": "Zra6z3IU6ULQ"
      },
      "source": [
        "The model is created and compiled using sparse categorical crossentropy for the loss."
      ]
    },
    {
      "cell_type": "code",
      "execution_count": 452,
      "metadata": {
        "id": "t25DVAqEujzo",
        "colab": {
          "base_uri": "https://localhost:8080/"
        },
        "outputId": "ec9008a1-f76e-41c2-f542-f49d282cec10"
      },
      "outputs": [
        {
          "output_type": "stream",
          "name": "stdout",
          "text": [
            "Model: \"Nanoparticle_Classification\"\n",
            "_________________________________________________________________\n",
            " Layer (type)                Output Shape              Param #   \n",
            "=================================================================\n",
            " sequential_18 (Sequential)  (None, 64, 64, 1)         0         \n",
            "                                                                 \n",
            " Convolution_16_3x3 (Conv2D)  (None, 64, 64, 16)       160       \n",
            "                                                                 \n",
            " Max_Pooling_2x2_Stride_2_1   (None, 32, 32, 16)       0         \n",
            " (MaxPooling2D)                                                  \n",
            "                                                                 \n",
            " Convolution_32_3x3 (Conv2D)  (None, 32, 32, 32)       4640      \n",
            "                                                                 \n",
            " Max_Pooling_2x2_Stride_2_2   (None, 16, 16, 32)       0         \n",
            " (MaxPooling2D)                                                  \n",
            "                                                                 \n",
            " Convolution_64_3x3 (Conv2D)  (None, 16, 16, 64)       18496     \n",
            "                                                                 \n",
            " Max_Pooling_2x2_Stride_2_3   (None, 8, 8, 64)         0         \n",
            " (MaxPooling2D)                                                  \n",
            "                                                                 \n",
            " Dropout_20 (Dropout)        (None, 8, 8, 64)          0         \n",
            "                                                                 \n",
            " Flatten (Flatten)           (None, 4096)              0         \n",
            "                                                                 \n",
            " Dense_64 (Dense)            (None, 64)                262208    \n",
            "                                                                 \n",
            " Dense_16 (Dense)            (None, 16)                1040      \n",
            "                                                                 \n",
            "=================================================================\n",
            "Total params: 286,544\n",
            "Trainable params: 286,544\n",
            "Non-trainable params: 0\n",
            "_________________________________________________________________\n"
          ]
        }
      ],
      "source": [
        "model = get_model(num_classes)\n",
        "model._name = \"Nanoparticle_Classification\"\n",
        "\n",
        "model.compile(optimizer='adam',\n",
        "              loss=tf.keras.losses.SparseCategoricalCrossentropy(from_logits=True),\n",
        "              metrics=['accuracy'])\n",
        "\n",
        "model.summary()"
      ]
    },
    {
      "cell_type": "markdown",
      "metadata": {
        "id": "22WvaaGM6WVy"
      },
      "source": [
        "# Training the model."
      ]
    },
    {
      "cell_type": "markdown",
      "metadata": {
        "id": "3-WaEuxiY460"
      },
      "source": [
        "The model is trained for 50 epochs."
      ]
    },
    {
      "cell_type": "code",
      "execution_count": 453,
      "metadata": {
        "id": "XCyYuD5junFO",
        "colab": {
          "base_uri": "https://localhost:8080/"
        },
        "outputId": "85c6ec8b-a527-41c7-ce9f-ae829d2ad86b"
      },
      "outputs": [
        {
          "output_type": "stream",
          "name": "stdout",
          "text": [
            "Epoch 1/50\n",
            "5/5 [==============================] - 3s 359ms/step - loss: 2.7721 - accuracy: 0.0500 - val_loss: 2.7583 - val_accuracy: 0.0625\n",
            "Epoch 2/50\n",
            "5/5 [==============================] - 1s 287ms/step - loss: 2.7576 - accuracy: 0.1094 - val_loss: 2.7349 - val_accuracy: 0.2125\n",
            "Epoch 3/50\n",
            "5/5 [==============================] - 1s 286ms/step - loss: 2.7266 - accuracy: 0.2125 - val_loss: 2.6913 - val_accuracy: 0.2500\n",
            "Epoch 4/50\n",
            "5/5 [==============================] - 1s 288ms/step - loss: 2.6810 - accuracy: 0.2469 - val_loss: 2.6127 - val_accuracy: 0.2750\n",
            "Epoch 5/50\n",
            "5/5 [==============================] - 1s 294ms/step - loss: 2.5937 - accuracy: 0.2062 - val_loss: 2.4872 - val_accuracy: 0.3125\n",
            "Epoch 6/50\n",
            "5/5 [==============================] - 1s 288ms/step - loss: 2.4390 - accuracy: 0.3031 - val_loss: 2.2802 - val_accuracy: 0.3625\n",
            "Epoch 7/50\n",
            "5/5 [==============================] - 1s 284ms/step - loss: 2.2361 - accuracy: 0.3625 - val_loss: 1.9953 - val_accuracy: 0.6000\n",
            "Epoch 8/50\n",
            "5/5 [==============================] - 1s 289ms/step - loss: 1.9970 - accuracy: 0.4750 - val_loss: 1.6719 - val_accuracy: 0.5875\n",
            "Epoch 9/50\n",
            "5/5 [==============================] - 1s 279ms/step - loss: 1.6426 - accuracy: 0.5063 - val_loss: 1.3435 - val_accuracy: 0.7500\n",
            "Epoch 10/50\n",
            "5/5 [==============================] - 1s 289ms/step - loss: 1.3148 - accuracy: 0.6000 - val_loss: 1.0572 - val_accuracy: 0.7625\n",
            "Epoch 11/50\n",
            "5/5 [==============================] - 1s 292ms/step - loss: 1.0521 - accuracy: 0.7188 - val_loss: 0.8158 - val_accuracy: 0.8875\n",
            "Epoch 12/50\n",
            "5/5 [==============================] - 1s 290ms/step - loss: 0.8501 - accuracy: 0.7437 - val_loss: 0.6653 - val_accuracy: 0.9000\n",
            "Epoch 13/50\n",
            "5/5 [==============================] - 1s 292ms/step - loss: 0.6954 - accuracy: 0.8031 - val_loss: 0.5867 - val_accuracy: 0.7500\n",
            "Epoch 14/50\n",
            "5/5 [==============================] - 1s 294ms/step - loss: 0.5719 - accuracy: 0.8656 - val_loss: 0.3741 - val_accuracy: 1.0000\n",
            "Epoch 15/50\n",
            "5/5 [==============================] - 1s 286ms/step - loss: 0.4429 - accuracy: 0.8750 - val_loss: 0.2900 - val_accuracy: 0.9750\n",
            "Epoch 16/50\n",
            "5/5 [==============================] - 1s 291ms/step - loss: 0.4645 - accuracy: 0.8687 - val_loss: 0.2152 - val_accuracy: 1.0000\n",
            "Epoch 17/50\n",
            "5/5 [==============================] - 1s 288ms/step - loss: 0.3800 - accuracy: 0.8750 - val_loss: 0.1988 - val_accuracy: 1.0000\n",
            "Epoch 18/50\n",
            "5/5 [==============================] - 1s 289ms/step - loss: 0.2864 - accuracy: 0.9250 - val_loss: 0.2629 - val_accuracy: 0.8750\n",
            "Epoch 19/50\n",
            "5/5 [==============================] - 1s 291ms/step - loss: 0.2559 - accuracy: 0.9281 - val_loss: 0.1112 - val_accuracy: 1.0000\n",
            "Epoch 20/50\n",
            "5/5 [==============================] - 1s 289ms/step - loss: 0.1520 - accuracy: 0.9781 - val_loss: 0.1130 - val_accuracy: 1.0000\n",
            "Epoch 21/50\n",
            "5/5 [==============================] - 1s 285ms/step - loss: 0.1470 - accuracy: 0.9906 - val_loss: 0.0781 - val_accuracy: 1.0000\n",
            "Epoch 22/50\n",
            "5/5 [==============================] - 1s 294ms/step - loss: 0.1205 - accuracy: 0.9844 - val_loss: 0.1510 - val_accuracy: 0.9375\n",
            "Epoch 23/50\n",
            "5/5 [==============================] - 1s 293ms/step - loss: 0.1206 - accuracy: 0.9844 - val_loss: 0.0502 - val_accuracy: 1.0000\n",
            "Epoch 24/50\n",
            "5/5 [==============================] - 1s 289ms/step - loss: 0.0836 - accuracy: 0.9969 - val_loss: 0.0665 - val_accuracy: 0.9875\n",
            "Epoch 25/50\n",
            "5/5 [==============================] - 1s 293ms/step - loss: 0.0718 - accuracy: 0.9906 - val_loss: 0.0347 - val_accuracy: 1.0000\n",
            "Epoch 26/50\n",
            "5/5 [==============================] - 1s 284ms/step - loss: 0.0796 - accuracy: 0.9844 - val_loss: 0.1255 - val_accuracy: 0.9375\n",
            "Epoch 27/50\n",
            "5/5 [==============================] - 1s 287ms/step - loss: 0.0447 - accuracy: 1.0000 - val_loss: 0.0276 - val_accuracy: 1.0000\n",
            "Epoch 28/50\n",
            "5/5 [==============================] - 1s 294ms/step - loss: 0.0554 - accuracy: 0.9875 - val_loss: 0.0841 - val_accuracy: 0.9500\n",
            "Epoch 29/50\n",
            "5/5 [==============================] - 1s 288ms/step - loss: 0.0747 - accuracy: 0.9781 - val_loss: 0.0246 - val_accuracy: 1.0000\n",
            "Epoch 30/50\n",
            "5/5 [==============================] - 1s 291ms/step - loss: 0.0825 - accuracy: 0.9781 - val_loss: 0.0671 - val_accuracy: 0.9875\n",
            "Epoch 31/50\n",
            "5/5 [==============================] - 1s 289ms/step - loss: 0.0648 - accuracy: 0.9906 - val_loss: 0.0375 - val_accuracy: 1.0000\n",
            "Epoch 32/50\n",
            "5/5 [==============================] - 1s 290ms/step - loss: 0.0467 - accuracy: 0.9844 - val_loss: 0.0637 - val_accuracy: 0.9750\n",
            "Epoch 33/50\n",
            "5/5 [==============================] - 1s 289ms/step - loss: 0.0963 - accuracy: 0.9719 - val_loss: 0.0338 - val_accuracy: 1.0000\n",
            "Epoch 34/50\n",
            "5/5 [==============================] - 1s 287ms/step - loss: 0.0620 - accuracy: 0.9906 - val_loss: 0.1223 - val_accuracy: 0.9375\n",
            "Epoch 35/50\n",
            "5/5 [==============================] - 1s 286ms/step - loss: 0.0503 - accuracy: 0.9906 - val_loss: 0.0206 - val_accuracy: 1.0000\n",
            "Epoch 36/50\n",
            "5/5 [==============================] - 1s 290ms/step - loss: 0.0513 - accuracy: 0.9906 - val_loss: 0.0148 - val_accuracy: 1.0000\n",
            "Epoch 37/50\n",
            "5/5 [==============================] - 1s 286ms/step - loss: 0.0326 - accuracy: 1.0000 - val_loss: 0.0190 - val_accuracy: 1.0000\n",
            "Epoch 38/50\n",
            "5/5 [==============================] - 1s 285ms/step - loss: 0.0365 - accuracy: 0.9969 - val_loss: 0.0333 - val_accuracy: 0.9875\n",
            "Epoch 39/50\n",
            "5/5 [==============================] - 1s 281ms/step - loss: 0.0282 - accuracy: 1.0000 - val_loss: 0.0123 - val_accuracy: 1.0000\n",
            "Epoch 40/50\n",
            "5/5 [==============================] - 1s 284ms/step - loss: 0.0250 - accuracy: 0.9969 - val_loss: 0.0124 - val_accuracy: 1.0000\n",
            "Epoch 41/50\n",
            "5/5 [==============================] - 1s 289ms/step - loss: 0.0187 - accuracy: 1.0000 - val_loss: 0.0171 - val_accuracy: 1.0000\n",
            "Epoch 42/50\n",
            "5/5 [==============================] - 1s 290ms/step - loss: 0.0271 - accuracy: 1.0000 - val_loss: 0.0074 - val_accuracy: 1.0000\n",
            "Epoch 43/50\n",
            "5/5 [==============================] - 1s 282ms/step - loss: 0.0131 - accuracy: 1.0000 - val_loss: 0.0139 - val_accuracy: 1.0000\n",
            "Epoch 44/50\n",
            "5/5 [==============================] - 1s 289ms/step - loss: 0.0136 - accuracy: 1.0000 - val_loss: 0.0061 - val_accuracy: 1.0000\n",
            "Epoch 45/50\n",
            "5/5 [==============================] - 1s 292ms/step - loss: 0.0169 - accuracy: 0.9969 - val_loss: 0.0178 - val_accuracy: 1.0000\n",
            "Epoch 46/50\n",
            "5/5 [==============================] - 1s 292ms/step - loss: 0.0147 - accuracy: 1.0000 - val_loss: 0.0045 - val_accuracy: 1.0000\n",
            "Epoch 47/50\n",
            "5/5 [==============================] - 1s 294ms/step - loss: 0.0137 - accuracy: 0.9969 - val_loss: 0.0039 - val_accuracy: 1.0000\n",
            "Epoch 48/50\n",
            "5/5 [==============================] - 1s 295ms/step - loss: 0.0178 - accuracy: 0.9969 - val_loss: 0.0154 - val_accuracy: 1.0000\n",
            "Epoch 49/50\n",
            "5/5 [==============================] - 1s 292ms/step - loss: 0.0193 - accuracy: 1.0000 - val_loss: 0.0042 - val_accuracy: 1.0000\n",
            "Epoch 50/50\n",
            "5/5 [==============================] - 1s 293ms/step - loss: 0.0144 - accuracy: 1.0000 - val_loss: 0.0035 - val_accuracy: 1.0000\n"
          ]
        }
      ],
      "source": [
        "epochs = 50\n",
        "history = model.fit(\n",
        "  train_ds,\n",
        "  validation_data=valid_ds,\n",
        "  epochs=epochs\n",
        ")"
      ]
    },
    {
      "cell_type": "markdown",
      "metadata": {
        "id": "vPIntFKL6ZtC"
      },
      "source": [
        "Visualising the training results."
      ]
    },
    {
      "cell_type": "code",
      "execution_count": 454,
      "metadata": {
        "id": "umOL4BY7up6Y",
        "colab": {
          "base_uri": "https://localhost:8080/",
          "height": 295
        },
        "outputId": "5d20754e-a4f3-425e-f326-80642b2d0f13"
      },
      "outputs": [
        {
          "output_type": "display_data",
          "data": {
            "text/plain": [
              "<Figure size 864x288 with 2 Axes>"
            ],
            "image/png": "[encoded data removed]"
          },
          "metadata": {
            "needs_background": "light"
          }
        }
      ],
      "source": [
        "acc = np.array(history.history['accuracy'])\n",
        "val_acc = np.array(history.history['val_accuracy'])\n",
        "\n",
        "loss = np.array(history.history['loss'])\n",
        "val_loss = np.array(history.history['val_loss'])\n",
        "\n",
        "epochs_range = range(epochs)\n",
        "\n",
        "plt.figure(figsize=(12, 4))\n",
        "plt.subplot(1, 2, 1)\n",
        "plt.plot(epochs_range, acc * 100, label='Training Accuracy')\n",
        "plt.plot(epochs_range, val_acc * 100, label='Validation Accuracy')\n",
        "plt.legend(loc='lower right')\n",
        "plt.xlabel(\"Epoch number\")\n",
        "plt.ylabel(\"Percentage accuracy (%)\")\n",
        "plt.title(\"Training and Validation Accuracy\")\n",
        "\n",
        "plt.subplot(1, 2, 2)\n",
        "plt.plot(epochs_range, loss, label='Training Loss')\n",
        "plt.plot(epochs_range, val_loss, label='Validation Loss')\n",
        "plt.legend(loc='upper right')\n",
        "plt.xlabel(\"Epoch number\")\n",
        "plt.ylabel(\"Loss\")\n",
        "plt.title(\"Training and Validation Loss\")\n",
        "plt.show()"
      ]
    },
    {
      "cell_type": "markdown",
      "metadata": {
        "id": "07jMKhv-6dLL"
      },
      "source": [
        "# Using the test dataset to assess the model's prediction accuracy."
      ]
    },
    {
      "cell_type": "markdown",
      "source": [
        "The following class handles predictions for each group in the test dataset, each group being a subfolder in the test dataset folder. Each group corresponds to a different orientation of the nanoparticle in the image. The class loads in the images from the subfolder and creates a TensorFlow dataset.\n",
        "\n",
        "The rotations are applied to the nanoparticles using 3x3 rotation matrices. The Gram–Schmidt process can then be used to represent this 3x3 matrix in 6D. The class can convert this 6D representation back into a matrix from which the Euler angles can be calculated.\n",
        "\n",
        "The absolute difference between the predicted and true rotation for each image is then calculated, and this can be plotted as well as the predictions themselves."
      ],
      "metadata": {
        "id": "e_ahBs-70KkM"
      }
    },
    {
      "cell_type": "code",
      "source": [
        "class prediction_handler:\n",
        "  \"\"\"\n",
        "  This class is used to store data about predicted images from each rotation.\n",
        "  The folder path is specified and the shape and its rotation are saved. Each\n",
        "  image belonging to that shape and rotation is then used to test the model and\n",
        "  the average absolute difference between the true and predicted rotations are\n",
        "  is calculated.\n",
        "  \"\"\"\n",
        "  def __init__(self, folder_path):\n",
        "    \"\"\"\n",
        "    Initialise the class.\n",
        "\n",
        "    Inputs:\n",
        "      folder_path: String, subfolder in training folder with shape and rotation\n",
        "    \"\"\"\n",
        "    self.folder_path = folder_path\n",
        "    label = self.folder_path.split(\"/\")[-1]\n",
        "    self.actual_shape = label.split(\"_\")[0]\n",
        "    self.actual_rotation = self.calculate_euler(json.loads(label.split(\"_\")[-1]))\n",
        "    self.img_paths = []\n",
        "    self.total = 0\n",
        "    self.predictions = []\n",
        "    self.load_img_paths()\n",
        "    self.run()\n",
        "\n",
        "  def calculate_euler(self, label):\n",
        "    \"\"\"\n",
        "    Calculates Euler angles from 6D representation of rotation.\n",
        "\n",
        "    Inputs:\n",
        "      label: List, 6 floats corresponding to numbers in rotation matrix\n",
        "\n",
        "    Outputs:\n",
        "      rotation_euler: NumPy array, 1x3 array of Euler angles rounded to 1dp\n",
        "    \"\"\"\n",
        "    rotation = np.array(label).reshape((2, 3)).T\n",
        "    \n",
        "    v1 = rotation[:, 0]\n",
        "    v2 = rotation[:, 1]\n",
        "    e1 = v1 / np.linalg.norm(v1)\n",
        "    u2 = v2 - (np.dot(np.dot(e1, v2), e1))\n",
        "    e2 = u2 / np.linalg.norm(u2)\n",
        "    e3 = np.cross(e1, e2)\n",
        "\n",
        "    rotation_so3 = np.vstack((e1, e2, e3)).T\n",
        "\n",
        "    rotation_euler = R.from_matrix(rotation_so3).as_euler(\"xyz\", degrees=True)\n",
        "\n",
        "    return np.round(rotation_euler, 1)\n",
        "\n",
        "  def load_img_paths(self):\n",
        "    \"\"\"\n",
        "    Appends the path to each image to a list.\n",
        "    \"\"\"\n",
        "    for img_path in os.listdir(self.folder_path):\n",
        "      if img_path not in self.img_paths:\n",
        "        self.img_paths.append(os.path.join(self.folder_path, img_path))\n",
        "\n",
        "  def predict_image(self, img_path):\n",
        "    \"\"\"\n",
        "    Predicts a specified image using neural network.\n",
        "\n",
        "    Inputs:\n",
        "      img_path: String, path to image being used\n",
        "    \"\"\"\n",
        "    img = tf.keras.utils.load_img(img_path, target_size=img_size, color_mode=\"grayscale\")\n",
        "    img_array = tf.keras.utils.img_to_array(img)\n",
        "    img_array = tf.expand_dims(img_array, 0) # Create a batch\n",
        "\n",
        "    predictions = model.predict(img_array)\n",
        "    score = tf.nn.softmax(predictions[0])\n",
        "    prediction = class_names[np.argmax(score)].split(\"_\")[-1]\n",
        "    predicted_rotation = self.calculate_euler(json.loads(prediction))\n",
        "    return predicted_rotation\n",
        "\n",
        "  def run(self):\n",
        "    \"\"\"\n",
        "    Predicts each image belonging to this class and calculates the average\n",
        "    absolute difference between true and predicted rotations.\n",
        "    \"\"\"\n",
        "    self.predictions = []\n",
        "\n",
        "    for img_path in self.img_paths:\n",
        "      self.predictions.append(self.predict_image(img_path))\n",
        "\n",
        "    self.predictions = np.asarray(self.predictions)\n",
        "    self.avg_pred = np.mean(self.predictions, axis=0)\n",
        "    \n",
        "    self.dif = np.abs(self.predictions - self.actual_rotation)\n",
        "    self.avg_dif = np.mean(self.dif, axis=0)\n",
        "    self.total = len(self.predictions)\n",
        "\n",
        "  def plot_predictions(self):\n",
        "    \"\"\"\n",
        "    Plots the neural network's predictions.\n",
        "    \"\"\"\n",
        "    plt.figure(figsize=(12, 7))\n",
        "    x = np.arange(self.total)\n",
        "\n",
        "    plt.scatter(x, self.predictions[:,0], c='b')#, label='Predicted angle rx')\n",
        "    plt.hlines(self.avg_pred[0], x[0], x[-1], 'b', label='Average predicted angle rx = %s°' % np.round(self.avg_pred[0], 2))\n",
        "    plt.hlines(self.actual_rotation[0], x[0], x[-1], 'b', linestyles='dashed', label='Expected angle rx = %s°' % self.actual_rotation[0])\n",
        "\n",
        "    plt.scatter(x, self.predictions[:,1], c='r')#, label='Predicted angle ry')\n",
        "    plt.hlines(self.avg_pred[1], x[0], x[-1], 'r', label='Average predicted angle ry = %s°' % np.round(self.avg_pred[1], 2))\n",
        "    plt.hlines(self.actual_rotation[1], x[0], x[-1], 'r', linestyles='dashed', label='Expected angle ry = %s°' % self.actual_rotation[1])\n",
        "\n",
        "    plt.scatter(x, self.predictions[:,2], c='g')#, label='Predicted angle rz')\n",
        "    plt.hlines(self.avg_pred[2], x[0], x[-1], 'g', label='Average predicted angle rz = %s°' % np.round(self.avg_pred[2], 2))\n",
        "    plt.hlines(self.actual_rotation[2], x[0], x[-1], 'g', linestyles='dashed', label='Expected angle rz = %s°' % self.actual_rotation[2])\n",
        "\n",
        "    plt.ylabel(\"Predicted angle (°)\")\n",
        "    plt.xlim([x[0], x[-1]])\n",
        "    plt.ylim([-45, 45])\n",
        "    plt.legend(loc='best')\n",
        "    plt.title(\"Model Predictions | Euler Angles RX%s RY%s RZ%s\" % (self.actual_rotation[0], self.actual_rotation[1], self.actual_rotation[2]))\n",
        "    plt.show()\n",
        "\n",
        "  def plot_difs(self):\n",
        "    \"\"\"\n",
        "    Plots the difference between the neural network's predictions and the true rotation.\n",
        "    \"\"\"\n",
        "    plt.figure(figsize=(12, 7))\n",
        "    x = np.arange(self.total)\n",
        "    plt.scatter(x, self.dif[:,0], c='b', label='Absolute difference in rx')\n",
        "    plt.hlines(self.avg_dif[0], x[0], x[-1], 'b', label='Average difference in rx = %s°' % self.avg_dif[0])\n",
        "    plt.scatter(x, self.dif[:,1], c='r', label='Absolute difference in ry')\n",
        "    plt.hlines(self.avg_dif[1], x[0], x[-1], 'r', label='Average difference in ry = %s°' % self.avg_dif[1])\n",
        "    plt.scatter(x, self.dif[:,2], c='g', label='Absolute difference in rz')\n",
        "    plt.hlines(self.avg_dif[2], x[0], x[-1], 'g', label='Average difference in rz = %s°' % self.avg_dif[2])\n",
        "    plt.ylabel(\"Difference in angle (°)\")\n",
        "    plt.xlim([x[0], x[-1]])\n",
        "    plt.ylim([0, 45])\n",
        "    plt.legend(loc='best')\n",
        "    plt.title(\"Model Predictions | Euler Angles RX%s RY%s RZ%s\" % (self.actual_rotation[0], self.actual_rotation[1], self.actual_rotation[2]))\n",
        "    plt.show()"
      ],
      "metadata": {
        "id": "CBgjN2tz27ej"
      },
      "execution_count": 455,
      "outputs": []
    },
    {
      "cell_type": "markdown",
      "source": [
        "# Loading in the images."
      ],
      "metadata": {
        "id": "MBEBcs-iCKgz"
      }
    },
    {
      "cell_type": "markdown",
      "source": [
        "The images in each group are used to test the model. The predictions are then sorted to be displayed in a graph."
      ],
      "metadata": {
        "id": "4PQpULFJCk3G"
      }
    },
    {
      "cell_type": "code",
      "source": [
        "dr_test = 15\n",
        "testing_path = os.path.join(direc, \"Test DR%s\" % dr_test)\n",
        "\n",
        "true_rotations = [] # True rotations of each simulated nanoparticle\n",
        "prediction_groups = []\n",
        "avg_pred_rotations = []\n",
        "avg_dif_rotations = [] # Average absolute difference between true and predicted rotations\n",
        "\n",
        "counter = 1\n",
        "rotations = os.listdir(testing_path)\n",
        "total_rotations = len(rotations)\n",
        "\n",
        "for rotation in rotations:\n",
        "  print(\"\\rPredicting rotation %s of %s.\" % (counter, total_rotations), end='', flush=True)\n",
        "  rotation_path = os.path.join(testing_path, rotation)\n",
        "  rotation_object = prediction_handler(rotation_path)\n",
        "  prediction_groups.append(rotation_object)\n",
        "  true_rotations.append(rotation_object.actual_rotation)\n",
        "  avg_pred_rotations.append(rotation_object.avg_pred)\n",
        "  avg_dif_rotations.append(rotation_object.avg_dif)\n",
        "  counter += 1\n",
        "\n",
        "print(\"\\rAll rotations predicted.\", end='', flush=True)\n",
        "\n",
        "true_rotations = np.asarray(true_rotations)\n",
        "prediction_groups = np.asarray(prediction_groups)\n",
        "avg_pred_rotations = np.asarray(avg_pred_rotations)\n",
        "avg_dif_rotations = np.asarray(avg_dif_rotations)"
      ],
      "metadata": {
        "id": "qdfUOy5uRvSi",
        "colab": {
          "base_uri": "https://localhost:8080/"
        },
        "outputId": "12a27385-5a76-4def-9e13-44d51754cef2"
      },
      "execution_count": 483,
      "outputs": [
        {
          "output_type": "stream",
          "name": "stdout",
          "text": [
            "All rotations predicted."
          ]
        }
      ]
    },
    {
      "cell_type": "markdown",
      "metadata": {
        "id": "Zn72CwbJnVkr"
      },
      "source": [
        "Sorting the results in order of increasing angle."
      ]
    },
    {
      "cell_type": "code",
      "source": [
        "rx_min = np.min(true_rotations[:,0])\n",
        "rx_max = np.max(true_rotations[:,0])\n",
        "ry_min = np.min(true_rotations[:,1])\n",
        "ry_max = np.max(true_rotations[:,1])\n",
        "\n",
        "def sort_and_reshape_array(true_rots, avg_preds, avg_difs, indices):\n",
        "  \"\"\"\n",
        "  Sorts the true rotations and average differences in order of increasing angle.\n",
        "  The indices determine which axis to use for the order.\n",
        "\n",
        "  Inputs:\n",
        "    true_rots: NumPy array, Nx3 array of Euler angles\n",
        "    avg_preds: NumPy array, Nx3 array of predicted rotations\n",
        "    avg_difs: NumPy array, Nx3 array of differences between true and predicted rotations\n",
        "    indices: List, [0,1] to sort using x-axis, [1, 0] for y-axis\n",
        "\n",
        "  Outputs:\n",
        "    ordered_rots: NumPy array, Nx3 sorted array of Euler angles\n",
        "    ordered_avg_pred_rotations: NumPy array, Nx3 sorted array of predicted angles\n",
        "    ordered_avg_dif_rotations: NumPy array, Nx3 sorted array of differences between true and predicted rotations\n",
        "  \"\"\"\n",
        "  order = np.lexsort((true_rots[:,indices[0]], true_rots[:,indices[1]]))\n",
        "  ordered_rots = true_rots[order]\n",
        "  ordered_avg_pred_rotations = avg_preds[order]\n",
        "  ordered_avg_dif_rotations = avg_difs[order]\n",
        "\n",
        "  new_shape_dim = int(np.sqrt(ordered_rots.shape[0]))\n",
        "  new_shape = (new_shape_dim, new_shape_dim, ordered_rots.shape[1])\n",
        "\n",
        "  ordered_rots = ordered_rots.reshape((new_shape))\n",
        "  ordered_avg_pred_rotations = ordered_avg_pred_rotations.reshape((new_shape))\n",
        "  ordered_avg_dif_rotations = ordered_avg_dif_rotations.reshape((new_shape))\n",
        "\n",
        "  return ordered_rots, ordered_avg_pred_rotations, ordered_avg_dif_rotations"
      ],
      "metadata": {
        "id": "NLTOk7jGSbHQ"
      },
      "execution_count": 484,
      "outputs": []
    },
    {
      "cell_type": "code",
      "source": [
        "ordered_rots_x, ordered_avg_pred_x, ordered_avg_dif_x = sort_and_reshape_array(true_rotations, avg_pred_rotations, avg_dif_rotations, [0, 1])\n",
        "ordered_rots_y, ordered_avg_pred_y, ordered_avg_dif_y = sort_and_reshape_array(true_rotations, avg_pred_rotations, avg_dif_rotations, [1, 0])"
      ],
      "metadata": {
        "id": "4UzRiDlTF36r"
      },
      "execution_count": 485,
      "outputs": []
    },
    {
      "cell_type": "markdown",
      "source": [
        "# Visualising the model's accuracy."
      ],
      "metadata": {
        "id": "dXpv3gRTGhzT"
      }
    },
    {
      "cell_type": "markdown",
      "metadata": {
        "id": "91-d9VXSnbkb"
      },
      "source": [
        "The average predicted angles and absolute differences between the true and predicted angles are plotted versus true rotation around the x-axis and y-axis. The different lines in both graphs represent different angles of rotation about the other axis to the one shown in each graph, with black to red representing increasing angle."
      ]
    },
    {
      "cell_type": "code",
      "source": [
        "fig_pred = plt.figure(figsize=(24, 7))\n",
        "\n",
        "plt.subplot(121)\n",
        "\n",
        "for index in range(ordered_rots_x.shape[0]):\n",
        "  actual_rotation = ordered_rots_x[index][:,0]\n",
        "  rotation_pred = ordered_avg_pred_x[index][:,0]\n",
        "  plt.plot(actual_rotation, rotation_pred, c=(index / ordered_rots_x.shape[0], 0.2, 0.3), label='RY%s RZ%s' % (ordered_rots_x[index][0][1], ordered_rots_x[index][0][2]))\n",
        "\n",
        "plt.xlabel(\"Actual RX rotation (°)\", fontsize=16)\n",
        "plt.ylabel(\"Average predicted angle (°)\", fontsize=16)\n",
        "plt.xlim([rx_min, rx_max])\n",
        "plt.ylim([0, 45])\n",
        "plt.title(\"Average Predicted RX\", fontsize=16)\n",
        "plt.xticks(fontsize=16)\n",
        "plt.yticks(fontsize=16)\n",
        "#plt.legend(loc='best', fontsize=14)\n",
        "\n",
        "plt.subplot(122)\n",
        "\n",
        "for index in range(ordered_rots_y.shape[0]):\n",
        "  actual_rotation = ordered_rots_y[index][:,1]\n",
        "  rotation_pred = ordered_avg_pred_y[index][:,1]\n",
        "  plt.plot(actual_rotation, rotation_pred, c=(index / ordered_rots_y.shape[0], 0.2, 0.3), label=\"RX%s RZ%s\" % (ordered_rots_y[index][0][0], ordered_rots_y[index][0][2]))\n",
        "\n",
        "plt.xlabel(\"Actual RY rotation (°)\", fontsize=16)\n",
        "plt.xlim([rx_min, rx_max])\n",
        "plt.ylim([0, 45])\n",
        "plt.title(\"Average Predicted RY\", fontsize=16)\n",
        "plt.xticks(fontsize=16)\n",
        "plt.yticks(fontsize=16)\n",
        "#plt.legend(loc='best', fontsize=14)\n",
        "\n",
        "plt.suptitle(\"%s | Training Interval %s° | Testing Interval %s°\" % (folder_name, dr_train, dr_test), fontsize=16)\n",
        "plt.tight_layout()\n",
        "plt.subplots_adjust(top=0.90)\n",
        "\n",
        "plt.show()"
      ],
      "metadata": {
        "colab": {
          "base_uri": "https://localhost:8080/",
          "height": 514
        },
        "id": "lAQbq3Hr6xBu",
        "outputId": "2036d0b8-e4fe-46d4-82a1-4c9b5fccbe06"
      },
      "execution_count": 486,
      "outputs": [
        {
          "output_type": "display_data",
          "data": {
            "text/plain": [
              "<Figure size 1728x504 with 2 Axes>"
            ],
            "image/png": "[encoded data removed]"
          },
          "metadata": {
            "needs_background": "light"
          }
        }
      ]
    },
    {
      "cell_type": "code",
      "source": [
        "drx = []\n",
        "dry = []\n",
        "\n",
        "fig_dif = plt.figure(figsize=(24, 7))\n",
        "\n",
        "plt.subplot(121)\n",
        "\n",
        "for index in range(ordered_rots_x.shape[0]):\n",
        "  actual_rotation = ordered_rots_x[index][:,0]\n",
        "  rotation_dif = ordered_avg_dif_x[index][:,0]\n",
        "  plt.plot(actual_rotation, rotation_dif, c=(index / ordered_rots_x.shape[0], 0.2, 0.3), label=\"RY%s RZ%s\" % (ordered_rots_x[index][0][1], ordered_rots_x[index][0][2]))\n",
        "  drx.append(rotation_dif)\n",
        "\n",
        "drx = np.asarray(drx)\n",
        "mean_x = np.mean(drx)\n",
        "plt.hlines(mean_x, rx_min, rx_max, color='g', label=\"Mean difference in RX = %s°\" % round(mean_x, 2))\n",
        "plt.xlabel(\"Actual RX rotation (°)\", fontsize=16)\n",
        "plt.ylabel(\"Average difference in angle (°)\", fontsize=16)\n",
        "plt.xlim([rx_min, rx_max])\n",
        "plt.ylim([0, 10])\n",
        "plt.title(\"Average Difference in RX\", fontsize=16)\n",
        "plt.xticks(fontsize=16)\n",
        "plt.yticks(fontsize=16)\n",
        "#plt.legend(loc='best', fontsize=14)\n",
        "\n",
        "plt.subplot(122)\n",
        "\n",
        "for index in range(ordered_rots_y.shape[0]):\n",
        "  actual_rotation = ordered_rots_y[index][:,1]\n",
        "  rotation_dif = ordered_avg_dif_y[index][:,1]\n",
        "  plt.plot(actual_rotation, rotation_dif, c=(index / ordered_rots_y.shape[0], 0.2, 0.3), label=\"RX%s RZ%s\" % (ordered_rots_y[index][0][0], ordered_rots_y[index][0][2]))\n",
        "  dry.append(rotation_dif)\n",
        "\n",
        "dry = np.asarray(dry)\n",
        "mean_y = np.mean(dry)\n",
        "plt.hlines(mean_y, ry_min, ry_max, color='g', label=\"Mean difference in RY = %s°\" % round(mean_y, 2))\n",
        "plt.xlabel(\"Actual RY rotation (°)\", fontsize=16)\n",
        "plt.xlim([rx_min, rx_max])\n",
        "plt.ylim([0, 10])\n",
        "plt.title(\"Average Difference in RY\", fontsize=16)\n",
        "plt.xticks(fontsize=16)\n",
        "plt.yticks(fontsize=16)\n",
        "#plt.legend(loc='best', fontsize=14)\n",
        "\n",
        "plt.suptitle(\"%s | Training Interval %s° | Testing Interval %s°\" % (folder_name, dr_train, dr_test), fontsize=16)\n",
        "plt.tight_layout()\n",
        "plt.subplots_adjust(top=0.90)\n",
        "\n",
        "plt.show()"
      ],
      "metadata": {
        "id": "1vW_KTlgDqJu",
        "colab": {
          "base_uri": "https://localhost:8080/",
          "height": 514
        },
        "outputId": "3d9e87ac-774b-4f49-fc3a-1cb349f85adc"
      },
      "execution_count": 487,
      "outputs": [
        {
          "output_type": "display_data",
          "data": {
            "text/plain": [
              "<Figure size 1728x504 with 2 Axes>"
            ],
            "image/png": "[encoded data removed]"
          },
          "metadata": {
            "needs_background": "light"
          }
        }
      ]
    },
    {
      "cell_type": "markdown",
      "source": [
        "# Saving the results."
      ],
      "metadata": {
        "id": "_PYFtI9cDhp1"
      }
    },
    {
      "cell_type": "markdown",
      "source": [
        "The above graphs are saved into a \"Results\" subfolder."
      ],
      "metadata": {
        "id": "VE_gOUErDQJY"
      }
    },
    {
      "cell_type": "code",
      "source": [
        "results_direc = os.path.join(direc, \"Results\", \"Classification Results\")\n",
        "\n",
        "if not os.path.exists(results_direc):\n",
        "  os.makedirs(results_direc)\n",
        "\n",
        "pred_name = \"Classification Pred DR_train%s DR_test%s.png\" % (dr_train, dr_test)\n",
        "dif_name = \"Classification Dif DR_train%s DR_test%s.png\" % (dr_train, dr_test)\n",
        "fig_pred.savefig(os.path.join(results_direc, pred_name))\n",
        "fig_dif.savefig(os.path.join(results_direc, dif_name))"
      ],
      "metadata": {
        "id": "7KOBhVQqTs-Z"
      },
      "execution_count": 488,
      "outputs": []
    },
    {
      "cell_type": "markdown",
      "source": [
        "The data is saved to a .csv file to be analysed in the notebook *AnalyseModelPredictions.ipynb*. If the file does not exist already then one is created and headers are added in the first row. The data to be added is the angle between each orientation in the training and test dataset as well as the average absolute difference between the true and predicted rotations."
      ],
      "metadata": {
        "id": "vr8iVOWJDWX1"
      }
    },
    {
      "cell_type": "code",
      "source": [
        "results_name = \"Classification Results.csv\"\n",
        "results_csv = os.path.join(results_direc, results_name)\n",
        "\n",
        "if not os.path.exists(results_csv):\n",
        "  with open(results_csv, 'w', newline='') as file:\n",
        "    writer = csv.writer(file)\n",
        "    writer.writerow([\"DR TRAIN\", \"DR TEST\", \"RX AVG DIF\", \"RY AVG DIF\"])"
      ],
      "metadata": {
        "id": "ajGuQqRKqJn5"
      },
      "execution_count": 489,
      "outputs": []
    },
    {
      "cell_type": "markdown",
      "source": [
        "The data is added as a new row."
      ],
      "metadata": {
        "id": "Gn7LMC4TDw8Z"
      }
    },
    {
      "cell_type": "code",
      "source": [
        "with open(results_csv, 'a', newline='') as file:\n",
        "    writer = csv.writer(file)\n",
        "    writer.writerow([dr_train, dr_test, mean_x, mean_y])"
      ],
      "metadata": {
        "id": "dxAcVCKoI2I1"
      },
      "execution_count": 490,
      "outputs": []
    },
    {
      "cell_type": "markdown",
      "source": [
        "Printing the .csv file."
      ],
      "metadata": {
        "id": "gyUyVfM4EXTn"
      }
    },
    {
      "cell_type": "code",
      "source": [
        "with open(results_csv, 'r') as file:\n",
        "    reader = csv.reader(file)\n",
        "    for row in reader:\n",
        "        print(row)"
      ],
      "metadata": {
        "colab": {
          "base_uri": "https://localhost:8080/"
        },
        "id": "4pbFIYI6BM_a",
        "outputId": "6388fb66-78d3-4520-acfb-67670acc6eca"
      },
      "execution_count": 491,
      "outputs": [
        {
          "output_type": "stream",
          "name": "stdout",
          "text": [
            "['DR TRAIN', 'DR TEST', 'RX AVG DIF', 'RY AVG DIF']\n",
            "['2.5', '2.5', '1.0554016620498614', '1.3878116343490305']\n",
            "['2.5', '5', '1.12', '1.41']\n",
            "['2.5', '7.5', '1.0612244897959184', '1.4489795918367347']\n",
            "['2.5', '15', '1.125', '1.96875']\n",
            "['2.5', '2.5', '1.2382271468144044', '1.4141274238227146']\n",
            "['2.5', '5', '1.255', '1.4']\n",
            "['2.5', '7.5', '1.0204081632653061', '1.4183673469387754']\n",
            "['2.5', '15', '1.5', '1.59375']\n",
            "['2.5', '15', '1.5', '2.0']\n",
            "['2.5', '7.5', '1.4489795918367347', '1.663265306122449']\n",
            "['2.5', '5', '1.33', '1.58']\n",
            "['2.5', '2.5', '1.2673130193905817', '1.5166204986149585']\n",
            "['2.5', '2.5', '1.1204986149584488', '1.3033240997229918']\n",
            "['2.5', '5', '1.17', '1.36']\n",
            "['2.5', '7.5', '1.3061224489795917', '1.4795918367346939']\n",
            "['2.5', '15', '1.46875', '1.6875']\n",
            "['2.5', '2.5', '1.1551246537396123', '1.3337950138504155']\n",
            "['2.5', '5', '1.275', '1.135']\n",
            "['2.5', '7.5', '1.030612244897959', '1.5']\n",
            "['2.5', '15', '1.25', '1.5']\n",
            "['5', '2.5', '1.5858725761772854', '1.8767313019390581']\n",
            "['5', '5', '0.73', '1.03']\n",
            "['5', '7.5', '1.4591836734693877', '1.846938775510204']\n",
            "['5', '15', '1.25', '1.6875']\n",
            "['5', '2.5', '1.7493074792243768', '1.835180055401662']\n",
            "['5', '5', '1.07', '1.22']\n",
            "['5', '7.5', '1.683673469387755', '1.7448979591836735']\n",
            "['5', '15', '1.0', '1.0625']\n",
            "['5', '2.5', '1.8462603878116344', '1.8795013850415512']\n",
            "['5', '5', '1.25', '1.28']\n",
            "['5', '7.5', '2.0714285714285716', '1.9489795918367347']\n",
            "['5', '15', '1.6875', '1.8125']\n",
            "['5', '2.5', '1.6689750692520775', '1.979224376731302']\n",
            "['5', '5', '0.82', '1.16']\n",
            "['5', '7.5', '2.010204081632653', '2.1122448979591835']\n",
            "['5', '15', '0.6875', '1.0625']\n",
            "['5', '2.5', '1.7493074792243768', '1.8822714681440442']\n",
            "['5', '5', '1.14', '1.14']\n",
            "['5', '7.5', '2.0918367346938775', '1.9489795918367347']\n",
            "['5', '15', '1.25', '2.0625']\n",
            "['7.5', '2.5', '2.2354570637119116', '2.4598337950138505']\n",
            "['7.5', '5', '1.975', '2.61']\n",
            "['7.5', '7.5', '0.7040816326530612', '1.163265306122449']\n",
            "['7.5', '15', '0.1875', '0.9375']\n",
            "['7.5', '2.5', '2.1578947368421053', '2.5138504155124655']\n",
            "['7.5', '5', '2.01', '2.445']\n",
            "['7.5', '7.5', '0.42857142857142855', '1.010204081632653']\n",
            "['7.5', '15', '0.46875', '1.125']\n",
            "['7.5', '2.5', '2.6301939058171744', '2.6592797783933517']\n",
            "['7.5', '5', '2.495', '2.56']\n",
            "['7.5', '7.5', '1.530612244897959', '1.4387755102040816']\n",
            "['7.5', '15', '1.3125', '0.5625']\n",
            "['7.5', '2.5', '2.188365650969529', '2.3199445983379503']\n",
            "['7.5', '5', '2.09', '2.08']\n",
            "['7.5', '7.5', '0.5204081632653061', '0.5510204081632653']\n",
            "['7.5', '15', '0.75', '0.5625']\n",
            "['7.5', '2.5', '2.1149584487534625', '2.397506925207756']\n",
            "['7.5', '5', '2.01', '2.43']\n",
            "['7.5', '7.5', '0.2755102040816326', '0.7653061224489796']\n",
            "['7.5', '15', '0.09375', '0.9375']\n",
            "['15', '2.5', '3.9265927977839334', '4.045706371191136']\n",
            "['15', '5', '3.54', '3.5']\n",
            "['15', '7.5', '3.2142857142857144', '3.4591836734693877']\n",
            "['15', '15', '0.0', '0.1875']\n",
            "['15', '2.5', '3.7825484764542936', '3.934903047091413']\n",
            "['15', '5', '3.38', '3.43']\n",
            "['15', '7.5', '3.2142857142857144', '3.336734693877551']\n",
            "['15', '15', '0.0', '0.0']\n",
            "['15', '2.5', '3.801939058171745', '4.358725761772853']\n",
            "['15', '5', '3.43', '4.04']\n",
            "['15', '7.5', '3.2142857142857144', '3.4591836734693877']\n",
            "['15', '15', '0.0', '0.0']\n",
            "['15', '2.5', '3.9265927977839334', '4.153739612188366']\n",
            "['15', '5', '3.46', '3.72']\n",
            "['15', '7.5', '3.2755102040816326', '3.642857142857143']\n",
            "['15', '15', '0.1875', '0.5625']\n",
            "['15', '2.5', '3.8490304709141276', '4.076177285318559']\n",
            "['15', '5', '3.45', '3.79']\n",
            "['15', '7.5', '3.2142857142857144', '3.4591836734693877']\n",
            "['15', '15', '0.0', '0.375']\n"
          ]
        }
      ]
    }
  ],
  "metadata": {
    "colab": {
      "collapsed_sections": [],
      "name": "ClassificationNanoparticles.ipynb",
      "provenance": []
    },
    "kernelspec": {
      "display_name": "Python 3",
      "name": "python3"
    },
    "language_info": {
      "name": "python"
    }
  },
  "nbformat": 4,
  "nbformat_minor": 0
}