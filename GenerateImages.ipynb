{
  "cells": [
    {
      "cell_type": "markdown",
      "metadata": {
        "id": "XQJpsZ5d7j3W"
      },
      "source": [
        "# Generating Simulated Nanoparticle Images"
      ]
    },
    {
      "cell_type": "markdown",
      "metadata": {
        "id": "9_ObuhVKBLYY"
      },
      "source": [
        "In this notebook, simulated nanoparticles will be generated. These will then be rotated using rotation matrices and projected onto a 2D plane. This projection will be blurred and Poisson noise will be added. The projections will be saved as images directly into Google Drive, separated into training, validation, and testing datasets.\n",
        "\n",
        "All of my work can be found at https://github.com/javidahmed64592/Y4-Nanoparticles-Project."
      ]
    },
    {
      "cell_type": "markdown",
      "metadata": {
        "id": "2RVzK8ZL7vEv"
      },
      "source": [
        "# Importing the relevant libraries and configuring the figure."
      ]
    },
    {
      "cell_type": "code",
      "source": [
        "pip install --upgrade Pillow"
      ],
      "metadata": {
        "colab": {
          "base_uri": "https://localhost:8080/"
        },
        "id": "765bI86EmJAl",
        "outputId": "2fbc0a7e-6fe9-4520-896b-3f465f47566b"
      },
      "execution_count": 1,
      "outputs": [
        {
          "output_type": "stream",
          "name": "stdout",
          "text": [
            "Requirement already satisfied: Pillow in /usr/local/lib/python3.7/dist-packages (9.1.0)\n"
          ]
        }
      ]
    },
    {
      "cell_type": "code",
      "execution_count": 2,
      "metadata": {
        "colab": {
          "base_uri": "https://localhost:8080/",
          "height": 34
        },
        "id": "AIZHGjEKjzbm",
        "outputId": "c695fb67-b0e0-44df-a292-3a3889e35167"
      },
      "outputs": [
        {
          "output_type": "display_data",
          "data": {
            "text/plain": [
              "<Figure size 216x216 with 0 Axes>"
            ]
          },
          "metadata": {}
        }
      ],
      "source": [
        "import warnings\n",
        "warnings.simplefilter(\"ignore\", DeprecationWarning)\n",
        "\n",
        "import numpy as np\n",
        "import os\n",
        "import cv2\n",
        "import PIL\n",
        "from PIL import ImageFilter\n",
        "import matplotlib.pyplot as plt\n",
        "import datetime\n",
        "\n",
        "img_width, img_height = 128, 128\n",
        "plt.style.use(\"dark_background\")\n",
        "fig = plt.figure(figsize=(3, 3))"
      ]
    },
    {
      "cell_type": "markdown",
      "metadata": {
        "id": "efFN_6LZ96KN"
      },
      "source": [
        "The images are saved directly in Google Drive."
      ]
    },
    {
      "cell_type": "code",
      "execution_count": 3,
      "metadata": {
        "colab": {
          "base_uri": "https://localhost:8080/"
        },
        "id": "PM7GwkYWne1g",
        "outputId": "81450a1c-ae1d-4333-c368-d2d8fc93413c"
      },
      "outputs": [
        {
          "output_type": "stream",
          "name": "stdout",
          "text": [
            "Mounted at /content/drive\n"
          ]
        }
      ],
      "source": [
        "from google.colab import drive\n",
        "drive_path = \"/content/drive\"\n",
        "drive.mount(drive_path, force_remount=True)\n",
        "\n",
        "cwd = os.path.join(drive_path, \"MyDrive\", \"Nanoparticles\")\n",
        "file_type = \"png\""
      ]
    },
    {
      "cell_type": "markdown",
      "source": [
        "# Helper functions."
      ],
      "metadata": {
        "id": "i74pf85waNN4"
      }
    },
    {
      "cell_type": "markdown",
      "metadata": {
        "id": "UXGK8VD9_c_W"
      },
      "source": [
        "The following functions are used to augment the data by randomly adjusting the brightness and channels."
      ]
    },
    {
      "cell_type": "code",
      "execution_count": 4,
      "metadata": {
        "id": "hc1WAbghUnO1"
      },
      "outputs": [],
      "source": [
        "def brightness(img, low, high):\n",
        "  \"\"\"\n",
        "  Adjusts image brightness randomly by a factor between low and high.\n",
        "\n",
        "  Inputs:\n",
        "    img: NumPy array, image to use to adjust brightness\n",
        "    low: Float, lower limit for random factor to multiply image's brightness\n",
        "    high: Float, upper limit for random factor to multiply image's brightness\n",
        "  \n",
        "  Outputs:\n",
        "    img: NumPy array, image after brightness has been adjusted\n",
        "  \"\"\"\n",
        "  value = np.random.uniform(low, high)\n",
        "  hsv = cv2.cvtColor(img, cv2.COLOR_RGB2HSV)\n",
        "  hsv = np.array(hsv, dtype = np.float64)\n",
        "  hsv[:,:,1] = hsv[:,:,1] * value\n",
        "  hsv[:,:,1][hsv[:,:,1] > 255]  = 255\n",
        "  hsv[:,:,2] = hsv[:,:,2] * value \n",
        "  hsv[:,:,2][hsv[:,:,2] > 255]  = 255\n",
        "  hsv = np.array(hsv, dtype = np.uint8)\n",
        "  img = cv2.cvtColor(hsv, cv2.COLOR_HSV2RGB)\n",
        "  return img"
      ]
    },
    {
      "cell_type": "code",
      "execution_count": 5,
      "metadata": {
        "id": "ZI_7PF-AUqlV"
      },
      "outputs": [],
      "source": [
        "def channel_shift(img, value):\n",
        "  \"\"\"\n",
        "  Adjusts image channels randomly by a specified value.\n",
        "\n",
        "  Inputs:\n",
        "    img: NumPy array, image to use to adjust channels\n",
        "    value: Integer, adjust channels by some random integer in the range [-value, value)\n",
        "  \n",
        "  Outputs:\n",
        "    img: NumPy array, image after channels have been adjusted\n",
        "  \"\"\"\n",
        "  value = int(np.random.uniform(-value, value))\n",
        "  img = img + value\n",
        "  img[:,:,:][img[:,:,:] > 255]  = 255\n",
        "  img[:,:,:][img[:,:,:] < 0]  = 0\n",
        "  img = img.astype(np.uint8)\n",
        "  return img"
      ]
    },
    {
      "cell_type": "markdown",
      "metadata": {
        "id": "7mQcBd-PX1Sk"
      },
      "source": [
        "The following function is used to map a random Poisson array to be in the limits of the plot to simulate Poisson background noise."
      ]
    },
    {
      "cell_type": "code",
      "execution_count": 6,
      "metadata": {
        "id": "2RF8zicgU7_0"
      },
      "outputs": [],
      "source": [
        "def map_params(array_to_map, map_range):\n",
        "  \"\"\"\n",
        "  Maps an array from its range to a new specified range.\n",
        "\n",
        "  Inputs:\n",
        "    array_to_map: NumPy array, array to be mapped to a new range\n",
        "    map_range: NumPy array, range to use for new mapped array\n",
        "  \n",
        "  Outputs:\n",
        "    mapped_array: NumPy array, array_to_map mapped to new map_range\n",
        "  \"\"\"\n",
        "  y_max, y_min = np.max(array_to_map), np.min(array_to_map)\n",
        "  map_max, map_min = np.max(map_range), np.min(map_range)\n",
        "\n",
        "  mapped_array = map_min + ((array_to_map - y_min) * (map_max - map_min) / (y_max - y_min))\n",
        "\n",
        "  return mapped_array"
      ]
    },
    {
      "cell_type": "markdown",
      "source": [
        "The following function is used to generate a list of numbers in a specified range and with a specified step between each number."
      ],
      "metadata": {
        "id": "DaoJQFPs0bXK"
      }
    },
    {
      "cell_type": "code",
      "execution_count": 7,
      "metadata": {
        "id": "a9i6lNqho9Yg"
      },
      "outputs": [],
      "source": [
        "def generate_params(start=0, end=None, step=None, scale=1):\n",
        "  \"\"\"\n",
        "  Adjusts image brightness randomly by a factor between low and high.\n",
        "\n",
        "  Inputs:\n",
        "    start: Integer, lower end of desired range\n",
        "    end: Integer, higher end of desired range\n",
        "    step: Integer, step between each number\n",
        "    scale: Float or Integer, scale to multiply every number\n",
        "  \n",
        "  Outputs:\n",
        "    List, list of numbers between start and end spaced evenly by specified step\n",
        "  \"\"\"\n",
        "  if end is None:\n",
        "    return [start * scale]\n",
        "\n",
        "  if step is None:\n",
        "    return [start * scale, end * scale]\n",
        "\n",
        "  return [scale * (start + i * step) for i in range(1 + int((end-start)/step))]"
      ]
    },
    {
      "cell_type": "markdown",
      "metadata": {
        "id": "HikeFT949_cu"
      },
      "source": [
        "# Creating the class."
      ]
    },
    {
      "cell_type": "markdown",
      "metadata": {
        "id": "IIxdhxNV-PQg"
      },
      "source": [
        "The shape3D class generates a lattice to simulate different nanoparticle shapes. These bodies can be rotated in 3 dimensions and then projected onto a 2D plane. This plane can then have noise added to simulate Poisson noise from measuring instruments. This is then saved as an image. These functions will be shared for all lattice shapes."
      ]
    },
    {
      "cell_type": "code",
      "execution_count": 8,
      "metadata": {
        "id": "wNEXn5OLkKhs"
      },
      "outputs": [],
      "source": [
        "class shape3D:\n",
        "  \"\"\"\n",
        "  This class creates a 3D shape from a specified width and 3 angles of rotation, rx, ry, rz. The\n",
        "  shape can then be projected onto 2 axes after being rotated. These projections are saved as\n",
        "  images, and they can also have a Gaussian blur applied to them and those are saved in a\n",
        "  subfolder.\n",
        "  \"\"\"\n",
        "  def __init__(self, width=10, rx=0, ry=0, rz=0, a=1, defect=0, pos_error=0):\n",
        "    \"\"\"\n",
        "    Initialises the class.\n",
        "\n",
        "    Inputs:\n",
        "      width: Integer, width of the shape being created\n",
        "      rx, ry, rz: Float, rotations in degrees about the x, y, z axes respectively\n",
        "      a: Float, lattice spacing\n",
        "      defect: Float between 0 and 1, percentage of defects in the shape, 0 is no defects\n",
        "      pos_error: Float, error in the position of each point\n",
        "    \"\"\"\n",
        "    self.width = width\n",
        "    self.rx = rx\n",
        "    self.ry = ry\n",
        "    self.rz = rz\n",
        "    self.defect = defect\n",
        "    self.pos_error = pos_error\n",
        "    self.a = a\n",
        "    self.alpha = 0.25\n",
        "\n",
        "    data = \"W%s RX%s RY%s RZ%s D%s\" % (self.width, self.rx, self.ry, self.rz, int(100*self.defect))\n",
        "    self.name = \"%s %s\" % (self.name, data)\n",
        "\n",
        "    self.generate() # Generating the shape\n",
        "    self.rotate() # Rotating the shape\n",
        "    self.projection2D() # Projecting the shape onto a 2D surface\n",
        "\n",
        "  def generate(self):\n",
        "    \"\"\"\n",
        "    Subclasses override this function to generate self.coords.\n",
        "    \"\"\"\n",
        "    pass\n",
        "\n",
        "  def rotate(self):\n",
        "    \"\"\"\n",
        "    Calculates the rotation matrix to rotate the shape.\n",
        "    \"\"\"\n",
        "    # Converting degrees to radians\n",
        "    rx = np.deg2rad(self.rx)\n",
        "    ry = np.deg2rad(self.ry)\n",
        "    rz = np.deg2rad(self.rz)\n",
        "\n",
        "    # Rotation matrices\n",
        "    Rx = np.array([[           1,           0,           0],\n",
        "                    [           0,  np.cos(rx), -np.sin(rx)],\n",
        "                    [           0,  np.sin(rx),  np.cos(rx)]])\n",
        "\n",
        "    Ry = np.array([[  np.cos(ry),           0,  np.sin(ry)],\n",
        "                    [           0,           1,           0],\n",
        "                    [ -np.sin(ry),           0,  np.cos(ry)]])\n",
        "\n",
        "    Rz = np.array([[  np.cos(rz), -np.sin(rz),           0],\n",
        "                    [  np.sin(rz),  np.cos(rz),           0],\n",
        "                    [           0,           0,           1]])\n",
        "\n",
        "    # Applying the rotation\n",
        "    self.R = np.dot(Rz, np.dot(Ry, Rx))\n",
        "    self.coords = np.matmul(self.R, self.coords)\n",
        "\n",
        "    self.rotation = self.R[:,0:2].T.reshape((1, 6))\n",
        "\n",
        "  def projection2D(self):\n",
        "    \"\"\"\n",
        "    Projects 3D shape onto 2D plane.\n",
        "    \"\"\"\n",
        "    # Removing z axis\n",
        "    self.coords2D = self.coords[0:, :]\n",
        "    coords2D_shape = np.shape(self.coords2D)\n",
        "\n",
        "    # Adding defects to the shape\n",
        "    if self.defect != 0:\n",
        "        iters = int(self.defect * coords2D_shape[0])\n",
        "\n",
        "        for _ in range(iters):\n",
        "            self.coords2D = np.delete(self.coords2D, np.random.randint(coords2D_shape[0]-1), 0)\n",
        "\n",
        "    # Translating the shape around randomly\n",
        "    # self.coords2D[0, :] += np.random.uniform(-self.a, self.a) * 2\n",
        "    # self.coords2D[1, :] += np.random.uniform(-self.a, self.a) * 2\n",
        "\n",
        "    # Creating the plot\n",
        "    # self.fig = plt.figure(figsize=(3, 3))\n",
        "    self.ax = fig.add_subplot(1, 1, 1)\n",
        "    self.ax.set_axis_off()\n",
        "\n",
        "    lim = 10\n",
        "    self.lims = [-lim, lim]\n",
        "    self.ax.set_xlim(self.lims)\n",
        "    self.ax.set_ylim(self.lims)\n",
        "    self.ax.set_aspect('equal', adjustable='box')\n",
        "    self.ax.scatter(self.coords2D[0, :], self.coords2D[1, :], s=2, c=\"white\", alpha=self.alpha)\n",
        "\n",
        "  def save_projection(self, save_path=os.path.join(os.getcwd(), \"Simulated Data\"), file_name = \"default\", file_type=\"png\", blur=4, iter=0, aug=False):\n",
        "    \"\"\"\n",
        "    Saves the 2D projection.\n",
        "    \n",
        "    Inputs:\n",
        "      save_path: String, folder in which to save the projections\n",
        "      file_name: String, desired name for the projection's file name\n",
        "      file_type: String, what file type to save the file as\n",
        "      blur: Integer, strength of Gaussian blur\n",
        "      iter: Integer, number of cubes with the same properties + 1\n",
        "      aug: Bool, whether or not to save image augmentations\n",
        "    \"\"\"\n",
        "    if not os.path.exists(save_path):\n",
        "      os.makedirs(save_path)\n",
        "\n",
        "    if file_name == \"default\":\n",
        "      file_name = self.name + (\" %s\" % (iter))\n",
        "\n",
        "    # Creating the image from the canvas\n",
        "    fig.canvas.draw()\n",
        "    img = PIL.Image.frombytes(\"RGB\", fig.canvas.get_width_height(), fig.canvas.tostring_rgb())\n",
        "    img = img.filter(ImageFilter.GaussianBlur(radius=blur))\n",
        "\n",
        "    self.ax.imshow(img, extent=[0, img_width, 0, img_height])\n",
        "    noise_param = 7000\n",
        "\n",
        "    spread = 55\n",
        "    noise = map_params(np.random.poisson(10000, (noise_param, 2)), np.array([-spread, img_width + spread]))\n",
        "    self.ax.scatter(noise[:,0], noise[:,1], s=1, c=\"white\", alpha=0.035)\n",
        "    self.ax.set_xlim([0, img_width])\n",
        "    self.ax.set_ylim([0, img_height])\n",
        "\n",
        "    fig.canvas.draw()\n",
        "    img = PIL.Image.frombytes(\"RGB\", fig.canvas.get_width_height(), fig.canvas.tostring_rgb())\n",
        "\n",
        "    # Where to save\n",
        "    blur_name = file_name + (\" B%s.%s\" % (blur, file_type))\n",
        "    rotation6d = self.rotation.tolist()[0]\n",
        "    blur_path = os.path.join(save_path, \"%s_%s\" % (self.name.split()[0], rotation6d))\n",
        "\n",
        "    if not os.path.exists(blur_path):\n",
        "      os.makedirs(blur_path)\n",
        "\n",
        "    blur_file_name = os.path.join(blur_path, blur_name)\n",
        "\n",
        "    factor = 0.18\n",
        "    low_x = img_width * factor\n",
        "    high_x = img_width - low_x\n",
        "    low_y = img_height * factor\n",
        "    high_y = img_height - low_y\n",
        "    img = img.resize((img_width, img_height))\n",
        "    img = img.crop((low_x, low_y, high_x, high_y))\n",
        "    img = img.resize((img_width, img_height))\n",
        "    img.save(blur_file_name)\n",
        "\n",
        "    fig.clf()"
      ]
    },
    {
      "cell_type": "markdown",
      "metadata": {
        "id": "WFvnpHrP-Etc"
      },
      "source": [
        "Creating the subclasses for specific shapes which inherits from the shape3D class."
      ]
    },
    {
      "cell_type": "code",
      "execution_count": 9,
      "metadata": {
        "id": "KLlYFLnvkPjQ"
      },
      "outputs": [],
      "source": [
        "class cube3D(shape3D):\n",
        "  \"\"\"\n",
        "  This class inherits from the shape3D class and is specifically for a cube.\n",
        "  \"\"\"\n",
        "  def __init__(self, width=10, rx=0, ry=0, rz=0, a=1, defect=0, pos_error=0):\n",
        "    \"\"\"\n",
        "    Create a cube and include that in the object name.\n",
        "    \"\"\"\n",
        "    self.name = \"Cube\"\n",
        "    super().__init__(width, rx, ry, rz, a, defect, pos_error)\n",
        "\n",
        "  def generate(self):\n",
        "    \"\"\"\n",
        "    Generates all xyz coordinates.\n",
        "    \"\"\"\n",
        "    x0 = self.a * np.arange(-(self.width-1)/2, self.width/2, 1)\n",
        "    self.coords = np.reshape(np.meshgrid(x0, x0, x0), (3, -1))\n",
        "    self.coords += np.random.normal(0, self.pos_error, np.shape(self.coords)) * self.a\n",
        "\n",
        "class tetra3D(shape3D):\n",
        "  \"\"\"\n",
        "  This class inherits from the shape3D class and is specifically for a tetrahedron.\n",
        "  \"\"\"\n",
        "  def __init__(self, width=10, rx=0, ry=0, rz=0, a=1, defect=0, pos_error=0):\n",
        "    \"\"\"\n",
        "    Create a tetrahedron and include that in the object name.\n",
        "    \"\"\"\n",
        "    if width < 2:\n",
        "      width = 2\n",
        "      print(\"Width must be greater than or equal to 2, setting width to 2.\")\n",
        "    if width > 19:\n",
        "      width = 19\n",
        "      print(\"Width must be less than or equal to 19, setting width to 19.\")\n",
        "\n",
        "    self.name = \"Tetrahedron\"\n",
        "    super().__init__(width, rx, ry, rz, a, defect, pos_error)\n",
        "\n",
        "  def generate(self):\n",
        "    \"\"\"\n",
        "    Generates all xyz coordinates.\n",
        "    \"\"\"\n",
        "    shape_folder = os.path.join(cwd, \"Vertices\", \"Tetrahedron\")\n",
        "    shape_txt = \"Tetra%s_Verts.txt\" % self.width\n",
        "    self.coords = np.loadtxt(os.path.join(shape_folder, shape_txt))\n",
        "    self.coords *= self.a\n",
        "    self.coords += np.random.normal(0, self.pos_error, np.shape(self.coords)) * self.a\n",
        "\n",
        "class octa3D(shape3D):\n",
        "  \"\"\"\n",
        "  This class inherits from the shape3D class and is specifically for a octahedron.\n",
        "  \"\"\"\n",
        "  def __init__(self, width=10, rx=0, ry=0, rz=0, a=1, defect=0, pos_error=0):\n",
        "    \"\"\"\n",
        "    Create a octahedron and include that in the object name.\n",
        "    \"\"\"\n",
        "    if width < 2:\n",
        "      width = 2\n",
        "      print(\"Width must be greater than or equal to 2, setting width to 2.\")\n",
        "    if width > 19:\n",
        "      width = 19\n",
        "      print(\"Width must be less than or equal to 19, setting width to 19.\")\n",
        "\n",
        "    self.name = \"Octahedron\"\n",
        "    super().__init__(width, rx, ry, rz, a, defect, pos_error)\n",
        "\n",
        "  def generate(self):\n",
        "    \"\"\"\n",
        "    Generates all xyz coordinates.\n",
        "    \"\"\"\n",
        "    shape_folder = os.path.join(cwd, \"Vertices\", \"Octahedron\")\n",
        "    shape_txt = \"Octa%s_Verts.txt\" % self.width\n",
        "    self.coords = np.loadtxt(os.path.join(shape_folder, shape_txt))\n",
        "    self.coords *= self.a\n",
        "    self.coords += np.random.normal(0, self.pos_error, np.shape(self.coords)) * self.a\n",
        "\n",
        "class torus3D(shape3D):\n",
        "  \"\"\"\n",
        "  This class inherits from the shape3D class and is specifically for an arbitrarily modified torus (to remove symmetries).\n",
        "  \"\"\"\n",
        "  def __init__(self, width=10, rx=0, ry=0, rz=0, a=1, defect=0, pos_error=0):\n",
        "    \"\"\"\n",
        "    Create a modified torus and include that in the object name.\n",
        "    \"\"\"\n",
        "    self.name = \"Torus\"\n",
        "    super().__init__(width, rx, ry, rz, a, defect, pos_error)\n",
        "\n",
        "  def generate(self):\n",
        "    \"\"\"\n",
        "    Generates all xyz coordinates.\n",
        "    \"\"\"\n",
        "    shape_folder = os.path.join(cwd, \"Vertices\", \"Misc Shapes\")\n",
        "    shape_txt = \"Torus_Verts.txt\"\n",
        "    self.coords = np.loadtxt(os.path.join(shape_folder, shape_txt))\n",
        "    self.coords *= self.a\n",
        "    self.coords += np.random.normal(0, self.pos_error, np.shape(self.coords)) * self.a"
      ]
    },
    {
      "cell_type": "markdown",
      "metadata": {
        "id": "RCgVsBby_Z09"
      },
      "source": [
        "# Generating the images."
      ]
    },
    {
      "cell_type": "markdown",
      "source": [
        "The following class is used to generate simulated nanoparticles with the specified parameters. The images are generated, saved, and each subfolder is checked to confirm the images were successfully generated."
      ],
      "metadata": {
        "id": "D6O6ejaQ1hfR"
      }
    },
    {
      "cell_type": "code",
      "source": [
        "class image_generator:\n",
        "  \"\"\"\n",
        "  This class generates images of nanoparticles with the specified parameters for\n",
        "  its shape and orientation.\n",
        "  \"\"\"\n",
        "  def __init__(self, parent_folder_name, dataset='Train', shape_classes=[cube3D, tetra3D, octa3D], widths=[12], lattice_spacing=0.85, blur=1, iters=1, xyr=[0, 45], dr=15):\n",
        "    \"\"\"\n",
        "    Initialises the class.\n",
        "\n",
        "    Inputs:\n",
        "      parent_folder_name: String, folder in which to save all the subfolders of images\n",
        "      dataset: String, one of [\"Train\", \"Valid\", \"Test\"]\n",
        "      shape_classes: List, list of shape3D objects to be generated\n",
        "      widths: List, list of integer widths for nanoparticles\n",
        "      lattice_spacing: Float, lattice spacing to use for nanoparticles\n",
        "      blur: Integer, strength of Gaussian blur\n",
        "      iters: Integer, number of shapes to generate per rotation and shape\n",
        "      xyr: List, list with two numbers to indicate angle range for rotations\n",
        "      dr: Float, step between each angle\n",
        "    \"\"\"\n",
        "    self.dataset = dataset\n",
        "    self.shape_classes = shape_classes\n",
        "    self.widths = widths\n",
        "    self.lattice_spacing = lattice_spacing\n",
        "    self.blur = blur\n",
        "    self.iters = iters\n",
        "    self.rxy = generate_params(xyr[0], xyr[1], dr)\n",
        "\n",
        "    self.parent_folder_name = \"%s W %s-%s RX %s-%s RY %s-%s\" % (name, int(self.widths[0]), int(self.widths[-1]), int(self.rxy[0]), int(self.rxy[-1]), int(self.rxy[0]), int(self.rxy[-1]))\n",
        "    self.parent_folder_name = parent_folder_name\n",
        "    self.folder_name = \"%s DR%s\" % (self.dataset, dr)\n",
        "    self.dataset_path = os.path.join(cwd, self.parent_folder_name, self.folder_name)\n",
        "\n",
        "  def print_num_imgs(self):\n",
        "    \"\"\"\n",
        "    Print the number of images to be generated.\n",
        "    \"\"\"\n",
        "    self.num_rots = len(self.rxy) ** 2\n",
        "    self.num_imgs = self.num_rots * len(self.shape_classes) * len(self.widths) * self.iters\n",
        "    print(\"%s/%s: %s images will be generated belonging to %s orientations (%s each).\" % (self.parent_folder_name, self.folder_name, self.num_imgs, self.num_rots, self.num_imgs // self.num_rots))\n",
        "  \n",
        "  def run(self, aug=False):\n",
        "    \"\"\"\n",
        "    Generate the images.\n",
        "\n",
        "    Inputs:\n",
        "      aug: Boolean, whether or not to save image augmentations\n",
        "    \"\"\"\n",
        "    counter = 1\n",
        "    for shape_class in self.shape_classes:\n",
        "      for width in self.widths:\n",
        "        for angle_y in self.rxy:\n",
        "          for angle_x in self.rxy:\n",
        "            for i in range(self.iters):\n",
        "              print(\"\\r%s/%s: Generating image %s of %s.\" % (self.parent_folder_name, self.folder_name, counter, self.num_imgs), end='', flush=True)\n",
        "              shape = shape_class(width, angle_x, angle_y, 0, a=self.lattice_spacing, defect=np.random.uniform(0.03, 0.20), pos_error=np.random.uniform(0.03, 0.045))\n",
        "              shape.save_projection(save_path=self.dataset_path, file_type=file_type, blur=blur, iter=i, aug=aug)\n",
        "\n",
        "              counter += 1\n",
        "\n",
        "    print(\"\\r%s/%s: Generated %s images belonging to %s orientations (%s each).\\n\" % (self.parent_folder_name, self.folder_name, self.num_imgs, self.num_rots, self.num_imgs // self.num_rots), end='', flush=True)\n",
        "\n",
        "    if aug:\n",
        "      print(\"Images were augmented so 3x the number of images were generated.\")\n",
        "    \n",
        "  def check_imgs(self):\n",
        "    \"\"\"\n",
        "    Check all images were generated.\n",
        "    \"\"\"\n",
        "    rotations = os.listdir(self.dataset_path)\n",
        "    imgs = []\n",
        "\n",
        "    for rotation in rotations:\n",
        "      imgs.append(len([img for img in os.listdir(os.path.join(self.dataset_path, rotation)) if img.endswith(file_type)]))\n",
        "\n",
        "    imgs_generated = sum(imgs)\n",
        "    print(\"%s/%s: %s images generated, %s expected (Difference of %s).\" % (self.parent_folder_name, self.folder_name, self.num_imgs, imgs_generated, (abs(self.num_imgs - imgs_generated))))"
      ],
      "metadata": {
        "id": "lNkSvi_EFlYW"
      },
      "execution_count": 34,
      "outputs": []
    },
    {
      "cell_type": "markdown",
      "metadata": {
        "id": "rUgxX2FeAnw3"
      },
      "source": [
        "Configuring the properties of the lattices to be generated and where to save the images."
      ]
    },
    {
      "cell_type": "code",
      "execution_count": 35,
      "metadata": {
        "id": "x_SrAkQdn4r9"
      },
      "outputs": [],
      "source": [
        "# Properties of the shape and its projection\n",
        "shape_classes = [cube3D, tetra3D, octa3D]\n",
        "widths = generate_params(12, 13, 1)\n",
        "lattice_spacing = 0.85 # Pt nanoparticle lattice spacing: 0.24nm, atom size is ~0.1nm | 0.75 for cube\n",
        "blur = 1 # Strength of Gaussian blur\n",
        "\n",
        "xyr_train = [0, 45]\n",
        "xyr_valid = [0, 45]\n",
        "xyr_test = [0, 45]\n",
        "\n",
        "dr_train = [2.5]\n",
        "dr_valid = [2.5]\n",
        "dr_test = [2.5]\n",
        "\n",
        "iters = 1\n",
        "iters_train = 4 * iters\n",
        "iters_valid = iters\n",
        "iters_test = iters\n",
        "\n",
        "name = \"Mixed Dataset\"\n",
        "parent_folder_name = \"%s W %s-%s RX %s-%s RY %s-%s\" % (name, int(widths[0]), int(widths[-1]), int(xyr_train[0]), int(xyr_train[-1]), int(xyr_train[0]), int(xyr_train[-1]))"
      ]
    },
    {
      "cell_type": "code",
      "source": [
        "train_img_generators = []\n",
        "valid_img_generators = []\n",
        "test_img_generators = []\n",
        "\n",
        "for dr in dr_train:\n",
        "  img_generator = image_generator(parent_folder_name=parent_folder_name, dataset='Train', shape_classes=shape_classes, widths=widths, lattice_spacing=lattice_spacing, blur=blur, iters=iters_train, xyr=xyr_train, dr=dr)\n",
        "  img_generator.print_num_imgs()\n",
        "  train_img_generators.append(img_generator)\n",
        "\n",
        "for dr in dr_valid:\n",
        "  img_generator = image_generator(parent_folder_name=parent_folder_name, dataset='Valid', shape_classes=shape_classes, widths=widths, lattice_spacing=lattice_spacing, blur=blur, iters=iters_valid, xyr=xyr_valid, dr=dr)\n",
        "  img_generator.print_num_imgs()\n",
        "  valid_img_generators.append(img_generator)\n",
        "\n",
        "for dr in dr_test:\n",
        "  img_generator = image_generator(parent_folder_name=parent_folder_name, dataset='Test', shape_classes=shape_classes, widths=widths, lattice_spacing=lattice_spacing, blur=blur, iters=iters_test, xyr=xyr_test, dr=dr)\n",
        "  img_generator.print_num_imgs()\n",
        "  test_img_generators.append(img_generator)"
      ],
      "metadata": {
        "colab": {
          "base_uri": "https://localhost:8080/"
        },
        "id": "SkDiijullu2u",
        "outputId": "f5cddbcb-be52-4c20-fe2e-4dc07ce9f2b6"
      },
      "execution_count": 37,
      "outputs": [
        {
          "output_type": "stream",
          "name": "stdout",
          "text": [
            "Mixed Dataset W 12-13 RX 0-45 RY 0-45/Train DR2.5: 8664 images will be generated belonging to 361 orientations (24 each).\n",
            "Mixed Dataset W 12-13 RX 0-45 RY 0-45/Valid DR2.5: 2166 images will be generated belonging to 361 orientations (6 each).\n",
            "Mixed Dataset W 12-13 RX 0-45 RY 0-45/Test DR2.5: 2166 images will be generated belonging to 361 orientations (6 each).\n"
          ]
        }
      ]
    },
    {
      "cell_type": "markdown",
      "source": [
        "Generating the images."
      ],
      "metadata": {
        "id": "7BEC23XrxWML"
      }
    },
    {
      "cell_type": "code",
      "source": [
        "begin_time = datetime.datetime.now()\n",
        "\n",
        "print(\"Now generating training dataset images...\")\n",
        "for train_img_generator in train_img_generators:\n",
        "  train_img_generator.run()\n",
        "\n",
        "# print(\"\\nNow generating validation dataset images...\")\n",
        "# for valid_img_generator in valid_img_generators:\n",
        "#   valid_img_generator.run()\n",
        "\n",
        "# print(\"\\nNow generating testing dataset images...\")\n",
        "# for test_img_generator in test_img_generators:\n",
        "#   test_img_generator.run()\n",
        "\n",
        "plt.close()\n",
        "\n",
        "dt = datetime.datetime.now() - begin_time\n",
        "dt_m = int(dt.total_seconds() // 60)\n",
        "dt_s = int(dt.total_seconds() - (dt_m*60))\n",
        "print(\"\\n\\nDone! The time it took is %sm %ss.\" % (dt_m, dt_s))"
      ],
      "metadata": {
        "colab": {
          "base_uri": "https://localhost:8080/"
        },
        "id": "urjVGj6zTY02",
        "outputId": "b9af8e7d-2775-424b-d8d9-e7a98b3e6a93"
      },
      "execution_count": 15,
      "outputs": [
        {
          "output_type": "stream",
          "name": "stdout",
          "text": [
            "Now generating training dataset images...\n",
            "Mixed Dataset W 12-13 RX 0-45 RY 0-45/Train DR2.5: Generated 8664 images belonging to 361 orientations (24 each).\n",
            "\n",
            "\n",
            "Done! The time it took is 12m 55s.\n"
          ]
        }
      ]
    },
    {
      "cell_type": "markdown",
      "source": [
        "Confirming the images were generated and saved successfully."
      ],
      "metadata": {
        "id": "X-BNosNcx8m0"
      }
    },
    {
      "cell_type": "code",
      "source": [
        "for train_img_generator in train_img_generators:\n",
        "  train_img_generator.check_imgs()\n",
        "\n",
        "for valid_img_generator in valid_img_generators:\n",
        "  valid_img_generator.check_imgs()\n",
        "\n",
        "for test_img_generator in test_img_generators:\n",
        "  test_img_generator.check_imgs()"
      ],
      "metadata": {
        "colab": {
          "base_uri": "https://localhost:8080/"
        },
        "id": "CmGGI0wO2ObJ",
        "outputId": "f30de912-e475-4a09-f358-4604f95d6ea4"
      },
      "execution_count": 38,
      "outputs": [
        {
          "output_type": "stream",
          "name": "stdout",
          "text": [
            "Mixed Dataset W 12-13 RX 0-45 RY 0-45/Train DR2.5: 8664 images generated, 8664 expected (Difference of 0).\n",
            "Mixed Dataset W 12-13 RX 0-45 RY 0-45/Valid DR2.5: 2166 images generated, 2166 expected (Difference of 0).\n",
            "Mixed Dataset W 12-13 RX 0-45 RY 0-45/Test DR2.5: 2166 images generated, 2166 expected (Difference of 0).\n"
          ]
        }
      ]
    },
    {
      "cell_type": "markdown",
      "source": [
        "The specified parameters are saved into a text file."
      ],
      "metadata": {
        "id": "K-HQ2bebC1dJ"
      }
    },
    {
      "cell_type": "code",
      "source": [
        "f = open(os.path.join(cwd, parent_folder_name, \"Configuration.txt\"), \"w\")\n",
        "f.write(\"RX [%s, %s]\\n\" % (xyr_train[0], xyr_train[-1]))\n",
        "f.write(\"RY [%s, %s]\\n\" % (xyr_train[0], xyr_train[-1]))\n",
        "f.write(\"Widths %s\\n\" % widths)\n",
        "f.write(\"Lattice spacing %s\\n\" % lattice_spacing)\n",
        "f.write(\"blur %s\\n\" % blur)\n",
        "f.write(\"iters %s\" % iters)\n",
        "f.close()"
      ],
      "metadata": {
        "id": "0E9XC9zdelY7"
      },
      "execution_count": 14,
      "outputs": []
    }
  ],
  "metadata": {
    "colab": {
      "collapsed_sections": [],
      "name": "GenerateImages.ipynb",
      "provenance": []
    },
    "kernelspec": {
      "display_name": "Python 3",
      "name": "python3"
    },
    "language_info": {
      "name": "python"
    }
  },
  "nbformat": 4,
  "nbformat_minor": 0
}