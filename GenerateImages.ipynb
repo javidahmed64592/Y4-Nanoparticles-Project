{
  "nbformat": 4,
  "nbformat_minor": 0,
  "metadata": {
    "colab": {
      "name": "GenerateImages.ipynb",
      "provenance": [],
      "collapsed_sections": []
    },
    "kernelspec": {
      "name": "python3",
      "display_name": "Python 3"
    },
    "language_info": {
      "name": "python"
    }
  },
  "cells": [
    {
      "cell_type": "markdown",
      "source": [
        "# Generating Simulated Nanoparticle Images"
      ],
      "metadata": {
        "id": "XQJpsZ5d7j3W"
      }
    },
    {
      "cell_type": "markdown",
      "source": [
        "In this notebook, simulated nanoparticles will be generated. These will then be rotated using rotation matrices and projected onto a 2D plane. This projection will be blurred and Poisson noise will be added. The projections will be saved as images directly into Google Drive, separated into training, validation, and testing datasets."
      ],
      "metadata": {
        "id": "9_ObuhVKBLYY"
      }
    },
    {
      "cell_type": "markdown",
      "source": [
        "# Importing the relevant libraries and configuring the figure."
      ],
      "metadata": {
        "id": "2RVzK8ZL7vEv"
      }
    },
    {
      "cell_type": "code",
      "execution_count": 42,
      "metadata": {
        "id": "AIZHGjEKjzbm",
        "colab": {
          "base_uri": "https://localhost:8080/",
          "height": 34
        },
        "outputId": "3f9c1289-e94f-4eea-d317-16ec21f70ffa"
      },
      "outputs": [
        {
          "output_type": "display_data",
          "data": {
            "text/plain": [
              "<Figure size 216x216 with 0 Axes>"
            ]
          },
          "metadata": {}
        }
      ],
      "source": [
        "import warnings\n",
        "warnings.simplefilter(\"ignore\", DeprecationWarning)\n",
        "\n",
        "import numpy as np\n",
        "import os\n",
        "import cv2\n",
        "import matplotlib.pyplot as plt\n",
        "import datetime\n",
        "\n",
        "img_width, img_height = 128, 128\n",
        "plt.style.use(\"dark_background\")\n",
        "fig = plt.figure(figsize=(3, 3))"
      ]
    },
    {
      "cell_type": "markdown",
      "source": [
        "The images will be saved directly in Google Drive."
      ],
      "metadata": {
        "id": "efFN_6LZ96KN"
      }
    },
    {
      "cell_type": "code",
      "source": [
        "from google.colab import drive\n",
        "drive_path = \"/content/drive\"\n",
        "drive.mount(drive_path)\n",
        "\n",
        "cwd = os.path.join(drive_path, \"MyDrive\", \"Nanoparticles\")\n",
        "file_type = \"png\""
      ],
      "metadata": {
        "id": "PM7GwkYWne1g",
        "colab": {
          "base_uri": "https://localhost:8080/"
        },
        "outputId": "fd1e6c26-c67c-4d15-b0b0-a5f43e84b7a9"
      },
      "execution_count": 43,
      "outputs": [
        {
          "output_type": "stream",
          "name": "stdout",
          "text": [
            "Drive already mounted at /content/drive; to attempt to forcibly remount, call drive.mount(\"/content/drive\", force_remount=True).\n"
          ]
        }
      ]
    },
    {
      "cell_type": "markdown",
      "source": [
        "# Creating the class."
      ],
      "metadata": {
        "id": "HikeFT949_cu"
      }
    },
    {
      "cell_type": "markdown",
      "source": [
        "The shape3D class generates a lattice to simulate different nanoparticle shapes. These bodies can be rotated in 3 dimensions and then projected onto a 2D plane. This plane can then have noise added to simulate Poisson noise from measuring instruments. This is then saved as an image. These functions will be shared for all lattice shapes."
      ],
      "metadata": {
        "id": "IIxdhxNV-PQg"
      }
    },
    {
      "cell_type": "code",
      "source": [
        "class shape3D:\n",
        "  \"\"\"\n",
        "  This class creates a 3D shape from a specified width and 3 angles of rotation, rx, ry, rz. The\n",
        "  shape can then be projected onto 2 axes after being rotated. These projections are saved as\n",
        "  images, and they can also have a Gaussian blur applied to them and those are saved in a\n",
        "  subfolder.\n",
        "  \"\"\"\n",
        "  def __init__(self, width=10, rx=0, ry=0, rz=0, a=1, defect=0, pos_error=0):\n",
        "    \"\"\"\n",
        "    Initialises the class.\n",
        "\n",
        "    Inputs:\n",
        "      width: Integer, width of the shape being created\n",
        "      rx, ry, rz: Float, rotations in degrees about the x, y, z axes respectively\n",
        "      a: Float, lattice spacing\n",
        "      defect: Float between 0 and 1, percentage of defects in the shape, 0 is no defects\n",
        "      pos_error: Float, error in the position of each point\n",
        "    \"\"\"\n",
        "    self.width = width\n",
        "    self.rx = rx\n",
        "    self.ry = ry\n",
        "    self.rz = rz\n",
        "    self.defect = defect\n",
        "    self.pos_error = pos_error\n",
        "    self.a = a\n",
        "    self.alpha = 0.5\n",
        "\n",
        "    data = \"W%s RX%s RY%s RZ%s D%s\" % (self.width, self.rx, self.ry, self.rz, int(100*self.defect))\n",
        "    self.name = \"%s %s\" % (self.name, data)\n",
        "\n",
        "    self.generate() # Generating the shape\n",
        "    self.rotate() # Rotating the shape\n",
        "    self.projection2D() # Projecting the shape onto a 2D surface\n",
        "\n",
        "  def generate(self):\n",
        "    \"\"\"\n",
        "    Subclasses override this function to generate self.coords.\n",
        "    \"\"\"\n",
        "    pass\n",
        "\n",
        "  def rotate(self):\n",
        "    \"\"\"\n",
        "    Calculates the rotation matrix to rotate the shape.\n",
        "    \"\"\"\n",
        "    # Converting degrees to radians\n",
        "    rx = np.deg2rad(self.rx)\n",
        "    ry = np.deg2rad(self.ry)\n",
        "    rz = np.deg2rad(self.rz)\n",
        "\n",
        "    # Rotation matrices\n",
        "    Rx = np.array([[           1,           0,           0],\n",
        "                    [           0,  np.cos(rx), -np.sin(rx)],\n",
        "                    [           0,  np.sin(rx),  np.cos(rx)]])\n",
        "\n",
        "    Ry = np.array([[  np.cos(ry),           0,  np.sin(ry)],\n",
        "                    [           0,           1,           0],\n",
        "                    [ -np.sin(ry),           0,  np.cos(ry)]])\n",
        "\n",
        "    Rz = np.array([[  np.cos(rz), -np.sin(rz),           0],\n",
        "                    [  np.sin(rz),  np.cos(rz),           0],\n",
        "                    [           0,           0,           1]])\n",
        "\n",
        "    # Applying the rotation\n",
        "    self.R = np.matmul(np.matmul(Rz, Ry), Rx)\n",
        "    self.coords = np.matmul(self.R, self.coords)\n",
        "\n",
        "    self.rotation = self.R[:,0:2].T.reshape((1, 6))\n",
        "\n",
        "  def projection2D(self):\n",
        "    \"\"\"\n",
        "    Projects 3D shape onto 2D plane.\n",
        "    \"\"\"\n",
        "    # Removing z axis\n",
        "    self.coords2D = self.coords[0:, :]\n",
        "    coords2D_shape = np.shape(self.coords2D)\n",
        "\n",
        "    # Adding defects to the shape\n",
        "    if self.defect != 0:\n",
        "        iters = int(self.defect * coords2D_shape[0])\n",
        "\n",
        "        for _ in range(iters):\n",
        "            self.coords2D = np.delete(self.coords2D, np.random.randint(coords2D_shape[0]-1), 0)\n",
        "\n",
        "    # Translating the shape around randomly\n",
        "    # self.coords2D[0, :] += np.random.uniform(-self.a, self.a) * 2.4\n",
        "    # self.coords2D[1, :] += np.random.uniform(-self.a, self.a) * 2.4\n",
        "\n",
        "    # Creating the plot\n",
        "    self.ax = fig.add_subplot(1, 1, 1)\n",
        "    self.ax.set_axis_off()\n",
        "\n",
        "    lim = 10\n",
        "    self.lims = [-lim, lim]\n",
        "    self.ax.set_xlim(self.lims)\n",
        "    self.ax.set_ylim(self.lims)\n",
        "    self.ax.set_aspect('equal', adjustable='box')\n",
        "    self.ax.scatter(self.coords2D[0, :], self.coords2D[1, :], s=0.8, c=\"white\", alpha=self.alpha)\n",
        "\n",
        "  def save_projection(self, save_path=os.path.join(os.getcwd(), \"Simulated Data\"), file_name = \"default\", file_type=\".png\", blur=4, iter=0):\n",
        "    \"\"\"\n",
        "    Saves the 2D projection.\n",
        "    \n",
        "    Inputs:\n",
        "      save_path: String, folder in which to save the projections\n",
        "      file_name: String, desired name for the projection's file name\n",
        "      file_type: String, what file type to save the file as\n",
        "      blur: Integer, strength of Gaussian blur\n",
        "      iter: Integer, number of cubes with the same properties + 1\n",
        "    \"\"\"\n",
        "    if not os.path.exists(save_path):\n",
        "      os.makedirs(save_path)\n",
        "\n",
        "    if file_name == \"default\":\n",
        "      file_name = self.name + (\" %s.%s\" % (iter, file_type))\n",
        "\n",
        "    # Creating the image from the canvas\n",
        "    fig.canvas.draw()\n",
        "    img = np.fromstring(fig.canvas.tostring_rgb(), dtype=np.uint8, sep='')\n",
        "    img = img.reshape(fig.canvas.get_width_height()[::-1] + (3, ))\n",
        "    img = cv2.cvtColor(img, cv2.COLOR_RGB2BGR)\n",
        "\n",
        "    # Cropping the outer borders\n",
        "    factor = 0.15\n",
        "    low_y = int(img.shape[0] * factor)\n",
        "    high_y = int(img.shape[0] - low_y)\n",
        "    low_x = int(img.shape[1] * factor)\n",
        "    high_x = int(img.shape[1] - low_x)\n",
        "\n",
        "    cropped = img[low_x:high_x, low_y:high_y]\n",
        "\n",
        "    # Blurring the projection\n",
        "    kernel = np.ones((blur,blur),np.float32)/blur**2\n",
        "    dst = cv2.filter2D(cropped,-1,kernel)\n",
        "\n",
        "    dst = cv2.resize(dst, (img_width, img_height))\n",
        "\n",
        "    # Where to save\n",
        "    blur_name = file_name.split(\".\")[0] + (\" B%s.%s\" % (blur, file_type))\n",
        "    rotation6d = self.rotation.tolist()[0]\n",
        "    blur_path = os.path.join(save_path, \"%s\" % (rotation6d))\n",
        "    blur_file_name = os.path.join(blur_path, blur_name)\n",
        "\n",
        "    if not os.path.exists(blur_path):\n",
        "      os.makedirs(blur_path)\n",
        "\n",
        "    # Generating noise over the blurred image\n",
        "    plt.cla()\n",
        "    self.ax.imshow(dst, extent=[0, img_width, 0, img_height])\n",
        "    noise_param = 6000\n",
        "    noise_x = np.random.uniform(self.lims[0], self.lims[1], (noise_param))\n",
        "    noise_y = np.random.uniform(self.lims[0], self.lims[1], (noise_param))\n",
        "    self.ax.scatter(noise_x, noise_y, s=1, c=\"white\", alpha=0.04)\n",
        "\n",
        "    # Converting the canvas to image then saving\n",
        "    fig.canvas.draw()\n",
        "    dst = np.fromstring(fig.canvas.tostring_rgb(), dtype=np.uint8, sep='')\n",
        "    dst = dst.reshape(fig.canvas.get_width_height()[::-1] + (3, ))\n",
        "    dst = cv2.cvtColor(dst, cv2.COLOR_RGB2GRAY)\n",
        "    cv2.imwrite(blur_file_name, cv2.resize(dst[low_x:high_x, low_y:high_y], (img_width, img_height)))\n",
        "\n",
        "    fig.clf()"
      ],
      "metadata": {
        "id": "wNEXn5OLkKhs"
      },
      "execution_count": 44,
      "outputs": []
    },
    {
      "cell_type": "markdown",
      "source": [
        "Creating the subclasses for specific shapes which inherits from the shape3D class."
      ],
      "metadata": {
        "id": "WFvnpHrP-Etc"
      }
    },
    {
      "cell_type": "code",
      "source": [
        "class cube3D(shape3D):\n",
        "    \"\"\"\n",
        "    This class inherits from the shape3D class and is specifically for a cube.\n",
        "    \"\"\"\n",
        "    def __init__(self, width=10, rx=0, ry=0, rz=0, a=1, defect=0, pos_error=0):\n",
        "        \"\"\"\n",
        "        Create a cube and include that in the object name.\n",
        "        \"\"\"\n",
        "        self.name = \"Cube\"\n",
        "        super().__init__(width, rx, ry, rz, a, defect, pos_error)\n",
        "\n",
        "    def generate(self):\n",
        "        \"\"\"\n",
        "        Generates all xyz coordinates.\n",
        "        \"\"\"\n",
        "        x0 = self.a * np.arange(-(self.width-1)/2, self.width/2, 1)\n",
        "        self.coords = np.reshape(np.meshgrid(x0, x0, x0), (3, -1))\n",
        "        self.coords += np.random.normal(0, self.pos_error, np.shape(self.coords)) * self.a\n",
        "\n",
        "class tetra3D(shape3D):\n",
        "    \"\"\"\n",
        "    This class inherits from the shape3D class and is specifically for a tetrahedron.\n",
        "    \"\"\"\n",
        "    def __init__(self, width=10, rx=0, ry=0, rz=0, a=1, defect=0, pos_error=0):\n",
        "        \"\"\"\n",
        "        Create a tetrahedron and include that in the object name.\n",
        "        \"\"\"\n",
        "        self.name = \"Tetrahedron\"\n",
        "        super().__init__(width, rx, ry, rz, a, defect, pos_error)\n",
        "\n",
        "    def generate(self):\n",
        "        \"\"\"\n",
        "        Generates all xyz coordinates.\n",
        "        \"\"\"\n",
        "        shape_folder = os.path.join(cwd, \"Vertices\", \"Tetrahedron\")\n",
        "        shape_txt = \"Tetra%s_Verts.txt\" % self.width\n",
        "        self.coords = np.loadtxt(os.path.join(shape_folder, shape_txt))\n",
        "        self.coords *= self.a\n",
        "        self.coords += np.random.normal(0, self.pos_error, np.shape(self.coords)) * self.a\n",
        "\n",
        "class octa3D(shape3D):\n",
        "    \"\"\"\n",
        "    This class inherits from the shape3D class and is specifically for a octahedron.\n",
        "    \"\"\"\n",
        "    def __init__(self, width=10, rx=0, ry=0, rz=0, a=1, defect=0, pos_error=0):\n",
        "        \"\"\"\n",
        "        Create a octahedron and include that in the object name.\n",
        "        \"\"\"\n",
        "        self.name = \"Octahedron\"\n",
        "        super().__init__(width, rx, ry, rz, a, defect, pos_error)\n",
        "\n",
        "    def generate(self):\n",
        "        \"\"\"\n",
        "        Generates all xyz coordinates.\n",
        "        \"\"\"\n",
        "        shape_folder = os.path.join(cwd, \"Vertices\", \"Octahedron\")\n",
        "        shape_txt = \"Octa%s_Verts.txt\" % self.width\n",
        "        self.coords = np.loadtxt(os.path.join(shape_folder, shape_txt))\n",
        "        self.coords *= self.a\n",
        "        self.coords += np.random.normal(0, self.pos_error, np.shape(self.coords)) * self.a"
      ],
      "metadata": {
        "id": "KLlYFLnvkPjQ"
      },
      "execution_count": 45,
      "outputs": []
    },
    {
      "cell_type": "markdown",
      "source": [
        "# Generating the images."
      ],
      "metadata": {
        "id": "RCgVsBby_Z09"
      }
    },
    {
      "cell_type": "markdown",
      "source": [
        "First, the folder in which the images will be saved must be specified."
      ],
      "metadata": {
        "id": "3P3FjoVC_dS3"
      }
    },
    {
      "cell_type": "code",
      "source": [
        "folder_name = \"Tetras Unmoving W12 RXRY\"\n",
        "dataset_path = os.path.join(cwd, folder_name)"
      ],
      "metadata": {
        "id": "D5CtB9b1qCet"
      },
      "execution_count": 46,
      "outputs": []
    },
    {
      "cell_type": "markdown",
      "source": [
        "The following function generates images for all combinations of widths, rotations and defects for a specified number of iterations. "
      ],
      "metadata": {
        "id": "5Ul6ES-9_n5U"
      }
    },
    {
      "cell_type": "code",
      "source": [
        "def generate_imgs(shape_class, w, rx, ry, rz, a, d, iters, blur, save_path, file_type):\n",
        "  total_images = len(w) * len(rx) * len(ry) * len(rz) * len(d) * iters\n",
        "  counter = 1\n",
        "  for angle_z in rz:\n",
        "    for angle_y in ry:\n",
        "      for angle_x in rx:\n",
        "        for width in w:\n",
        "          for defect in d:\n",
        "            for i in range(iters):\n",
        "              print(\"\\rGenerating image %s of %s.\" % (counter, total_images), end='', flush=True)\n",
        "              shape = shape_class(width, angle_x, angle_y, angle_z, a=a, defect=defect, pos_error=np.random.uniform(0.03, 0.04))\n",
        "              shape.save_projection(save_path=save_path, file_type=file_type, blur=blur, iter=i)\n",
        "\n",
        "              counter += 1"
      ],
      "metadata": {
        "id": "FpqTEKgLkSeD"
      },
      "execution_count": 47,
      "outputs": []
    },
    {
      "cell_type": "markdown",
      "source": [
        "Configuring the properties of the lattices to be generated."
      ],
      "metadata": {
        "id": "rUgxX2FeAnw3"
      }
    },
    {
      "cell_type": "code",
      "source": [
        "# Properties of the shape and its projection\n",
        "shape_class = tetra3D\n",
        "width = [i for i in range(12, 16, 4)]\n",
        "rx = [i/2 for i in range(0, 50, 5)] # Angle in degrees\n",
        "ry = [i/2 for i in range(0, 50, 5)]\n",
        "rz = [i for i in range(0, 50, 50)]\n",
        "\n",
        "a = 1 # Pt nanoparticle lattice spacing: 0.24nm, atom size is ~0.1nm | 0.75 for cube\n",
        "d = [i/100 for i in range(0, 25, 5)] # Percentage defect of the shape\n",
        "blur = 15 # Strength of Gaussian blur\n",
        "\n",
        "iters = 4"
      ],
      "metadata": {
        "id": "x_SrAkQdn4r9"
      },
      "execution_count": 48,
      "outputs": []
    },
    {
      "cell_type": "markdown",
      "source": [
        "Generating the training, validation, and testing images."
      ],
      "metadata": {
        "id": "qrRL15rEAtfH"
      }
    },
    {
      "cell_type": "code",
      "source": [
        "begin_time = datetime.datetime.now()\n",
        "\n",
        "# Generating the training images\n",
        "save_path_train = os.path.join(dataset_path, \"Train\")\n",
        "iters_train = 4 * iters\n",
        "\n",
        "print(\"\\nNow generating training dataset images...\")\n",
        "generate_imgs(\n",
        "    shape_class=shape_class,\n",
        "    w=width,\n",
        "    rx=rx,\n",
        "    ry=ry,\n",
        "    rz=rz,\n",
        "    a=a,\n",
        "    d=d,\n",
        "    iters=iters_train,\n",
        "    blur=blur,\n",
        "    save_path=save_path_train,\n",
        "    file_type=file_type\n",
        ")\n",
        "\n",
        "# Generating the validation images\n",
        "save_path_valid = os.path.join(dataset_path, \"Valid\")\n",
        "iters_valid = iters\n",
        "\n",
        "print(\"\\nNow generating validation dataset images...\")\n",
        "generate_imgs(\n",
        "  shape_class=shape_class,\n",
        "  w=width,\n",
        "  rx=rx,\n",
        "  ry=ry,\n",
        "  rz=rz,\n",
        "  a=a,\n",
        "  d=d,\n",
        "  iters=iters_valid,\n",
        "  blur=blur,\n",
        "  save_path=save_path_valid,\n",
        "  file_type=file_type\n",
        ")\n",
        "\n",
        "# Generating the testing images\n",
        "save_path_test = os.path.join(dataset_path, \"Test\")\n",
        "iters_test = iters\n",
        "\n",
        "print(\"\\nNow generating testing dataset images...\")\n",
        "generate_imgs(\n",
        "  shape_class=shape_class,\n",
        "  w=width,\n",
        "  rx=rx,\n",
        "  ry=ry,\n",
        "  rz=rz,\n",
        "  a=a,\n",
        "  d=d,\n",
        "  iters=iters_test,\n",
        "  blur=blur,\n",
        "  save_path=save_path_test,\n",
        "  file_type=file_type\n",
        ")\n",
        "\n",
        "plt.close()\n",
        "print(\"\\nDone! The time it took is %s seconds.\" % round((datetime.datetime.now() - begin_time).total_seconds(), 2))"
      ],
      "metadata": {
        "id": "Gx8hWK1NnrLY",
        "colab": {
          "base_uri": "https://localhost:8080/"
        },
        "outputId": "5d60f612-7a2e-403f-9dd6-216a574ca7f6"
      },
      "execution_count": 49,
      "outputs": [
        {
          "output_type": "stream",
          "name": "stdout",
          "text": [
            "\n",
            "Now generating training dataset images...\n",
            "Generating image 8000 of 8000.\n",
            "Now generating validation dataset images...\n",
            "Generating image 2000 of 2000.\n",
            "Now generating testing dataset images...\n",
            "Generating image 2000 of 2000.\n",
            "Done! The time it took is 1189.93 seconds.\n"
          ]
        }
      ]
    }
  ]
}