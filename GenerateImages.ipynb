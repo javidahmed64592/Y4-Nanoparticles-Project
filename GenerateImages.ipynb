{
  "cells": [
    {
      "cell_type": "markdown",
      "metadata": {
        "id": "XQJpsZ5d7j3W"
      },
      "source": [
        "# Generating Simulated Nanoparticle Images"
      ]
    },
    {
      "cell_type": "markdown",
      "metadata": {
        "id": "9_ObuhVKBLYY"
      },
      "source": [
        "In this notebook, simulated nanoparticles will be generated. These will then be rotated using rotation matrices and projected onto a 2D plane. This projection will be blurred and Poisson noise will be added. The projections will be saved as images directly into Google Drive, separated into training, validation, and testing datasets.\n",
        "\n",
        "All of my work can be found at https://github.com/javidahmed64592/Y4-Nanoparticles-Project."
      ]
    },
    {
      "cell_type": "markdown",
      "metadata": {
        "id": "2RVzK8ZL7vEv"
      },
      "source": [
        "# Importing the relevant libraries and configuring the figure."
      ]
    },
    {
      "cell_type": "code",
      "execution_count": null,
      "metadata": {
        "colab": {
          "base_uri": "https://localhost:8080/",
          "height": 34
        },
        "id": "AIZHGjEKjzbm",
        "outputId": "302f168b-af82-415d-c1af-85982228c364"
      },
      "outputs": [
        {
          "output_type": "display_data",
          "data": {
            "text/plain": [
              "<Figure size 216x216 with 0 Axes>"
            ]
          },
          "metadata": {}
        }
      ],
      "source": [
        "import warnings\n",
        "warnings.simplefilter(\"ignore\", DeprecationWarning)\n",
        "\n",
        "import numpy as np\n",
        "import os\n",
        "import cv2\n",
        "import matplotlib.pyplot as plt\n",
        "import datetime\n",
        "\n",
        "img_width, img_height = 128, 128\n",
        "plt.style.use(\"dark_background\")\n",
        "fig = plt.figure(figsize=(3, 3))"
      ]
    },
    {
      "cell_type": "markdown",
      "metadata": {
        "id": "efFN_6LZ96KN"
      },
      "source": [
        "The images are saved directly in Google Drive."
      ]
    },
    {
      "cell_type": "code",
      "execution_count": null,
      "metadata": {
        "colab": {
          "base_uri": "https://localhost:8080/"
        },
        "id": "PM7GwkYWne1g",
        "outputId": "5abfe6f1-56dc-43aa-9ed7-16be2516eed0"
      },
      "outputs": [
        {
          "output_type": "stream",
          "name": "stdout",
          "text": [
            "Mounted at /content/drive\n"
          ]
        }
      ],
      "source": [
        "from google.colab import drive\n",
        "drive_path = \"/content/drive\"\n",
        "drive.mount(drive_path, force_remount=True)\n",
        "\n",
        "cwd = os.path.join(drive_path, \"MyDrive\", \"Nanoparticles\")\n",
        "file_type = \"png\""
      ]
    },
    {
      "cell_type": "markdown",
      "metadata": {
        "id": "UXGK8VD9_c_W"
      },
      "source": [
        "The following functions are used to augment the data by randomly adjusting the brightness and channels."
      ]
    },
    {
      "cell_type": "code",
      "execution_count": null,
      "metadata": {
        "id": "hc1WAbghUnO1"
      },
      "outputs": [],
      "source": [
        "def brightness(img, low, high):\n",
        "  \"\"\"\n",
        "  Adjusts image brightness randomly by a factor between low and high.\n",
        "\n",
        "  Inputs:\n",
        "    img: NumPy array, image to use to adjust brightness\n",
        "    low: Float, lower limit for random factor to multiply image's brightness\n",
        "    high: Float, upper limit for random factor to multiply image's brightness\n",
        "  \n",
        "  Outputs:\n",
        "    img: NumPy array, image after brightness has been adjusted\n",
        "  \"\"\"\n",
        "  value = np.random.uniform(low, high)\n",
        "  hsv = cv2.cvtColor(img, cv2.COLOR_RGB2HSV)\n",
        "  hsv = np.array(hsv, dtype = np.float64)\n",
        "  hsv[:,:,1] = hsv[:,:,1] * value\n",
        "  hsv[:,:,1][hsv[:,:,1] > 255]  = 255\n",
        "  hsv[:,:,2] = hsv[:,:,2] * value \n",
        "  hsv[:,:,2][hsv[:,:,2] > 255]  = 255\n",
        "  hsv = np.array(hsv, dtype = np.uint8)\n",
        "  img = cv2.cvtColor(hsv, cv2.COLOR_HSV2RGB)\n",
        "  return img"
      ]
    },
    {
      "cell_type": "code",
      "execution_count": null,
      "metadata": {
        "id": "ZI_7PF-AUqlV"
      },
      "outputs": [],
      "source": [
        "def channel_shift(img, value):\n",
        "  \"\"\"\n",
        "  Adjusts image channels randomly by a specified value.\n",
        "\n",
        "  Inputs:\n",
        "    img: NumPy array, image to use to adjust channels\n",
        "    value: Integer, adjust channels by some random integer in the range [-value, value)\n",
        "  \n",
        "  Outputs:\n",
        "    img: NumPy array, image after channels have been adjusted\n",
        "  \"\"\"\n",
        "  value = int(np.random.uniform(-value, value))\n",
        "  img = img + value\n",
        "  img[:,:,:][img[:,:,:] > 255]  = 255\n",
        "  img[:,:,:][img[:,:,:] < 0]  = 0\n",
        "  img = img.astype(np.uint8)\n",
        "  return img"
      ]
    },
    {
      "cell_type": "markdown",
      "metadata": {
        "id": "7mQcBd-PX1Sk"
      },
      "source": [
        "The following function is used to map a random Poisson array to be in the limits of the plot to simulate Poisson background noise."
      ]
    },
    {
      "cell_type": "code",
      "execution_count": null,
      "metadata": {
        "id": "2RF8zicgU7_0"
      },
      "outputs": [],
      "source": [
        "def map_params(array_to_map, map_range):\n",
        "  \"\"\"\n",
        "  Maps an array from its range to a new specified range.\n",
        "\n",
        "  Inputs:\n",
        "    array_to_map: NumPy array, array to be mapped to a new range\n",
        "    map_range: NumPy array, range to use for new mapped array\n",
        "  \n",
        "  Outputs:\n",
        "    mapped_array: NumPy array, array_to_map mapped to new map_range\n",
        "  \"\"\"\n",
        "  y_max, y_min = np.max(array_to_map), np.min(array_to_map)\n",
        "  map_max, map_min = np.max(map_range), np.min(map_range)\n",
        "\n",
        "  mapped_array = map_min + ((array_to_map - y_min) * (map_max - map_min) / (y_max - y_min))\n",
        "\n",
        "  return mapped_array"
      ]
    },
    {
      "cell_type": "markdown",
      "metadata": {
        "id": "HikeFT949_cu"
      },
      "source": [
        "# Creating the class."
      ]
    },
    {
      "cell_type": "markdown",
      "metadata": {
        "id": "IIxdhxNV-PQg"
      },
      "source": [
        "The shape3D class generates a lattice to simulate different nanoparticle shapes. These bodies can be rotated in 3 dimensions and then projected onto a 2D plane. This plane can then have noise added to simulate Poisson noise from measuring instruments. This is then saved as an image. These functions will be shared for all lattice shapes."
      ]
    },
    {
      "cell_type": "code",
      "execution_count": null,
      "metadata": {
        "id": "wNEXn5OLkKhs"
      },
      "outputs": [],
      "source": [
        "class shape3D:\n",
        "  \"\"\"\n",
        "  This class creates a 3D shape from a specified width and 3 angles of rotation, rx, ry, rz. The\n",
        "  shape can then be projected onto 2 axes after being rotated. These projections are saved as\n",
        "  images, and they can also have a Gaussian blur applied to them and those are saved in a\n",
        "  subfolder.\n",
        "  \"\"\"\n",
        "  def __init__(self, width=10, rx=0, ry=0, rz=0, a=1, defect=0, pos_error=0):\n",
        "    \"\"\"\n",
        "    Initialises the class.\n",
        "\n",
        "    Inputs:\n",
        "      width: Integer, width of the shape being created\n",
        "      rx, ry, rz: Float, rotations in degrees about the x, y, z axes respectively\n",
        "      a: Float, lattice spacing\n",
        "      defect: Float between 0 and 1, percentage of defects in the shape, 0 is no defects\n",
        "      pos_error: Float, error in the position of each point\n",
        "    \"\"\"\n",
        "    self.width = width\n",
        "    self.rx = rx\n",
        "    self.ry = ry\n",
        "    self.rz = rz\n",
        "    self.defect = defect\n",
        "    self.pos_error = pos_error\n",
        "    self.a = a\n",
        "    self.alpha = 0.25\n",
        "\n",
        "    data = \"W%s RX%s RY%s RZ%s D%s\" % (self.width, self.rx, self.ry, self.rz, int(100*self.defect))\n",
        "    self.name = \"%s %s\" % (self.name, data)\n",
        "\n",
        "    self.generate() # Generating the shape\n",
        "    self.rotate() # Rotating the shape\n",
        "    self.projection2D() # Projecting the shape onto a 2D surface\n",
        "\n",
        "  def generate(self):\n",
        "    \"\"\"\n",
        "    Subclasses override this function to generate self.coords.\n",
        "    \"\"\"\n",
        "    pass\n",
        "\n",
        "  def rotate(self):\n",
        "    \"\"\"\n",
        "    Calculates the rotation matrix to rotate the shape.\n",
        "    \"\"\"\n",
        "    # Converting degrees to radians\n",
        "    rx = np.deg2rad(self.rx)\n",
        "    ry = np.deg2rad(self.ry)\n",
        "    rz = np.deg2rad(self.rz)\n",
        "\n",
        "    # Rotation matrices\n",
        "    Rx = np.array([[           1,           0,           0],\n",
        "                    [           0,  np.cos(rx), -np.sin(rx)],\n",
        "                    [           0,  np.sin(rx),  np.cos(rx)]])\n",
        "\n",
        "    Ry = np.array([[  np.cos(ry),           0,  np.sin(ry)],\n",
        "                    [           0,           1,           0],\n",
        "                    [ -np.sin(ry),           0,  np.cos(ry)]])\n",
        "\n",
        "    Rz = np.array([[  np.cos(rz), -np.sin(rz),           0],\n",
        "                    [  np.sin(rz),  np.cos(rz),           0],\n",
        "                    [           0,           0,           1]])\n",
        "\n",
        "    # Applying the rotation\n",
        "    self.R = np.dot(Rz, np.dot(Ry, Rx))\n",
        "    self.coords = np.matmul(self.R, self.coords)\n",
        "\n",
        "    self.rotation = self.R[:,0:2].T.reshape((1, 6))\n",
        "\n",
        "  def projection2D(self):\n",
        "    \"\"\"\n",
        "    Projects 3D shape onto 2D plane.\n",
        "    \"\"\"\n",
        "    # Removing z axis\n",
        "    self.coords2D = self.coords[0:, :]\n",
        "    coords2D_shape = np.shape(self.coords2D)\n",
        "\n",
        "    # Adding defects to the shape\n",
        "    if self.defect != 0:\n",
        "        iters = int(self.defect * coords2D_shape[0])\n",
        "\n",
        "        for _ in range(iters):\n",
        "            self.coords2D = np.delete(self.coords2D, np.random.randint(coords2D_shape[0]-1), 0)\n",
        "\n",
        "    # Translating the shape around randomly\n",
        "    self.coords2D[0, :] += np.random.uniform(-self.a, self.a) * 2\n",
        "    self.coords2D[1, :] += np.random.uniform(-self.a, self.a) * 2\n",
        "\n",
        "    # Creating the plot\n",
        "    self.ax = fig.add_subplot(1, 1, 1)\n",
        "    self.ax.set_axis_off()\n",
        "\n",
        "    lim = 10\n",
        "    self.lims = [-lim, lim]\n",
        "    self.ax.set_xlim(self.lims)\n",
        "    self.ax.set_ylim(self.lims)\n",
        "    self.ax.set_aspect('equal', adjustable='box')\n",
        "    self.ax.scatter(self.coords2D[0, :], self.coords2D[1, :], s=2, c=\"white\", alpha=self.alpha)\n",
        "\n",
        "  def save_projection(self, save_path=os.path.join(os.getcwd(), \"Simulated Data\"), file_name = \"default\", file_type=\".png\", blur=4, iter=0, aug=False):\n",
        "    \"\"\"\n",
        "    Saves the 2D projection.\n",
        "    \n",
        "    Inputs:\n",
        "      save_path: String, folder in which to save the projections\n",
        "      file_name: String, desired name for the projection's file name\n",
        "      file_type: String, what file type to save the file as\n",
        "      blur: Integer, strength of Gaussian blur\n",
        "      iter: Integer, number of cubes with the same properties + 1\n",
        "    \"\"\"\n",
        "    if not os.path.exists(save_path):\n",
        "      os.makedirs(save_path)\n",
        "\n",
        "    if file_name == \"default\":\n",
        "      file_name = self.name + (\" %s\" % iter)\n",
        "\n",
        "    # Creating the image from the canvas\n",
        "    fig.canvas.draw()\n",
        "    img = np.fromstring(fig.canvas.tostring_rgb(), dtype=np.uint8, sep='')\n",
        "    img = img.reshape(fig.canvas.get_width_height()[::-1] + (3, ))\n",
        "    img = cv2.cvtColor(img, cv2.COLOR_RGB2BGR)\n",
        "\n",
        "    # Cropping the outer borders\n",
        "    factor = 0.15\n",
        "    low_y = int(img.shape[0] * factor)\n",
        "    high_y = int(img.shape[0] - low_y)\n",
        "    low_x = int(img.shape[1] * factor)\n",
        "    high_x = int(img.shape[1] - low_x)\n",
        "\n",
        "    cropped = img[low_x:high_x, low_y:high_y]\n",
        "\n",
        "    # Blurring the projection\n",
        "    kernel = np.ones((blur,blur),np.float32)/blur**2\n",
        "    dst = cv2.filter2D(cropped,-1,kernel)\n",
        "\n",
        "    dst = cv2.resize(dst, (img_width, img_height))\n",
        "\n",
        "    # Where to save\n",
        "    blur_name = file_name + (\" B%s\" % (blur))\n",
        "    rotation6d = self.rotation.tolist()[0]\n",
        "    blur_path = os.path.join(save_path, \"%s_%s\" % (self.name.split()[0], rotation6d))\n",
        "    blur_file_name = os.path.join(blur_path, blur_name)\n",
        "\n",
        "    if not os.path.exists(blur_path):\n",
        "      os.makedirs(blur_path)\n",
        "\n",
        "    # Generating noise over the blurred image\n",
        "    plt.cla()\n",
        "    self.ax.imshow(dst, extent=[0, img_width, 0, img_height])\n",
        "    noise_param = 8000\n",
        "    noise = map_params(np.random.poisson(10000, (noise_param, 2)), 3 * np.array(self.lims))\n",
        "    self.ax.scatter(noise[:,0], noise[:,1], s=1, c=\"white\", alpha=0.035)\n",
        "\n",
        "    # Converting the canvas to image then saving\n",
        "    fig.canvas.draw()\n",
        "    dst = np.fromstring(fig.canvas.tostring_rgb(), dtype=np.uint8, sep='')\n",
        "    dst = dst.reshape(fig.canvas.get_width_height()[::-1] + (3, ))\n",
        "    dst = cv2.resize(dst[low_x:high_x, low_y:high_y], (img_width, img_height))\n",
        "\n",
        "    # Random augmentations\n",
        "    if aug:\n",
        "      dst_1 = brightness(dst, 1, 2.2)\n",
        "      dst_2 = channel_shift(dst, 20)\n",
        "      dst_1 = cv2.cvtColor(dst_1, cv2.COLOR_RGB2GRAY)\n",
        "      dst_2 = cv2.cvtColor(dst_2, cv2.COLOR_RGB2GRAY)\n",
        "      cv2.imwrite(\"%s augbright.%s\" % (blur_file_name, file_type), dst_1)\n",
        "      cv2.imwrite(\"%s augchannel.%s\" % (blur_file_name, file_type), dst_2)\n",
        "\n",
        "    dst = cv2.cvtColor(dst, cv2.COLOR_RGB2GRAY)\n",
        "    cv2.imwrite(\"%s.%s\" % (blur_file_name, file_type), dst)\n",
        "\n",
        "    fig.clf()"
      ]
    },
    {
      "cell_type": "markdown",
      "metadata": {
        "id": "WFvnpHrP-Etc"
      },
      "source": [
        "Creating the subclasses for specific shapes which inherits from the shape3D class."
      ]
    },
    {
      "cell_type": "code",
      "execution_count": null,
      "metadata": {
        "id": "KLlYFLnvkPjQ"
      },
      "outputs": [],
      "source": [
        "class cube3D(shape3D):\n",
        "  \"\"\"\n",
        "  This class inherits from the shape3D class and is specifically for a cube.\n",
        "  \"\"\"\n",
        "  def __init__(self, width=10, rx=0, ry=0, rz=0, a=1, defect=0, pos_error=0):\n",
        "    \"\"\"\n",
        "    Create a cube and include that in the object name.\n",
        "    \"\"\"\n",
        "    self.name = \"Cube\"\n",
        "    super().__init__(width, rx, ry, rz, a, defect, pos_error)\n",
        "\n",
        "  def generate(self):\n",
        "    \"\"\"\n",
        "    Generates all xyz coordinates.\n",
        "    \"\"\"\n",
        "    x0 = self.a * np.arange(-(self.width-1)/2, self.width/2, 1)\n",
        "    self.coords = np.reshape(np.meshgrid(x0, x0, x0), (3, -1))\n",
        "    self.coords += np.random.normal(0, self.pos_error, np.shape(self.coords)) * self.a\n",
        "\n",
        "class tetra3D(shape3D):\n",
        "  \"\"\"\n",
        "  This class inherits from the shape3D class and is specifically for a tetrahedron.\n",
        "  \"\"\"\n",
        "  def __init__(self, width=10, rx=0, ry=0, rz=0, a=1, defect=0, pos_error=0):\n",
        "    \"\"\"\n",
        "    Create a tetrahedron and include that in the object name.\n",
        "    \"\"\"\n",
        "    if width < 2:\n",
        "      width = 2\n",
        "      print(\"Width must be greater than or equal to 2, setting width to 2.\")\n",
        "    if width > 19:\n",
        "      width = 19\n",
        "      print(\"Width must be less than or equal to 19, setting width to 19.\")\n",
        "\n",
        "    self.name = \"Tetrahedron\"\n",
        "    super().__init__(width, rx, ry, rz, a, defect, pos_error)\n",
        "\n",
        "  def generate(self):\n",
        "    \"\"\"\n",
        "    Generates all xyz coordinates.\n",
        "    \"\"\"\n",
        "    shape_folder = os.path.join(cwd, \"Vertices\", \"Tetrahedron\")\n",
        "    shape_txt = \"Tetra%s_Verts.txt\" % self.width\n",
        "    self.coords = np.loadtxt(os.path.join(shape_folder, shape_txt))\n",
        "    self.coords *= self.a\n",
        "    self.coords += np.random.normal(0, self.pos_error, np.shape(self.coords)) * self.a\n",
        "\n",
        "class octa3D(shape3D):\n",
        "  \"\"\"\n",
        "  This class inherits from the shape3D class and is specifically for a octahedron.\n",
        "  \"\"\"\n",
        "  def __init__(self, width=10, rx=0, ry=0, rz=0, a=1, defect=0, pos_error=0):\n",
        "    \"\"\"\n",
        "    Create a octahedron and include that in the object name.\n",
        "    \"\"\"\n",
        "    if width < 2:\n",
        "      width = 2\n",
        "      print(\"Width must be greater than or equal to 2, setting width to 2.\")\n",
        "    if width > 19:\n",
        "      width = 19\n",
        "      print(\"Width must be less than or equal to 19, setting width to 19.\")\n",
        "\n",
        "    self.name = \"Octahedron\"\n",
        "    super().__init__(width, rx, ry, rz, a, defect, pos_error)\n",
        "\n",
        "  def generate(self):\n",
        "    \"\"\"\n",
        "    Generates all xyz coordinates.\n",
        "    \"\"\"\n",
        "    shape_folder = os.path.join(cwd, \"Vertices\", \"Octahedron\")\n",
        "    shape_txt = \"Octa%s_Verts.txt\" % self.width\n",
        "    self.coords = np.loadtxt(os.path.join(shape_folder, shape_txt))\n",
        "    self.coords *= self.a\n",
        "    self.coords += np.random.normal(0, self.pos_error, np.shape(self.coords)) * self.a\n",
        "\n",
        "class torus3D(shape3D):\n",
        "  \"\"\"\n",
        "  This class inherits from the shape3D class and is specifically for an arbitrarily modified torus (to remove symmetries).\n",
        "  \"\"\"\n",
        "  def __init__(self, width=10, rx=0, ry=0, rz=0, a=1, defect=0, pos_error=0):\n",
        "    \"\"\"\n",
        "    Create a modified torus and include that in the object name.\n",
        "    \"\"\"\n",
        "    self.name = \"Torus\"\n",
        "    super().__init__(width, rx, ry, rz, a, defect, pos_error)\n",
        "\n",
        "  def generate(self):\n",
        "    \"\"\"\n",
        "    Generates all xyz coordinates.\n",
        "    \"\"\"\n",
        "    shape_folder = os.path.join(cwd, \"Vertices\", \"Misc Shapes\")\n",
        "    shape_txt = \"Torus_Verts.txt\"\n",
        "    self.coords = np.loadtxt(os.path.join(shape_folder, shape_txt))\n",
        "    self.coords *= self.a\n",
        "    self.coords += np.random.normal(0, self.pos_error, np.shape(self.coords)) * self.a"
      ]
    },
    {
      "cell_type": "markdown",
      "metadata": {
        "id": "RCgVsBby_Z09"
      },
      "source": [
        "# Generating the images."
      ]
    },
    {
      "cell_type": "markdown",
      "source": [
        "The following function is used to generate a list of numbers in a specified range and with a specified step between each number."
      ],
      "metadata": {
        "id": "DaoJQFPs0bXK"
      }
    },
    {
      "cell_type": "code",
      "execution_count": null,
      "metadata": {
        "id": "a9i6lNqho9Yg"
      },
      "outputs": [],
      "source": [
        "def generate_params(start=0, end=None, step=None, scale=1):\n",
        "  \"\"\"\n",
        "  Adjusts image brightness randomly by a factor between low and high.\n",
        "\n",
        "  Inputs:\n",
        "    start: Integer, lower end of desired range\n",
        "    end: Integer, higher end of desired range\n",
        "    step: Integer, step between each number\n",
        "    scale: Float or Integer, scale to multiply every number\n",
        "  \n",
        "  Outputs:\n",
        "    List, list of numbers between start and end spaced evenly by specified step\n",
        "  \"\"\"\n",
        "  if end is None:\n",
        "    return [start * scale]\n",
        "\n",
        "  if step is None:\n",
        "    return [start * scale, end * scale]\n",
        "\n",
        "  return [scale * (start + i * step) for i in range(1 + int((end-start)/step))]"
      ]
    },
    {
      "cell_type": "markdown",
      "metadata": {
        "id": "rUgxX2FeAnw3"
      },
      "source": [
        "Configuring the properties of the lattices to be generated."
      ]
    },
    {
      "cell_type": "code",
      "execution_count": null,
      "metadata": {
        "id": "x_SrAkQdn4r9"
      },
      "outputs": [],
      "source": [
        "# Properties of the shape and its projection\n",
        "shape_class = tetra3D\n",
        "width = generate_params(13)\n",
        "dr_train = 1\n",
        "rx_train = generate_params(0, 45, dr_train) # Angle in degrees\n",
        "ry_train = generate_params(0, 45, dr_train)\n",
        "\n",
        "dr_test = 1\n",
        "rx_test = generate_params(0, 45, dr_test)\n",
        "ry_test = generate_params(0, 45, dr_test)\n",
        "\n",
        "rz = generate_params(0)\n",
        "\n",
        "a = 1 # Pt nanoparticle lattice spacing: 0.24nm, atom size is ~0.1nm | 0.75 for cube\n",
        "d = generate_params(5, 15, 10, scale=1/100) # Percentage defect of the shape\n",
        "blur = 25 # Strength of Gaussian blur\n",
        "\n",
        "iters = 1\n",
        "iters_train = 4 * iters\n",
        "iters_valid = iters\n",
        "iters_test = iters"
      ]
    },
    {
      "cell_type": "code",
      "source": [
        "num_rots_train = len(rx_train) * len(ry_train) * len(rz)\n",
        "num_imgs_train = len(width) * len(d) * num_rots_train * iters_train\n",
        "num_imgs_valid = len(width) * len(d) * num_rots_train * iters_valid\n",
        "\n",
        "num_rots_test = len(rx_test) * len(ry_test) * len(rz)\n",
        "num_imgs_test = len(width) * len(d) * num_rots_test * iters_test\n",
        "\n",
        "print(\"Generating %s images for training dataset, %s images for validation dataset, and %s images for testing dataset.\" % (num_imgs_train, num_imgs_valid, num_imgs_test))"
      ],
      "metadata": {
        "colab": {
          "base_uri": "https://localhost:8080/"
        },
        "id": "SkDiijullu2u",
        "outputId": "538cefb7-b2da-4cc7-ab47-771f41d8e3c7"
      },
      "execution_count": null,
      "outputs": [
        {
          "output_type": "stream",
          "name": "stdout",
          "text": [
            "Generating 16928 images for training dataset, 4232 images for validation dataset, and 4232 images for testing dataset.\n"
          ]
        }
      ]
    },
    {
      "cell_type": "markdown",
      "metadata": {
        "id": "3P3FjoVC_dS3"
      },
      "source": [
        "Specifying the folder in which the images will be saved."
      ]
    },
    {
      "cell_type": "code",
      "execution_count": null,
      "metadata": {
        "id": "D5CtB9b1qCet",
        "colab": {
          "base_uri": "https://localhost:8080/"
        },
        "outputId": "6ac12719-a2ed-4a11-83b3-8adb46745831"
      },
      "outputs": [
        {
          "output_type": "stream",
          "name": "stdout",
          "text": [
            "Images will be saved to: Cubes Centred W 13-13 RX 0-45 RY 0-45.\n"
          ]
        }
      ],
      "source": [
        "folder_name = \"Cubes Centred W %s-%s RX %s-%s RY %s-%s\" % (int(width[0]), int(width[-1]), int(rx_train[0]), int(rx_train[-1]), int(ry_train[0]), int(ry_train[-1]))\n",
        "dataset_path = os.path.join(cwd, folder_name)\n",
        "\n",
        "print(\"Images will be saved to: %s.\" % folder_name)"
      ]
    },
    {
      "cell_type": "markdown",
      "metadata": {
        "id": "5Ul6ES-9_n5U"
      },
      "source": [
        "The following function generates images for all combinations of widths, rotations and defects for a specified number of iterations. "
      ]
    },
    {
      "cell_type": "code",
      "execution_count": null,
      "metadata": {
        "id": "FpqTEKgLkSeD"
      },
      "outputs": [],
      "source": [
        "def generate_imgs(shape_class, w, rx, ry, rz, a, iters, blur, save_path, file_type, aug):\n",
        "  \"\"\"\n",
        "  Generates images of simulated nanoparticle with specified parameters and saves\n",
        "  to a specified folder path.\n",
        "\n",
        "  Inputs:\n",
        "    shape_class: shape3D, lattice shape to generate\n",
        "    w: Integer, width of lattice\n",
        "    rx, ry, rz: List, list of Euler angles to rotate lattice\n",
        "    a: Float, lattice spacing\n",
        "    iters: Integer, number of iterations for each rotation\n",
        "    blur: Integer, strength of Gaussian blur\n",
        "    save_path: String, folder to save images\n",
        "    file_type: String, file type to save images as\n",
        "    aug: Boolean, whether or not to apply image augmentations (brightness & channel shift)\n",
        "  \"\"\"\n",
        "  total_rotations = len(rx) * len(ry) * len(rz)\n",
        "  total_images = len(w) * total_rotations * len(d) * iters\n",
        "  counter = 1\n",
        "  for width in w:\n",
        "    for angle_z in rz:\n",
        "      for angle_y in ry:\n",
        "        for angle_x in rx:\n",
        "          for i in range(iters):\n",
        "            print(\"\\rGenerating image %s of %s.\" % (counter, total_images), end='', flush=True)\n",
        "            shape = shape_class(width, angle_x, angle_y, angle_z, a=a, defect=defect, pos_error=np.random.uniform(0.03, 0.045))\n",
        "            shape.save_projection(save_path=save_path, file_type=file_type, blur=blur, iter=i, aug=aug)\n",
        "\n",
        "              counter += 1\n",
        "\n",
        "  print(\"\\rGenerated %s images belonging to %s orientations (%s each).\" % (total_images, total_rotations, int(total_images / total_rotations)), end='', flush=True)\n",
        "\n",
        "  if aug:\n",
        "    print(\" Images were augmented so 3x the number of images were generated.\")"
      ]
    },
    {
      "cell_type": "markdown",
      "metadata": {
        "id": "qrRL15rEAtfH"
      },
      "source": [
        "Generating the training, validation, and testing images."
      ]
    },
    {
      "cell_type": "code",
      "execution_count": null,
      "metadata": {
        "colab": {
          "base_uri": "https://localhost:8080/"
        },
        "id": "Gx8hWK1NnrLY",
        "outputId": "3c52c2ab-6d08-47cc-814a-e97b5a26bcc0"
      },
      "outputs": [
        {
          "output_type": "stream",
          "name": "stdout",
          "text": [
            "\n",
            "Now generating training dataset images...\n",
            "Generated 16928 images belonging to 2116 orientations (8 each).\n",
            "Now generating validation dataset images...\n",
            "Generated 4232 images belonging to 2116 orientations (2 each).\n",
            "Now generating testing dataset images...\n",
            "Generated 4232 images belonging to 2116 orientations (2 each).\n",
            "\n",
            "Done! The time it took is 38m 50s.\n"
          ]
        }
      ],
      "source": [
        "begin_time = datetime.datetime.now()\n",
        "\n",
        "# Generating the training images\n",
        "save_path_train = os.path.join(dataset_path, \"Train DR%s\" % dr_train)\n",
        "\n",
        "print(\"\\nNow generating training dataset images...\")\n",
        "generate_imgs(\n",
        "    shape_class=shape_class,\n",
        "    w=width,\n",
        "    rx=rx_train,\n",
        "    ry=ry_train,\n",
        "    rz=rz,\n",
        "    a=a,\n",
        "    d=d,\n",
        "    iters=iters_train,\n",
        "    blur=blur,\n",
        "    save_path=save_path_train,\n",
        "    file_type=file_type,\n",
        "    aug=False\n",
        ")\n",
        "\n",
        "# Generating the validation images\n",
        "save_path_valid = os.path.join(dataset_path, \"Valid DR%s\" % dr_train)\n",
        "\n",
        "print(\"\\nNow generating validation dataset images...\")\n",
        "generate_imgs(\n",
        "  shape_class=shape_class,\n",
        "  w=width,\n",
        "  rx=rx_train,\n",
        "  ry=ry_train,\n",
        "  rz=rz,\n",
        "  a=a,\n",
        "  d=d,\n",
        "  iters=iters_valid,\n",
        "  blur=blur,\n",
        "  save_path=save_path_valid,\n",
        "  file_type=file_type,\n",
        "  aug=False\n",
        ")\n",
        "\n",
        "# Generating the testing images\n",
        "save_path_test = os.path.join(dataset_path, \"Test DR%s\" % dr_test)\n",
        "\n",
        "print(\"\\nNow generating testing dataset images...\")\n",
        "generate_imgs(\n",
        "  shape_class=shape_class,\n",
        "  w=width,\n",
        "  rx=rx_test,\n",
        "  ry=ry_test,\n",
        "  rz=rz,\n",
        "  a=a,\n",
        "  d=d,\n",
        "  iters=iters_test,\n",
        "  blur=blur,\n",
        "  save_path=save_path_test,\n",
        "  file_type=file_type,\n",
        "  aug=False\n",
        ")\n",
        "\n",
        "plt.close()\n",
        "\n",
        "dt = datetime.datetime.now() - begin_time\n",
        "dt_m = int(dt.total_seconds() // 60)\n",
        "dt_s = int(dt.total_seconds() - (dt_m*60))\n",
        "print(\"\\n\\nDone! The time it took is %sm %ss.\" % (dt_m, dt_s))"
      ]
    },
    {
      "cell_type": "markdown",
      "source": [
        "The specified parameters are saved into a text file."
      ],
      "metadata": {
        "id": "K-HQ2bebC1dJ"
      }
    },
    {
      "cell_type": "code",
      "source": [
        "f = open(os.path.join(dataset_path, \"Configuration.txt\"), \"w\")\n",
        "f.write(\"RX [%s, %s]\\n\" % (rx_train[0], rx_train[-1]))\n",
        "f.write(\"RY [%s, %s]\\n\" % (ry_train[0], ry_train[-1]))\n",
        "f.write(\"Width %s\\n\" % width)\n",
        "f.write(\"a %s\\n\" % a)\n",
        "f.write(\"d %s\\n\" % d)\n",
        "f.write(\"blur %s\\n\" % blur)\n",
        "f.write(\"iters %s\" % iters)\n",
        "f.close()"
      ],
      "metadata": {
        "id": "0E9XC9zdelY7"
      },
      "execution_count": null,
      "outputs": []
    }
  ],
  "metadata": {
    "colab": {
      "collapsed_sections": [],
      "name": "GenerateImages.ipynb",
      "provenance": []
    },
    "kernelspec": {
      "display_name": "Python 3",
      "name": "python3"
    },
    "language_info": {
      "name": "python"
    }
  },
  "nbformat": 4,
  "nbformat_minor": 0
}